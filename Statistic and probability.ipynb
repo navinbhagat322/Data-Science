{
 "cells": [
  {
   "cell_type": "markdown",
   "id": "8d40b566",
   "metadata": {},
   "source": [
    "### Z-Score"
   ]
  },
  {
   "cell_type": "markdown",
   "id": "3bb05337",
   "metadata": {},
   "source": [
    "    Let’s take a simple example to understand how z-score works. \n",
    "    For a sample, we need to check the probability of a value being less than 1150. The sample mean is 1000 and standard    deviation is 100."
   ]
  },
  {
   "cell_type": "code",
   "execution_count": 4,
   "id": "ac2fc557",
   "metadata": {},
   "outputs": [
    {
     "data": {
      "text/plain": [
       "1.5"
      ]
     },
     "execution_count": 4,
     "metadata": {},
     "output_type": "execute_result"
    }
   ],
   "source": [
    "from scipy.stats import norm \n",
    "x=1150  #value of interst\n",
    "mu=1000 #mean \n",
    "sigma= 100 #standard deviation \n",
    "z=(x-mu)/sigma\n",
    "z"
   ]
  },
  {
   "cell_type": "code",
   "execution_count": 5,
   "id": "01a44ddb",
   "metadata": {},
   "outputs": [
    {
     "data": {
      "text/plain": [
       "0.9331927987311419"
      ]
     },
     "execution_count": 5,
     "metadata": {},
     "output_type": "execute_result"
    }
   ],
   "source": [
    "#calculating proability\n",
    "p_value= norm.cdf(z)\n",
    "p_value"
   ]
  },
  {
   "cell_type": "markdown",
   "id": "bb2f5ff1",
   "metadata": {},
   "source": [
    "    The cdf in norm.cdf(z) stands for the cumulative distribution function. The cumulative distribution function is a \n",
    "    fundamental concept in probability and statistics, used to describe the probability that a random variable takes on a \n",
    "    value less than or equal to a given value.\n",
    "\n",
    "    For a standard normal distribution (which has a mean of 0 and a standard deviation of 1), the cdf function calculates \n",
    "    the probability that a normally distributed random variable Z will be less than or equal to z. \n",
    "    Mathematically, this is represented as: 𝑃(𝑍≤𝑧)\n"
   ]
  },
  {
   "cell_type": "code",
   "execution_count": 7,
   "id": "a0865faf",
   "metadata": {},
   "outputs": [
    {
     "data": {
      "image/png": "[encoded data removed]",
      "text/plain": [
       "<Figure size 432x288 with 1 Axes>"
      ]
     },
     "metadata": {
      "needs_background": "light"
     },
     "output_type": "display_data"
    }
   ],
   "source": [
    "import matplotlib.pyplot as plt\n",
    "from scipy.stats import poisson\n",
    "x=[0,1,2,3,4,5]\n",
    "sample=poisson.pmf(3,x)\n",
    "plt.plot(sample,marker='*',color='y')\n",
    "plt.show()"
   ]
  },
  {
   "cell_type": "code",
   "execution_count": 3,
   "id": "28cd173c",
   "metadata": {},
   "outputs": [
    {
     "data": {
      "text/plain": [
       "0.06131324019524039"
      ]
     },
     "execution_count": 3,
     "metadata": {},
     "output_type": "execute_result"
    }
   ],
   "source": [
    "import matplotlib.pyplot as plt\n",
    "from scipy.stats import poisson\n",
    "x=[0,1,2,3,4,5]\n",
    "sample=poisson.pmf(3,1)\n",
    "sample"
   ]
  },
  {
   "cell_type": "code",
   "execution_count": 4,
   "id": "b2193845",
   "metadata": {},
   "outputs": [
    {
     "name": "stdout",
     "output_type": "stream",
     "text": [
      "Help on method pmf in module scipy.stats._distn_infrastructure:\n",
      "\n",
      "pmf(k, *args, **kwds) method of scipy.stats._discrete_distns.poisson_gen instance\n",
      "    Probability mass function at k of the given RV.\n",
      "    \n",
      "    Parameters\n",
      "    ----------\n",
      "    k : array_like\n",
      "        Quantiles.\n",
      "    arg1, arg2, arg3,... : array_like\n",
      "        The shape parameter(s) for the distribution (see docstring of the\n",
      "        instance object for more information)\n",
      "    loc : array_like, optional\n",
      "        Location parameter (default=0).\n",
      "    \n",
      "    Returns\n",
      "    -------\n",
      "    pmf : array_like\n",
      "        Probability mass function evaluated at k\n",
      "\n"
     ]
    }
   ],
   "source": [
    "help(poisson.pmf)"
   ]
  },
  {
   "cell_type": "code",
   "execution_count": 35,
   "id": "82a1b728",
   "metadata": {},
   "outputs": [
    {
     "data": {
      "image/png": "[encoded data removed]",
      "text/plain": [
       "<Figure size 432x288 with 1 Axes>"
      ]
     },
     "metadata": {
      "needs_background": "light"
     },
     "output_type": "display_data"
    }
   ],
   "source": [
    "import matplotlib.pyplot as plt \n",
    "from scipy.stats import norm\n",
    "import numpy as np\n",
    "mean= 5\n",
    "std_dev = 50\n",
    "# list=[np.arange(0,1001)]\n",
    "f=np.linspace(-100,100,1000)\n",
    "sample=norm(mean,std_dev)\n",
    "dist=sample.pdf(f)\n",
    "plt.plot(f,dist)\n",
    "plt.show()\n"
   ]
  },
  {
   "cell_type": "code",
   "execution_count": 21,
   "id": "4449f263",
   "metadata": {},
   "outputs": [
    {
     "data": {
      "text/plain": [
       "[array([  0,   1,   2,   3,   4,   5,   6,   7,   8,   9,  10,  11,  12,\n",
       "         13,  14,  15,  16,  17,  18,  19,  20,  21,  22,  23,  24,  25,\n",
       "         26,  27,  28,  29,  30,  31,  32,  33,  34,  35,  36,  37,  38,\n",
       "         39,  40,  41,  42,  43,  44,  45,  46,  47,  48,  49,  50,  51,\n",
       "         52,  53,  54,  55,  56,  57,  58,  59,  60,  61,  62,  63,  64,\n",
       "         65,  66,  67,  68,  69,  70,  71,  72,  73,  74,  75,  76,  77,\n",
       "         78,  79,  80,  81,  82,  83,  84,  85,  86,  87,  88,  89,  90,\n",
       "         91,  92,  93,  94,  95,  96,  97,  98,  99, 100])]"
      ]
     },
     "execution_count": 21,
     "metadata": {},
     "output_type": "execute_result"
    }
   ],
   "source": [
    "import numpy as np\n",
    "list=[np.arange(0,101,1)]\n",
    "list"
   ]
  },
  {
   "cell_type": "code",
   "execution_count": 32,
   "id": "ef41ef7a",
   "metadata": {},
   "outputs": [
    {
     "data": {
      "text/plain": [
       "array([-100.        ,  -99.7997998 ,  -99.5995996 ,  -99.3993994 ,\n",
       "        -99.1991992 ,  -98.998999  ,  -98.7987988 ,  -98.5985986 ,\n",
       "        -98.3983984 ,  -98.1981982 ,  -97.997998  ,  -97.7977978 ,\n",
       "        -97.5975976 ,  -97.3973974 ,  -97.1971972 ,  -96.996997  ,\n",
       "        -96.7967968 ,  -96.5965966 ,  -96.3963964 ,  -96.1961962 ,\n",
       "        -95.995996  ,  -95.7957958 ,  -95.5955956 ,  -95.3953954 ,\n",
       "        -95.1951952 ,  -94.99499499,  -94.79479479,  -94.59459459,\n",
       "        -94.39439439,  -94.19419419,  -93.99399399,  -93.79379379,\n",
       "        -93.59359359,  -93.39339339,  -93.19319319,  -92.99299299,\n",
       "        -92.79279279,  -92.59259259,  -92.39239239,  -92.19219219,\n",
       "        -91.99199199,  -91.79179179,  -91.59159159,  -91.39139139,\n",
       "        -91.19119119,  -90.99099099,  -90.79079079,  -90.59059059,\n",
       "        -90.39039039,  -90.19019019,  -89.98998999,  -89.78978979,\n",
       "        -89.58958959,  -89.38938939,  -89.18918919,  -88.98898899,\n",
       "        -88.78878879,  -88.58858859,  -88.38838839,  -88.18818819,\n",
       "        -87.98798799,  -87.78778779,  -87.58758759,  -87.38738739,\n",
       "        -87.18718719,  -86.98698699,  -86.78678679,  -86.58658659,\n",
       "        -86.38638639,  -86.18618619,  -85.98598599,  -85.78578579,\n",
       "        -85.58558559,  -85.38538539,  -85.18518519,  -84.98498498,\n",
       "        -84.78478478,  -84.58458458,  -84.38438438,  -84.18418418,\n",
       "        -83.98398398,  -83.78378378,  -83.58358358,  -83.38338338,\n",
       "        -83.18318318,  -82.98298298,  -82.78278278,  -82.58258258,\n",
       "        -82.38238238,  -82.18218218,  -81.98198198,  -81.78178178,\n",
       "        -81.58158158,  -81.38138138,  -81.18118118,  -80.98098098,\n",
       "        -80.78078078,  -80.58058058,  -80.38038038,  -80.18018018,\n",
       "        -79.97997998,  -79.77977978,  -79.57957958,  -79.37937938,\n",
       "        -79.17917918,  -78.97897898,  -78.77877878,  -78.57857858,\n",
       "        -78.37837838,  -78.17817818,  -77.97797798,  -77.77777778,\n",
       "        -77.57757758,  -77.37737738,  -77.17717718,  -76.97697698,\n",
       "        -76.77677678,  -76.57657658,  -76.37637638,  -76.17617618,\n",
       "        -75.97597598,  -75.77577578,  -75.57557558,  -75.37537538,\n",
       "        -75.17517518,  -74.97497497,  -74.77477477,  -74.57457457,\n",
       "        -74.37437437,  -74.17417417,  -73.97397397,  -73.77377377,\n",
       "        -73.57357357,  -73.37337337,  -73.17317317,  -72.97297297,\n",
       "        -72.77277277,  -72.57257257,  -72.37237237,  -72.17217217,\n",
       "        -71.97197197,  -71.77177177,  -71.57157157,  -71.37137137,\n",
       "        -71.17117117,  -70.97097097,  -70.77077077,  -70.57057057,\n",
       "        -70.37037037,  -70.17017017,  -69.96996997,  -69.76976977,\n",
       "        -69.56956957,  -69.36936937,  -69.16916917,  -68.96896897,\n",
       "        -68.76876877,  -68.56856857,  -68.36836837,  -68.16816817,\n",
       "        -67.96796797,  -67.76776777,  -67.56756757,  -67.36736737,\n",
       "        -67.16716717,  -66.96696697,  -66.76676677,  -66.56656657,\n",
       "        -66.36636637,  -66.16616617,  -65.96596597,  -65.76576577,\n",
       "        -65.56556557,  -65.36536537,  -65.16516517,  -64.96496496,\n",
       "        -64.76476476,  -64.56456456,  -64.36436436,  -64.16416416,\n",
       "        -63.96396396,  -63.76376376,  -63.56356356,  -63.36336336,\n",
       "        -63.16316316,  -62.96296296,  -62.76276276,  -62.56256256,\n",
       "        -62.36236236,  -62.16216216,  -61.96196196,  -61.76176176,\n",
       "        -61.56156156,  -61.36136136,  -61.16116116,  -60.96096096,\n",
       "        -60.76076076,  -60.56056056,  -60.36036036,  -60.16016016,\n",
       "        -59.95995996,  -59.75975976,  -59.55955956,  -59.35935936,\n",
       "        -59.15915916,  -58.95895896,  -58.75875876,  -58.55855856,\n",
       "        -58.35835836,  -58.15815816,  -57.95795796,  -57.75775776,\n",
       "        -57.55755756,  -57.35735736,  -57.15715716,  -56.95695696,\n",
       "        -56.75675676,  -56.55655656,  -56.35635636,  -56.15615616,\n",
       "        -55.95595596,  -55.75575576,  -55.55555556,  -55.35535536,\n",
       "        -55.15515516,  -54.95495495,  -54.75475475,  -54.55455455,\n",
       "        -54.35435435,  -54.15415415,  -53.95395395,  -53.75375375,\n",
       "        -53.55355355,  -53.35335335,  -53.15315315,  -52.95295295,\n",
       "        -52.75275275,  -52.55255255,  -52.35235235,  -52.15215215,\n",
       "        -51.95195195,  -51.75175175,  -51.55155155,  -51.35135135,\n",
       "        -51.15115115,  -50.95095095,  -50.75075075,  -50.55055055,\n",
       "        -50.35035035,  -50.15015015,  -49.94994995,  -49.74974975,\n",
       "        -49.54954955,  -49.34934935,  -49.14914915,  -48.94894895,\n",
       "        -48.74874875,  -48.54854855,  -48.34834835,  -48.14814815,\n",
       "        -47.94794795,  -47.74774775,  -47.54754755,  -47.34734735,\n",
       "        -47.14714715,  -46.94694695,  -46.74674675,  -46.54654655,\n",
       "        -46.34634635,  -46.14614615,  -45.94594595,  -45.74574575,\n",
       "        -45.54554555,  -45.34534535,  -45.14514515,  -44.94494494,\n",
       "        -44.74474474,  -44.54454454,  -44.34434434,  -44.14414414,\n",
       "        -43.94394394,  -43.74374374,  -43.54354354,  -43.34334334,\n",
       "        -43.14314314,  -42.94294294,  -42.74274274,  -42.54254254,\n",
       "        -42.34234234,  -42.14214214,  -41.94194194,  -41.74174174,\n",
       "        -41.54154154,  -41.34134134,  -41.14114114,  -40.94094094,\n",
       "        -40.74074074,  -40.54054054,  -40.34034034,  -40.14014014,\n",
       "        -39.93993994,  -39.73973974,  -39.53953954,  -39.33933934,\n",
       "        -39.13913914,  -38.93893894,  -38.73873874,  -38.53853854,\n",
       "        -38.33833834,  -38.13813814,  -37.93793794,  -37.73773774,\n",
       "        -37.53753754,  -37.33733734,  -37.13713714,  -36.93693694,\n",
       "        -36.73673674,  -36.53653654,  -36.33633634,  -36.13613614,\n",
       "        -35.93593594,  -35.73573574,  -35.53553554,  -35.33533534,\n",
       "        -35.13513514,  -34.93493493,  -34.73473473,  -34.53453453,\n",
       "        -34.33433433,  -34.13413413,  -33.93393393,  -33.73373373,\n",
       "        -33.53353353,  -33.33333333,  -33.13313313,  -32.93293293,\n",
       "        -32.73273273,  -32.53253253,  -32.33233233,  -32.13213213,\n",
       "        -31.93193193,  -31.73173173,  -31.53153153,  -31.33133133,\n",
       "        -31.13113113,  -30.93093093,  -30.73073073,  -30.53053053,\n",
       "        -30.33033033,  -30.13013013,  -29.92992993,  -29.72972973,\n",
       "        -29.52952953,  -29.32932933,  -29.12912913,  -28.92892893,\n",
       "        -28.72872873,  -28.52852853,  -28.32832833,  -28.12812813,\n",
       "        -27.92792793,  -27.72772773,  -27.52752753,  -27.32732733,\n",
       "        -27.12712713,  -26.92692693,  -26.72672673,  -26.52652653,\n",
       "        -26.32632633,  -26.12612613,  -25.92592593,  -25.72572573,\n",
       "        -25.52552553,  -25.32532533,  -25.12512513,  -24.92492492,\n",
       "        -24.72472472,  -24.52452452,  -24.32432432,  -24.12412412,\n",
       "        -23.92392392,  -23.72372372,  -23.52352352,  -23.32332332,\n",
       "        -23.12312312,  -22.92292292,  -22.72272272,  -22.52252252,\n",
       "        -22.32232232,  -22.12212212,  -21.92192192,  -21.72172172,\n",
       "        -21.52152152,  -21.32132132,  -21.12112112,  -20.92092092,\n",
       "        -20.72072072,  -20.52052052,  -20.32032032,  -20.12012012,\n",
       "        -19.91991992,  -19.71971972,  -19.51951952,  -19.31931932,\n",
       "        -19.11911912,  -18.91891892,  -18.71871872,  -18.51851852,\n",
       "        -18.31831832,  -18.11811812,  -17.91791792,  -17.71771772,\n",
       "        -17.51751752,  -17.31731732,  -17.11711712,  -16.91691692,\n",
       "        -16.71671672,  -16.51651652,  -16.31631632,  -16.11611612,\n",
       "        -15.91591592,  -15.71571572,  -15.51551552,  -15.31531532,\n",
       "        -15.11511512,  -14.91491491,  -14.71471471,  -14.51451451,\n",
       "        -14.31431431,  -14.11411411,  -13.91391391,  -13.71371371,\n",
       "        -13.51351351,  -13.31331331,  -13.11311311,  -12.91291291,\n",
       "        -12.71271271,  -12.51251251,  -12.31231231,  -12.11211211,\n",
       "        -11.91191191,  -11.71171171,  -11.51151151,  -11.31131131,\n",
       "        -11.11111111,  -10.91091091,  -10.71071071,  -10.51051051,\n",
       "        -10.31031031,  -10.11011011,   -9.90990991,   -9.70970971,\n",
       "         -9.50950951,   -9.30930931,   -9.10910911,   -8.90890891,\n",
       "         -8.70870871,   -8.50850851,   -8.30830831,   -8.10810811,\n",
       "         -7.90790791,   -7.70770771,   -7.50750751,   -7.30730731,\n",
       "         -7.10710711,   -6.90690691,   -6.70670671,   -6.50650651,\n",
       "         -6.30630631,   -6.10610611,   -5.90590591,   -5.70570571,\n",
       "         -5.50550551,   -5.30530531,   -5.10510511,   -4.9049049 ,\n",
       "         -4.7047047 ,   -4.5045045 ,   -4.3043043 ,   -4.1041041 ,\n",
       "         -3.9039039 ,   -3.7037037 ,   -3.5035035 ,   -3.3033033 ,\n",
       "         -3.1031031 ,   -2.9029029 ,   -2.7027027 ,   -2.5025025 ,\n",
       "         -2.3023023 ,   -2.1021021 ,   -1.9019019 ,   -1.7017017 ,\n",
       "         -1.5015015 ,   -1.3013013 ,   -1.1011011 ,   -0.9009009 ,\n",
       "         -0.7007007 ,   -0.5005005 ,   -0.3003003 ,   -0.1001001 ,\n",
       "          0.1001001 ,    0.3003003 ,    0.5005005 ,    0.7007007 ,\n",
       "          0.9009009 ,    1.1011011 ,    1.3013013 ,    1.5015015 ,\n",
       "          1.7017017 ,    1.9019019 ,    2.1021021 ,    2.3023023 ,\n",
       "          2.5025025 ,    2.7027027 ,    2.9029029 ,    3.1031031 ,\n",
       "          3.3033033 ,    3.5035035 ,    3.7037037 ,    3.9039039 ,\n",
       "          4.1041041 ,    4.3043043 ,    4.5045045 ,    4.7047047 ,\n",
       "          4.9049049 ,    5.10510511,    5.30530531,    5.50550551,\n",
       "          5.70570571,    5.90590591,    6.10610611,    6.30630631,\n",
       "          6.50650651,    6.70670671,    6.90690691,    7.10710711,\n",
       "          7.30730731,    7.50750751,    7.70770771,    7.90790791,\n",
       "          8.10810811,    8.30830831,    8.50850851,    8.70870871,\n",
       "          8.90890891,    9.10910911,    9.30930931,    9.50950951,\n",
       "          9.70970971,    9.90990991,   10.11011011,   10.31031031,\n",
       "         10.51051051,   10.71071071,   10.91091091,   11.11111111,\n",
       "         11.31131131,   11.51151151,   11.71171171,   11.91191191,\n",
       "         12.11211211,   12.31231231,   12.51251251,   12.71271271,\n",
       "         12.91291291,   13.11311311,   13.31331331,   13.51351351,\n",
       "         13.71371371,   13.91391391,   14.11411411,   14.31431431,\n",
       "         14.51451451,   14.71471471,   14.91491491,   15.11511512,\n",
       "         15.31531532,   15.51551552,   15.71571572,   15.91591592,\n",
       "         16.11611612,   16.31631632,   16.51651652,   16.71671672,\n",
       "         16.91691692,   17.11711712,   17.31731732,   17.51751752,\n",
       "         17.71771772,   17.91791792,   18.11811812,   18.31831832,\n",
       "         18.51851852,   18.71871872,   18.91891892,   19.11911912,\n",
       "         19.31931932,   19.51951952,   19.71971972,   19.91991992,\n",
       "         20.12012012,   20.32032032,   20.52052052,   20.72072072,\n",
       "         20.92092092,   21.12112112,   21.32132132,   21.52152152,\n",
       "         21.72172172,   21.92192192,   22.12212212,   22.32232232,\n",
       "         22.52252252,   22.72272272,   22.92292292,   23.12312312,\n",
       "         23.32332332,   23.52352352,   23.72372372,   23.92392392,\n",
       "         24.12412412,   24.32432432,   24.52452452,   24.72472472,\n",
       "         24.92492492,   25.12512513,   25.32532533,   25.52552553,\n",
       "         25.72572573,   25.92592593,   26.12612613,   26.32632633,\n",
       "         26.52652653,   26.72672673,   26.92692693,   27.12712713,\n",
       "         27.32732733,   27.52752753,   27.72772773,   27.92792793,\n",
       "         28.12812813,   28.32832833,   28.52852853,   28.72872873,\n",
       "         28.92892893,   29.12912913,   29.32932933,   29.52952953,\n",
       "         29.72972973,   29.92992993,   30.13013013,   30.33033033,\n",
       "         30.53053053,   30.73073073,   30.93093093,   31.13113113,\n",
       "         31.33133133,   31.53153153,   31.73173173,   31.93193193,\n",
       "         32.13213213,   32.33233233,   32.53253253,   32.73273273,\n",
       "         32.93293293,   33.13313313,   33.33333333,   33.53353353,\n",
       "         33.73373373,   33.93393393,   34.13413413,   34.33433433,\n",
       "         34.53453453,   34.73473473,   34.93493493,   35.13513514,\n",
       "         35.33533534,   35.53553554,   35.73573574,   35.93593594,\n",
       "         36.13613614,   36.33633634,   36.53653654,   36.73673674,\n",
       "         36.93693694,   37.13713714,   37.33733734,   37.53753754,\n",
       "         37.73773774,   37.93793794,   38.13813814,   38.33833834,\n",
       "         38.53853854,   38.73873874,   38.93893894,   39.13913914,\n",
       "         39.33933934,   39.53953954,   39.73973974,   39.93993994,\n",
       "         40.14014014,   40.34034034,   40.54054054,   40.74074074,\n",
       "         40.94094094,   41.14114114,   41.34134134,   41.54154154,\n",
       "         41.74174174,   41.94194194,   42.14214214,   42.34234234,\n",
       "         42.54254254,   42.74274274,   42.94294294,   43.14314314,\n",
       "         43.34334334,   43.54354354,   43.74374374,   43.94394394,\n",
       "         44.14414414,   44.34434434,   44.54454454,   44.74474474,\n",
       "         44.94494494,   45.14514515,   45.34534535,   45.54554555,\n",
       "         45.74574575,   45.94594595,   46.14614615,   46.34634635,\n",
       "         46.54654655,   46.74674675,   46.94694695,   47.14714715,\n",
       "         47.34734735,   47.54754755,   47.74774775,   47.94794795,\n",
       "         48.14814815,   48.34834835,   48.54854855,   48.74874875,\n",
       "         48.94894895,   49.14914915,   49.34934935,   49.54954955,\n",
       "         49.74974975,   49.94994995,   50.15015015,   50.35035035,\n",
       "         50.55055055,   50.75075075,   50.95095095,   51.15115115,\n",
       "         51.35135135,   51.55155155,   51.75175175,   51.95195195,\n",
       "         52.15215215,   52.35235235,   52.55255255,   52.75275275,\n",
       "         52.95295295,   53.15315315,   53.35335335,   53.55355355,\n",
       "         53.75375375,   53.95395395,   54.15415415,   54.35435435,\n",
       "         54.55455455,   54.75475475,   54.95495495,   55.15515516,\n",
       "         55.35535536,   55.55555556,   55.75575576,   55.95595596,\n",
       "         56.15615616,   56.35635636,   56.55655656,   56.75675676,\n",
       "         56.95695696,   57.15715716,   57.35735736,   57.55755756,\n",
       "         57.75775776,   57.95795796,   58.15815816,   58.35835836,\n",
       "         58.55855856,   58.75875876,   58.95895896,   59.15915916,\n",
       "         59.35935936,   59.55955956,   59.75975976,   59.95995996,\n",
       "         60.16016016,   60.36036036,   60.56056056,   60.76076076,\n",
       "         60.96096096,   61.16116116,   61.36136136,   61.56156156,\n",
       "         61.76176176,   61.96196196,   62.16216216,   62.36236236,\n",
       "         62.56256256,   62.76276276,   62.96296296,   63.16316316,\n",
       "         63.36336336,   63.56356356,   63.76376376,   63.96396396,\n",
       "         64.16416416,   64.36436436,   64.56456456,   64.76476476,\n",
       "         64.96496496,   65.16516517,   65.36536537,   65.56556557,\n",
       "         65.76576577,   65.96596597,   66.16616617,   66.36636637,\n",
       "         66.56656657,   66.76676677,   66.96696697,   67.16716717,\n",
       "         67.36736737,   67.56756757,   67.76776777,   67.96796797,\n",
       "         68.16816817,   68.36836837,   68.56856857,   68.76876877,\n",
       "         68.96896897,   69.16916917,   69.36936937,   69.56956957,\n",
       "         69.76976977,   69.96996997,   70.17017017,   70.37037037,\n",
       "         70.57057057,   70.77077077,   70.97097097,   71.17117117,\n",
       "         71.37137137,   71.57157157,   71.77177177,   71.97197197,\n",
       "         72.17217217,   72.37237237,   72.57257257,   72.77277277,\n",
       "         72.97297297,   73.17317317,   73.37337337,   73.57357357,\n",
       "         73.77377377,   73.97397397,   74.17417417,   74.37437437,\n",
       "         74.57457457,   74.77477477,   74.97497497,   75.17517518,\n",
       "         75.37537538,   75.57557558,   75.77577578,   75.97597598,\n",
       "         76.17617618,   76.37637638,   76.57657658,   76.77677678,\n",
       "         76.97697698,   77.17717718,   77.37737738,   77.57757758,\n",
       "         77.77777778,   77.97797798,   78.17817818,   78.37837838,\n",
       "         78.57857858,   78.77877878,   78.97897898,   79.17917918,\n",
       "         79.37937938,   79.57957958,   79.77977978,   79.97997998,\n",
       "         80.18018018,   80.38038038,   80.58058058,   80.78078078,\n",
       "         80.98098098,   81.18118118,   81.38138138,   81.58158158,\n",
       "         81.78178178,   81.98198198,   82.18218218,   82.38238238,\n",
       "         82.58258258,   82.78278278,   82.98298298,   83.18318318,\n",
       "         83.38338338,   83.58358358,   83.78378378,   83.98398398,\n",
       "         84.18418418,   84.38438438,   84.58458458,   84.78478478,\n",
       "         84.98498498,   85.18518519,   85.38538539,   85.58558559,\n",
       "         85.78578579,   85.98598599,   86.18618619,   86.38638639,\n",
       "         86.58658659,   86.78678679,   86.98698699,   87.18718719,\n",
       "         87.38738739,   87.58758759,   87.78778779,   87.98798799,\n",
       "         88.18818819,   88.38838839,   88.58858859,   88.78878879,\n",
       "         88.98898899,   89.18918919,   89.38938939,   89.58958959,\n",
       "         89.78978979,   89.98998999,   90.19019019,   90.39039039,\n",
       "         90.59059059,   90.79079079,   90.99099099,   91.19119119,\n",
       "         91.39139139,   91.59159159,   91.79179179,   91.99199199,\n",
       "         92.19219219,   92.39239239,   92.59259259,   92.79279279,\n",
       "         92.99299299,   93.19319319,   93.39339339,   93.59359359,\n",
       "         93.79379379,   93.99399399,   94.19419419,   94.39439439,\n",
       "         94.59459459,   94.79479479,   94.99499499,   95.1951952 ,\n",
       "         95.3953954 ,   95.5955956 ,   95.7957958 ,   95.995996  ,\n",
       "         96.1961962 ,   96.3963964 ,   96.5965966 ,   96.7967968 ,\n",
       "         96.996997  ,   97.1971972 ,   97.3973974 ,   97.5975976 ,\n",
       "         97.7977978 ,   97.997998  ,   98.1981982 ,   98.3983984 ,\n",
       "         98.5985986 ,   98.7987988 ,   98.998999  ,   99.1991992 ,\n",
       "         99.3993994 ,   99.5995996 ,   99.7997998 ,  100.        ])"
      ]
     },
     "execution_count": 32,
     "metadata": {},
     "output_type": "execute_result"
    }
   ],
   "source": [
    "f=np.linspace(-100,100,1000)\n",
    "f"
   ]
  },
  {
   "cell_type": "markdown",
   "id": "48627500",
   "metadata": {},
   "source": [
    "### Hands on Stats_case study"
   ]
  },
  {
   "cell_type": "code",
   "execution_count": 37,
   "id": "db014c94",
   "metadata": {},
   "outputs": [],
   "source": [
    "import numpy as np \n",
    "import pandas as pd\n",
    "import matplotlib.pyplot as plt \n",
    "import seaborn as sns \n",
    "df=pd.read_csv('C:/Users/Navin Kumar/Desktop/coding_jupyter_notebook/DATA/country_profile_variables.csv')"
   ]
  },
  {
   "cell_type": "code",
   "execution_count": 39,
   "id": "fe83393e",
   "metadata": {
    "scrolled": true
   },
   "outputs": [
    {
     "data": {
      "text/html": [
       "<div>\n",
       "<style scoped>\n",
       "    .dataframe tbody tr th:only-of-type {\n",
       "        vertical-align: middle;\n",
       "    }\n",
       "\n",
       "    .dataframe tbody tr th {\n",
       "        vertical-align: top;\n",
       "    }\n",
       "\n",
       "    .dataframe thead th {\n",
       "        text-align: right;\n",
       "    }\n",
       "</style>\n",
       "<table border=\"1\" class=\"dataframe\">\n",
       "  <thead>\n",
       "    <tr style=\"text-align: right;\">\n",
       "      <th></th>\n",
       "      <th>country</th>\n",
       "      <th>Region</th>\n",
       "      <th>Surface area (km2)</th>\n",
       "      <th>Population in thousands (2017)</th>\n",
       "      <th>Population density (per km2, 2017)</th>\n",
       "      <th>Sex ratio (m per 100 f, 2017)</th>\n",
       "      <th>GDP: Gross domestic product (million current US$)</th>\n",
       "      <th>GDP growth rate (annual %, const. 2005 prices)</th>\n",
       "      <th>GDP per capita (current US$)</th>\n",
       "      <th>Economy: Agriculture (% of GVA)</th>\n",
       "      <th>...</th>\n",
       "      <th>Mobile-cellular subscriptions (per 100 inhabitants).1</th>\n",
       "      <th>Individuals using the Internet (per 100 inhabitants)</th>\n",
       "      <th>Threatened species (number)</th>\n",
       "      <th>Forested area (% of land area)</th>\n",
       "      <th>CO2 emission estimates (million tons/tons per capita)</th>\n",
       "      <th>Energy production, primary (Petajoules)</th>\n",
       "      <th>Energy supply per capita (Gigajoules)</th>\n",
       "      <th>Pop. using improved drinking water (urban/rural, %)</th>\n",
       "      <th>Pop. using improved sanitation facilities (urban/rural, %)</th>\n",
       "      <th>Net Official Development Assist. received (% of GNI)</th>\n",
       "    </tr>\n",
       "  </thead>\n",
       "  <tbody>\n",
       "    <tr>\n",
       "      <th>0</th>\n",
       "      <td>Afghanistan</td>\n",
       "      <td>SouthernAsia</td>\n",
       "      <td>652864</td>\n",
       "      <td>35530</td>\n",
       "      <td>54.4</td>\n",
       "      <td>106.3</td>\n",
       "      <td>20270</td>\n",
       "      <td>-2.4</td>\n",
       "      <td>623.2</td>\n",
       "      <td>23.3</td>\n",
       "      <td>...</td>\n",
       "      <td>8.3</td>\n",
       "      <td>42</td>\n",
       "      <td>2.1</td>\n",
       "      <td>9.8/0.3</td>\n",
       "      <td>63</td>\n",
       "      <td>5</td>\n",
       "      <td>78.2/47.0</td>\n",
       "      <td>45.1/27.0</td>\n",
       "      <td>21.43</td>\n",
       "      <td>-99</td>\n",
       "    </tr>\n",
       "    <tr>\n",
       "      <th>1</th>\n",
       "      <td>Albania</td>\n",
       "      <td>SouthernEurope</td>\n",
       "      <td>28748</td>\n",
       "      <td>2930</td>\n",
       "      <td>106.9</td>\n",
       "      <td>101.9</td>\n",
       "      <td>11541</td>\n",
       "      <td>2.6</td>\n",
       "      <td>3984.2</td>\n",
       "      <td>22.4</td>\n",
       "      <td>...</td>\n",
       "      <td>63.3</td>\n",
       "      <td>130</td>\n",
       "      <td>28.2</td>\n",
       "      <td>5.7/2.0</td>\n",
       "      <td>84</td>\n",
       "      <td>36</td>\n",
       "      <td>94.9/95.2</td>\n",
       "      <td>95.5/90.2</td>\n",
       "      <td>2.96</td>\n",
       "      <td>-99</td>\n",
       "    </tr>\n",
       "    <tr>\n",
       "      <th>2</th>\n",
       "      <td>Algeria</td>\n",
       "      <td>NorthernAfrica</td>\n",
       "      <td>2381741</td>\n",
       "      <td>41318</td>\n",
       "      <td>17.3</td>\n",
       "      <td>102.0</td>\n",
       "      <td>164779</td>\n",
       "      <td>3.8</td>\n",
       "      <td>4154.1</td>\n",
       "      <td>12.2</td>\n",
       "      <td>...</td>\n",
       "      <td>38.2</td>\n",
       "      <td>135</td>\n",
       "      <td>0.8</td>\n",
       "      <td>145.4/3.7</td>\n",
       "      <td>5900</td>\n",
       "      <td>55</td>\n",
       "      <td>84.3/81.8</td>\n",
       "      <td>89.8/82.2</td>\n",
       "      <td>0.05</td>\n",
       "      <td>-99</td>\n",
       "    </tr>\n",
       "    <tr>\n",
       "      <th>3</th>\n",
       "      <td>American Samoa</td>\n",
       "      <td>Polynesia</td>\n",
       "      <td>199</td>\n",
       "      <td>56</td>\n",
       "      <td>278.2</td>\n",
       "      <td>103.6</td>\n",
       "      <td>-99</td>\n",
       "      <td>-99</td>\n",
       "      <td>-99.0</td>\n",
       "      <td>-99</td>\n",
       "      <td>...</td>\n",
       "      <td>-99</td>\n",
       "      <td>92</td>\n",
       "      <td>87.9</td>\n",
       "      <td>-99</td>\n",
       "      <td>-99</td>\n",
       "      <td>-99</td>\n",
       "      <td>100.0/100.0</td>\n",
       "      <td>62.5/62.5</td>\n",
       "      <td>-99</td>\n",
       "      <td>-99</td>\n",
       "    </tr>\n",
       "    <tr>\n",
       "      <th>4</th>\n",
       "      <td>Andorra</td>\n",
       "      <td>SouthernEurope</td>\n",
       "      <td>468</td>\n",
       "      <td>77</td>\n",
       "      <td>163.8</td>\n",
       "      <td>102.3</td>\n",
       "      <td>2812</td>\n",
       "      <td>0.8</td>\n",
       "      <td>39896.4</td>\n",
       "      <td>0.5</td>\n",
       "      <td>...</td>\n",
       "      <td>96.9</td>\n",
       "      <td>13</td>\n",
       "      <td>34.0</td>\n",
       "      <td>0.5/6.4</td>\n",
       "      <td>1</td>\n",
       "      <td>119</td>\n",
       "      <td>100.0/100.0</td>\n",
       "      <td>100.0/100.0</td>\n",
       "      <td>-99</td>\n",
       "      <td>-99</td>\n",
       "    </tr>\n",
       "  </tbody>\n",
       "</table>\n",
       "<p>5 rows × 50 columns</p>\n",
       "</div>"
      ],
      "text/plain": [
       "          country          Region Surface area (km2)  \\\n",
       "0     Afghanistan    SouthernAsia             652864   \n",
       "1         Albania  SouthernEurope              28748   \n",
       "2         Algeria  NorthernAfrica            2381741   \n",
       "3  American Samoa       Polynesia                199   \n",
       "4         Andorra  SouthernEurope                468   \n",
       "\n",
       "   Population in thousands (2017)  Population density (per km2, 2017)  \\\n",
       "0                           35530                                54.4   \n",
       "1                            2930                               106.9   \n",
       "2                           41318                                17.3   \n",
       "3                              56                               278.2   \n",
       "4                              77                               163.8   \n",
       "\n",
       "   Sex ratio (m per 100 f, 2017)  \\\n",
       "0                          106.3   \n",
       "1                          101.9   \n",
       "2                          102.0   \n",
       "3                          103.6   \n",
       "4                          102.3   \n",
       "\n",
       "   GDP: Gross domestic product (million current US$)  \\\n",
       "0                                              20270   \n",
       "1                                              11541   \n",
       "2                                             164779   \n",
       "3                                                -99   \n",
       "4                                               2812   \n",
       "\n",
       "  GDP growth rate (annual %, const. 2005 prices)  \\\n",
       "0                                           -2.4   \n",
       "1                                            2.6   \n",
       "2                                            3.8   \n",
       "3                                            -99   \n",
       "4                                            0.8   \n",
       "\n",
       "   GDP per capita (current US$) Economy: Agriculture (% of GVA)  ...  \\\n",
       "0                         623.2                            23.3  ...   \n",
       "1                        3984.2                            22.4  ...   \n",
       "2                        4154.1                            12.2  ...   \n",
       "3                         -99.0                             -99  ...   \n",
       "4                       39896.4                             0.5  ...   \n",
       "\n",
       "   Mobile-cellular subscriptions (per 100 inhabitants).1  \\\n",
       "0                                                8.3       \n",
       "1                                               63.3       \n",
       "2                                               38.2       \n",
       "3                                                -99       \n",
       "4                                               96.9       \n",
       "\n",
       "   Individuals using the Internet (per 100 inhabitants)  \\\n",
       "0                                                 42      \n",
       "1                                                130      \n",
       "2                                                135      \n",
       "3                                                 92      \n",
       "4                                                 13      \n",
       "\n",
       "  Threatened species (number) Forested area (% of land area)  \\\n",
       "0                         2.1                        9.8/0.3   \n",
       "1                        28.2                        5.7/2.0   \n",
       "2                         0.8                      145.4/3.7   \n",
       "3                        87.9                            -99   \n",
       "4                        34.0                        0.5/6.4   \n",
       "\n",
       "  CO2 emission estimates (million tons/tons per capita)  \\\n",
       "0                                                 63      \n",
       "1                                                 84      \n",
       "2                                               5900      \n",
       "3                                                -99      \n",
       "4                                                  1      \n",
       "\n",
       "  Energy production, primary (Petajoules)  \\\n",
       "0                                       5   \n",
       "1                                      36   \n",
       "2                                      55   \n",
       "3                                     -99   \n",
       "4                                     119   \n",
       "\n",
       "  Energy supply per capita (Gigajoules)  \\\n",
       "0                             78.2/47.0   \n",
       "1                             94.9/95.2   \n",
       "2                             84.3/81.8   \n",
       "3                           100.0/100.0   \n",
       "4                           100.0/100.0   \n",
       "\n",
       "   Pop. using improved drinking water (urban/rural, %)  \\\n",
       "0                                          45.1/27.0     \n",
       "1                                          95.5/90.2     \n",
       "2                                          89.8/82.2     \n",
       "3                                          62.5/62.5     \n",
       "4                                        100.0/100.0     \n",
       "\n",
       "   Pop. using improved sanitation facilities (urban/rural, %)  \\\n",
       "0                                              21.43            \n",
       "1                                               2.96            \n",
       "2                                               0.05            \n",
       "3                                                -99            \n",
       "4                                                -99            \n",
       "\n",
       "  Net Official Development Assist. received (% of GNI)  \n",
       "0                                                -99    \n",
       "1                                                -99    \n",
       "2                                                -99    \n",
       "3                                                -99    \n",
       "4                                                -99    \n",
       "\n",
       "[5 rows x 50 columns]"
      ]
     },
     "execution_count": 39,
     "metadata": {},
     "output_type": "execute_result"
    }
   ],
   "source": [
    "df.head()"
   ]
  },
  {
   "cell_type": "markdown",
   "id": "0e3c78bb",
   "metadata": {},
   "source": [
    "#### Sampling"
   ]
  },
  {
   "cell_type": "markdown",
   "id": "de76ceca",
   "metadata": {},
   "source": [
    "sampling -- we took sample of random 25 dataset, for removing unbiasness while picking rows from the dataset \n",
    "we are writing random_state=30 which will suffle the dataset for the 30 times and \n",
    "we are randomly picking our data from the table "
   ]
  },
  {
   "cell_type": "code",
   "execution_count": 43,
   "id": "0af48f57",
   "metadata": {},
   "outputs": [
    {
     "data": {
      "text/html": [
       "<div>\n",
       "<style scoped>\n",
       "    .dataframe tbody tr th:only-of-type {\n",
       "        vertical-align: middle;\n",
       "    }\n",
       "\n",
       "    .dataframe tbody tr th {\n",
       "        vertical-align: top;\n",
       "    }\n",
       "\n",
       "    .dataframe thead th {\n",
       "        text-align: right;\n",
       "    }\n",
       "</style>\n",
       "<table border=\"1\" class=\"dataframe\">\n",
       "  <thead>\n",
       "    <tr style=\"text-align: right;\">\n",
       "      <th></th>\n",
       "      <th>country</th>\n",
       "      <th>Region</th>\n",
       "      <th>Surface area (km2)</th>\n",
       "      <th>Population in thousands (2017)</th>\n",
       "      <th>Population density (per km2, 2017)</th>\n",
       "      <th>Sex ratio (m per 100 f, 2017)</th>\n",
       "      <th>GDP: Gross domestic product (million current US$)</th>\n",
       "      <th>GDP growth rate (annual %, const. 2005 prices)</th>\n",
       "      <th>GDP per capita (current US$)</th>\n",
       "      <th>Economy: Agriculture (% of GVA)</th>\n",
       "      <th>...</th>\n",
       "      <th>Mobile-cellular subscriptions (per 100 inhabitants).1</th>\n",
       "      <th>Individuals using the Internet (per 100 inhabitants)</th>\n",
       "      <th>Threatened species (number)</th>\n",
       "      <th>Forested area (% of land area)</th>\n",
       "      <th>CO2 emission estimates (million tons/tons per capita)</th>\n",
       "      <th>Energy production, primary (Petajoules)</th>\n",
       "      <th>Energy supply per capita (Gigajoules)</th>\n",
       "      <th>Pop. using improved drinking water (urban/rural, %)</th>\n",
       "      <th>Pop. using improved sanitation facilities (urban/rural, %)</th>\n",
       "      <th>Net Official Development Assist. received (% of GNI)</th>\n",
       "    </tr>\n",
       "  </thead>\n",
       "  <tbody>\n",
       "    <tr>\n",
       "      <th>146</th>\n",
       "      <td>Nicaragua</td>\n",
       "      <td>CentralAmerica</td>\n",
       "      <td>130373</td>\n",
       "      <td>6218</td>\n",
       "      <td>51.7</td>\n",
       "      <td>97.2</td>\n",
       "      <td>12693</td>\n",
       "      <td>4.9</td>\n",
       "      <td>2086.9</td>\n",
       "      <td>18.8</td>\n",
       "      <td>...</td>\n",
       "      <td>19.7</td>\n",
       "      <td>144</td>\n",
       "      <td>25.9</td>\n",
       "      <td>4.9/0.8</td>\n",
       "      <td>91</td>\n",
       "      <td>26</td>\n",
       "      <td>99.3/69.4</td>\n",
       "      <td>76.5/55.7</td>\n",
       "      <td>3.68</td>\n",
       "      <td>-99</td>\n",
       "    </tr>\n",
       "    <tr>\n",
       "      <th>84</th>\n",
       "      <td>Guadeloupe</td>\n",
       "      <td>Caribbean</td>\n",
       "      <td>1705</td>\n",
       "      <td>450</td>\n",
       "      <td>266.0</td>\n",
       "      <td>86.4</td>\n",
       "      <td>-99</td>\n",
       "      <td>-99</td>\n",
       "      <td>-99.0</td>\n",
       "      <td>-99</td>\n",
       "      <td>...</td>\n",
       "      <td>-99</td>\n",
       "      <td>73</td>\n",
       "      <td>43.0</td>\n",
       "      <td>2.6/5.5</td>\n",
       "      <td>5</td>\n",
       "      <td>80</td>\n",
       "      <td>99.3/99.8</td>\n",
       "      <td>97.0/89.5</td>\n",
       "      <td>-99</td>\n",
       "      <td>-99</td>\n",
       "    </tr>\n",
       "    <tr>\n",
       "      <th>88</th>\n",
       "      <td>Guinea</td>\n",
       "      <td>WesternAfrica</td>\n",
       "      <td>245857</td>\n",
       "      <td>12717</td>\n",
       "      <td>51.8</td>\n",
       "      <td>100.6</td>\n",
       "      <td>8875</td>\n",
       "      <td>0.1</td>\n",
       "      <td>703.9</td>\n",
       "      <td>19.8</td>\n",
       "      <td>...</td>\n",
       "      <td>4.7</td>\n",
       "      <td>185</td>\n",
       "      <td>26.0</td>\n",
       "      <td>2.4/0.2</td>\n",
       "      <td>113</td>\n",
       "      <td>12</td>\n",
       "      <td>92.7/67.4</td>\n",
       "      <td>34.1/11.8</td>\n",
       "      <td>8.65</td>\n",
       "      <td>-99</td>\n",
       "    </tr>\n",
       "    <tr>\n",
       "      <th>217</th>\n",
       "      <td>United States of America</td>\n",
       "      <td>NorthernAmerica</td>\n",
       "      <td>9833517</td>\n",
       "      <td>324460</td>\n",
       "      <td>35.5</td>\n",
       "      <td>98.0</td>\n",
       "      <td>18036648</td>\n",
       "      <td>2.6</td>\n",
       "      <td>56053.8</td>\n",
       "      <td>1.0</td>\n",
       "      <td>...</td>\n",
       "      <td>74.6</td>\n",
       "      <td>1513</td>\n",
       "      <td>33.9</td>\n",
       "      <td>5254.3/16.2</td>\n",
       "      <td>83887</td>\n",
       "      <td>289</td>\n",
       "      <td>99.4/98.2</td>\n",
       "      <td>100.0/100.0</td>\n",
       "      <td>-99</td>\n",
       "      <td>-99</td>\n",
       "    </tr>\n",
       "    <tr>\n",
       "      <th>123</th>\n",
       "      <td>Maldives</td>\n",
       "      <td>SouthernAsia</td>\n",
       "      <td>300</td>\n",
       "      <td>436</td>\n",
       "      <td>1454.4</td>\n",
       "      <td>131.8</td>\n",
       "      <td>3435</td>\n",
       "      <td>2.8</td>\n",
       "      <td>9446.5</td>\n",
       "      <td>3.1</td>\n",
       "      <td>...</td>\n",
       "      <td>54.5</td>\n",
       "      <td>75</td>\n",
       "      <td>3.3</td>\n",
       "      <td>1.3/3.7</td>\n",
       "      <td>0</td>\n",
       "      <td>54</td>\n",
       "      <td>99.5/97.9</td>\n",
       "      <td>97.5/98.3</td>\n",
       "      <td>0.95</td>\n",
       "      <td>-99</td>\n",
       "    </tr>\n",
       "    <tr>\n",
       "      <th>200</th>\n",
       "      <td>Thailand</td>\n",
       "      <td>South-easternAsia</td>\n",
       "      <td>513120</td>\n",
       "      <td>69038</td>\n",
       "      <td>135.1</td>\n",
       "      <td>95.2</td>\n",
       "      <td>395168</td>\n",
       "      <td>2.8</td>\n",
       "      <td>5814.8</td>\n",
       "      <td>9.1</td>\n",
       "      <td>...</td>\n",
       "      <td>39.3</td>\n",
       "      <td>611</td>\n",
       "      <td>32.0</td>\n",
       "      <td>316.2/4.7</td>\n",
       "      <td>3338</td>\n",
       "      <td>83</td>\n",
       "      <td>97.6/98.0</td>\n",
       "      <td>89.9/96.1</td>\n",
       "      <td>0.02</td>\n",
       "      <td>-99</td>\n",
       "    </tr>\n",
       "    <tr>\n",
       "      <th>141</th>\n",
       "      <td>Nauru</td>\n",
       "      <td>Micronesia</td>\n",
       "      <td>21</td>\n",
       "      <td>11</td>\n",
       "      <td>568.0</td>\n",
       "      <td>101.9</td>\n",
       "      <td>189</td>\n",
       "      <td>18.7</td>\n",
       "      <td>18469.2</td>\n",
       "      <td>3.0</td>\n",
       "      <td>...</td>\n",
       "      <td>54.0</td>\n",
       "      <td>82</td>\n",
       "      <td>0.0</td>\n",
       "      <td>~0.0/4.8</td>\n",
       "      <td>0</td>\n",
       "      <td>63</td>\n",
       "      <td>96.5/...</td>\n",
       "      <td>65.6/...</td>\n",
       "      <td>-99</td>\n",
       "      <td>-99</td>\n",
       "    </tr>\n",
       "    <tr>\n",
       "      <th>26</th>\n",
       "      <td>Bosnia and Herzegovina</td>\n",
       "      <td>SouthernEurope</td>\n",
       "      <td>51209</td>\n",
       "      <td>3507</td>\n",
       "      <td>68.8</td>\n",
       "      <td>96.4</td>\n",
       "      <td>16251</td>\n",
       "      <td>3.1</td>\n",
       "      <td>4265.0</td>\n",
       "      <td>7.3</td>\n",
       "      <td>...</td>\n",
       "      <td>65.1</td>\n",
       "      <td>91</td>\n",
       "      <td>42.7</td>\n",
       "      <td>22.2/5.8</td>\n",
       "      <td>252</td>\n",
       "      <td>85</td>\n",
       "      <td>99.7/100.0</td>\n",
       "      <td>98.9/92.0</td>\n",
       "      <td>2.20</td>\n",
       "      <td>-99</td>\n",
       "    </tr>\n",
       "    <tr>\n",
       "      <th>8</th>\n",
       "      <td>Argentina</td>\n",
       "      <td>SouthAmerica</td>\n",
       "      <td>2780400</td>\n",
       "      <td>44271</td>\n",
       "      <td>16.2</td>\n",
       "      <td>95.9</td>\n",
       "      <td>632343</td>\n",
       "      <td>2.4</td>\n",
       "      <td>14564.5</td>\n",
       "      <td>6.0</td>\n",
       "      <td>...</td>\n",
       "      <td>69.4</td>\n",
       "      <td>256</td>\n",
       "      <td>10.0</td>\n",
       "      <td>204.0/4.7</td>\n",
       "      <td>3167</td>\n",
       "      <td>85</td>\n",
       "      <td>99.0/100.0</td>\n",
       "      <td>96.2/98.3</td>\n",
       "      <td>0.01</td>\n",
       "      <td>-99</td>\n",
       "    </tr>\n",
       "    <tr>\n",
       "      <th>112</th>\n",
       "      <td>Latvia</td>\n",
       "      <td>NorthernEurope</td>\n",
       "      <td>64573</td>\n",
       "      <td>1950</td>\n",
       "      <td>31.3</td>\n",
       "      <td>84.9</td>\n",
       "      <td>27004</td>\n",
       "      <td>2.7</td>\n",
       "      <td>13704.1</td>\n",
       "      <td>3.2</td>\n",
       "      <td>...</td>\n",
       "      <td>79.2</td>\n",
       "      <td>30</td>\n",
       "      <td>54.0</td>\n",
       "      <td>7.0/3.5</td>\n",
       "      <td>108</td>\n",
       "      <td>99</td>\n",
       "      <td>99.8/98.3</td>\n",
       "      <td>90.8/81.5</td>\n",
       "      <td>-99</td>\n",
       "      <td>-99</td>\n",
       "    </tr>\n",
       "    <tr>\n",
       "      <th>157</th>\n",
       "      <td>Paraguay</td>\n",
       "      <td>SouthAmerica</td>\n",
       "      <td>406752</td>\n",
       "      <td>6811</td>\n",
       "      <td>17.1</td>\n",
       "      <td>102.9</td>\n",
       "      <td>27714</td>\n",
       "      <td>3.1</td>\n",
       "      <td>4174.4</td>\n",
       "      <td>19.0</td>\n",
       "      <td>...</td>\n",
       "      <td>44.4</td>\n",
       "      <td>59</td>\n",
       "      <td>39.4</td>\n",
       "      <td>5.7/0.9</td>\n",
       "      <td>325</td>\n",
       "      <td>38</td>\n",
       "      <td>100.0/94.9</td>\n",
       "      <td>95.5/78.4</td>\n",
       "      <td>0.22</td>\n",
       "      <td>-99</td>\n",
       "    </tr>\n",
       "    <tr>\n",
       "      <th>24</th>\n",
       "      <td>Bolivia (Plurinational State of)</td>\n",
       "      <td>SouthAmerica</td>\n",
       "      <td>1098581</td>\n",
       "      <td>11052</td>\n",
       "      <td>10.2</td>\n",
       "      <td>100.2</td>\n",
       "      <td>32998</td>\n",
       "      <td>4.8</td>\n",
       "      <td>3076.8</td>\n",
       "      <td>12.6</td>\n",
       "      <td>...</td>\n",
       "      <td>45.1</td>\n",
       "      <td>231</td>\n",
       "      <td>50.8</td>\n",
       "      <td>20.4/1.9</td>\n",
       "      <td>962</td>\n",
       "      <td>32</td>\n",
       "      <td>96.7/75.6</td>\n",
       "      <td>60.8/27.5</td>\n",
       "      <td>2.38</td>\n",
       "      <td>-99</td>\n",
       "    </tr>\n",
       "    <tr>\n",
       "      <th>224</th>\n",
       "      <td>Wallis and Futuna Islands</td>\n",
       "      <td>Polynesia</td>\n",
       "      <td>142</td>\n",
       "      <td>12</td>\n",
       "      <td>84.1</td>\n",
       "      <td>93.4</td>\n",
       "      <td>-99</td>\n",
       "      <td>-99</td>\n",
       "      <td>-99.0</td>\n",
       "      <td>-99</td>\n",
       "      <td>...</td>\n",
       "      <td>9.0</td>\n",
       "      <td>89</td>\n",
       "      <td>41.6</td>\n",
       "      <td>~0.0/1.6</td>\n",
       "      <td>-99</td>\n",
       "      <td>26</td>\n",
       "      <td>-99</td>\n",
       "      <td>-99</td>\n",
       "      <td>-99</td>\n",
       "      <td>-99</td>\n",
       "    </tr>\n",
       "    <tr>\n",
       "      <th>77</th>\n",
       "      <td>Georgia</td>\n",
       "      <td>WesternAsia</td>\n",
       "      <td>69700</td>\n",
       "      <td>3912</td>\n",
       "      <td>56.3</td>\n",
       "      <td>91.4</td>\n",
       "      <td>13965</td>\n",
       "      <td>2.8</td>\n",
       "      <td>3491.4</td>\n",
       "      <td>9.0</td>\n",
       "      <td>...</td>\n",
       "      <td>45.2</td>\n",
       "      <td>120</td>\n",
       "      <td>40.6</td>\n",
       "      <td>9.0/2.2</td>\n",
       "      <td>61</td>\n",
       "      <td>47</td>\n",
       "      <td>100.0/100.0</td>\n",
       "      <td>95.2/75.9</td>\n",
       "      <td>3.30</td>\n",
       "      <td>-99</td>\n",
       "    </tr>\n",
       "    <tr>\n",
       "      <th>63</th>\n",
       "      <td>El Salvador</td>\n",
       "      <td>CentralAmerica</td>\n",
       "      <td>21041</td>\n",
       "      <td>6378</td>\n",
       "      <td>307.8</td>\n",
       "      <td>88.5</td>\n",
       "      <td>25850</td>\n",
       "      <td>2.5</td>\n",
       "      <td>4219.4</td>\n",
       "      <td>10.8</td>\n",
       "      <td>...</td>\n",
       "      <td>26.9</td>\n",
       "      <td>86</td>\n",
       "      <td>13.0</td>\n",
       "      <td>6.3/1.0</td>\n",
       "      <td>86</td>\n",
       "      <td>28</td>\n",
       "      <td>97.5/86.5</td>\n",
       "      <td>82.4/60.0</td>\n",
       "      <td>0.36</td>\n",
       "      <td>-99</td>\n",
       "    </tr>\n",
       "    <tr>\n",
       "      <th>100</th>\n",
       "      <td>Isle of Man</td>\n",
       "      <td>NorthernEurope</td>\n",
       "      <td>572</td>\n",
       "      <td>84</td>\n",
       "      <td>147.9</td>\n",
       "      <td>98.2</td>\n",
       "      <td>-99</td>\n",
       "      <td>-99</td>\n",
       "      <td>-99.0</td>\n",
       "      <td>-99</td>\n",
       "      <td>...</td>\n",
       "      <td>-99</td>\n",
       "      <td>3</td>\n",
       "      <td>6.1</td>\n",
       "      <td>-99</td>\n",
       "      <td>0</td>\n",
       "      <td>3</td>\n",
       "      <td>-99</td>\n",
       "      <td>-99</td>\n",
       "      <td>-99</td>\n",
       "      <td>-99</td>\n",
       "    </tr>\n",
       "    <tr>\n",
       "      <th>85</th>\n",
       "      <td>Guam</td>\n",
       "      <td>Micronesia</td>\n",
       "      <td>549</td>\n",
       "      <td>164</td>\n",
       "      <td>304.1</td>\n",
       "      <td>102.6</td>\n",
       "      <td>-99</td>\n",
       "      <td>-99</td>\n",
       "      <td>-99.0</td>\n",
       "      <td>-99</td>\n",
       "      <td>...</td>\n",
       "      <td>73.1</td>\n",
       "      <td>99</td>\n",
       "      <td>46.3</td>\n",
       "      <td>-99</td>\n",
       "      <td>-99</td>\n",
       "      <td>-99</td>\n",
       "      <td>99.5/99.5</td>\n",
       "      <td>89.8/89.8</td>\n",
       "      <td>-99</td>\n",
       "      <td>-99</td>\n",
       "    </tr>\n",
       "    <tr>\n",
       "      <th>94</th>\n",
       "      <td>Iceland</td>\n",
       "      <td>NorthernEurope</td>\n",
       "      <td>103000</td>\n",
       "      <td>335</td>\n",
       "      <td>3.3</td>\n",
       "      <td>100.7</td>\n",
       "      <td>16780</td>\n",
       "      <td>4.2</td>\n",
       "      <td>50936.0</td>\n",
       "      <td>6.4</td>\n",
       "      <td>...</td>\n",
       "      <td>98.2</td>\n",
       "      <td>27</td>\n",
       "      <td>0.5</td>\n",
       "      <td>2.0/6.1</td>\n",
       "      <td>284</td>\n",
       "      <td>952</td>\n",
       "      <td>100.0/100.0</td>\n",
       "      <td>98.7/100.0</td>\n",
       "      <td>-99</td>\n",
       "      <td>-99</td>\n",
       "    </tr>\n",
       "    <tr>\n",
       "      <th>117</th>\n",
       "      <td>Liechtenstein</td>\n",
       "      <td>WesternEurope</td>\n",
       "      <td>160</td>\n",
       "      <td>38</td>\n",
       "      <td>237.0</td>\n",
       "      <td>98.4</td>\n",
       "      <td>6361</td>\n",
       "      <td>1.4</td>\n",
       "      <td>169491.8</td>\n",
       "      <td>0.7</td>\n",
       "      <td>...</td>\n",
       "      <td>96.6</td>\n",
       "      <td>6</td>\n",
       "      <td>43.1</td>\n",
       "      <td>~0.0/1.1</td>\n",
       "      <td>1</td>\n",
       "      <td>74</td>\n",
       "      <td>-99</td>\n",
       "      <td>-99</td>\n",
       "      <td>-99</td>\n",
       "      <td>-99</td>\n",
       "    </tr>\n",
       "    <tr>\n",
       "      <th>48</th>\n",
       "      <td>Congo</td>\n",
       "      <td>MiddleAfrica</td>\n",
       "      <td>342000</td>\n",
       "      <td>5261</td>\n",
       "      <td>15.4</td>\n",
       "      <td>100.1</td>\n",
       "      <td>8493</td>\n",
       "      <td>1.2</td>\n",
       "      <td>1838.1</td>\n",
       "      <td>4.7</td>\n",
       "      <td>...</td>\n",
       "      <td>7.6</td>\n",
       "      <td>134</td>\n",
       "      <td>65.4</td>\n",
       "      <td>3.1/0.7</td>\n",
       "      <td>648</td>\n",
       "      <td>24</td>\n",
       "      <td>95.8/40.0</td>\n",
       "      <td>20.0/5.6</td>\n",
       "      <td>1.05</td>\n",
       "      <td>-99</td>\n",
       "    </tr>\n",
       "    <tr>\n",
       "      <th>54</th>\n",
       "      <td>Czechia</td>\n",
       "      <td>EasternEurope</td>\n",
       "      <td>78868</td>\n",
       "      <td>10618</td>\n",
       "      <td>137.5</td>\n",
       "      <td>96.7</td>\n",
       "      <td>185156</td>\n",
       "      <td>4.5</td>\n",
       "      <td>17561.7</td>\n",
       "      <td>2.5</td>\n",
       "      <td>...</td>\n",
       "      <td>81.3</td>\n",
       "      <td>53</td>\n",
       "      <td>34.5</td>\n",
       "      <td>96.5/9.2</td>\n",
       "      <td>1221</td>\n",
       "      <td>164</td>\n",
       "      <td>100.0/100.0</td>\n",
       "      <td>99.1/99.2</td>\n",
       "      <td>-99</td>\n",
       "      <td>-99</td>\n",
       "    </tr>\n",
       "    <tr>\n",
       "      <th>218</th>\n",
       "      <td>United States Virgin Islands</td>\n",
       "      <td>Caribbean</td>\n",
       "      <td>347</td>\n",
       "      <td>105</td>\n",
       "      <td>299.7</td>\n",
       "      <td>91.1</td>\n",
       "      <td>-99</td>\n",
       "      <td>-99</td>\n",
       "      <td>-99.0</td>\n",
       "      <td>-99</td>\n",
       "      <td>...</td>\n",
       "      <td>54.8</td>\n",
       "      <td>58</td>\n",
       "      <td>50.6</td>\n",
       "      <td>-99</td>\n",
       "      <td>-99</td>\n",
       "      <td>-99</td>\n",
       "      <td>100.0/100.0</td>\n",
       "      <td>96.4/96.4</td>\n",
       "      <td>-99</td>\n",
       "      <td>-99</td>\n",
       "    </tr>\n",
       "    <tr>\n",
       "      <th>21</th>\n",
       "      <td>Benin</td>\n",
       "      <td>WesternAfrica</td>\n",
       "      <td>114763</td>\n",
       "      <td>11176</td>\n",
       "      <td>99.1</td>\n",
       "      <td>99.5</td>\n",
       "      <td>8476</td>\n",
       "      <td>5.2</td>\n",
       "      <td>779.1</td>\n",
       "      <td>23.2</td>\n",
       "      <td>...</td>\n",
       "      <td>6.8</td>\n",
       "      <td>88</td>\n",
       "      <td>38.7</td>\n",
       "      <td>6.3/0.6</td>\n",
       "      <td>96</td>\n",
       "      <td>17</td>\n",
       "      <td>85.2/72.1</td>\n",
       "      <td>35.6/7.3</td>\n",
       "      <td>5.09</td>\n",
       "      <td>-99</td>\n",
       "    </tr>\n",
       "    <tr>\n",
       "      <th>20</th>\n",
       "      <td>Belize</td>\n",
       "      <td>CentralAmerica</td>\n",
       "      <td>22966</td>\n",
       "      <td>375</td>\n",
       "      <td>16.4</td>\n",
       "      <td>99.2</td>\n",
       "      <td>1721</td>\n",
       "      <td>1.2</td>\n",
       "      <td>4789.4</td>\n",
       "      <td>14.6</td>\n",
       "      <td>...</td>\n",
       "      <td>41.6</td>\n",
       "      <td>117</td>\n",
       "      <td>60.1</td>\n",
       "      <td>0.5/1.4</td>\n",
       "      <td>9</td>\n",
       "      <td>36</td>\n",
       "      <td>98.9/100.0</td>\n",
       "      <td>93.5/88.2</td>\n",
       "      <td>1.68</td>\n",
       "      <td>-99</td>\n",
       "    </tr>\n",
       "    <tr>\n",
       "      <th>222</th>\n",
       "      <td>Venezuela (Bolivarian Republic of)</td>\n",
       "      <td>SouthAmerica</td>\n",
       "      <td>912050</td>\n",
       "      <td>31977</td>\n",
       "      <td>36.3</td>\n",
       "      <td>99.0</td>\n",
       "      <td>344331</td>\n",
       "      <td>-6.2</td>\n",
       "      <td>11068.9</td>\n",
       "      <td>5.3</td>\n",
       "      <td>...</td>\n",
       "      <td>61.9</td>\n",
       "      <td>328</td>\n",
       "      <td>53.1</td>\n",
       "      <td>185.2/6.1</td>\n",
       "      <td>7460</td>\n",
       "      <td>90</td>\n",
       "      <td>95.0/77.9</td>\n",
       "      <td>97.5/69.9</td>\n",
       "      <td>0.01</td>\n",
       "      <td>-99</td>\n",
       "    </tr>\n",
       "  </tbody>\n",
       "</table>\n",
       "<p>25 rows × 50 columns</p>\n",
       "</div>"
      ],
      "text/plain": [
       "                                country             Region Surface area (km2)  \\\n",
       "146                           Nicaragua     CentralAmerica             130373   \n",
       "84                           Guadeloupe          Caribbean               1705   \n",
       "88                               Guinea      WesternAfrica             245857   \n",
       "217            United States of America    NorthernAmerica            9833517   \n",
       "123                            Maldives       SouthernAsia                300   \n",
       "200                            Thailand  South-easternAsia             513120   \n",
       "141                               Nauru         Micronesia                 21   \n",
       "26               Bosnia and Herzegovina     SouthernEurope              51209   \n",
       "8                             Argentina       SouthAmerica            2780400   \n",
       "112                              Latvia     NorthernEurope              64573   \n",
       "157                            Paraguay       SouthAmerica             406752   \n",
       "24     Bolivia (Plurinational State of)       SouthAmerica            1098581   \n",
       "224           Wallis and Futuna Islands          Polynesia                142   \n",
       "77                              Georgia        WesternAsia              69700   \n",
       "63                          El Salvador     CentralAmerica              21041   \n",
       "100                         Isle of Man     NorthernEurope                572   \n",
       "85                                 Guam         Micronesia                549   \n",
       "94                              Iceland     NorthernEurope             103000   \n",
       "117                       Liechtenstein      WesternEurope                160   \n",
       "48                                Congo       MiddleAfrica             342000   \n",
       "54                              Czechia      EasternEurope              78868   \n",
       "218        United States Virgin Islands          Caribbean                347   \n",
       "21                                Benin      WesternAfrica             114763   \n",
       "20                               Belize     CentralAmerica              22966   \n",
       "222  Venezuela (Bolivarian Republic of)       SouthAmerica             912050   \n",
       "\n",
       "     Population in thousands (2017)  Population density (per km2, 2017)  \\\n",
       "146                            6218                                51.7   \n",
       "84                              450                               266.0   \n",
       "88                            12717                                51.8   \n",
       "217                          324460                                35.5   \n",
       "123                             436                              1454.4   \n",
       "200                           69038                               135.1   \n",
       "141                              11                               568.0   \n",
       "26                             3507                                68.8   \n",
       "8                             44271                                16.2   \n",
       "112                            1950                                31.3   \n",
       "157                            6811                                17.1   \n",
       "24                            11052                                10.2   \n",
       "224                              12                                84.1   \n",
       "77                             3912                                56.3   \n",
       "63                             6378                               307.8   \n",
       "100                              84                               147.9   \n",
       "85                              164                               304.1   \n",
       "94                              335                                 3.3   \n",
       "117                              38                               237.0   \n",
       "48                             5261                                15.4   \n",
       "54                            10618                               137.5   \n",
       "218                             105                               299.7   \n",
       "21                            11176                                99.1   \n",
       "20                              375                                16.4   \n",
       "222                           31977                                36.3   \n",
       "\n",
       "     Sex ratio (m per 100 f, 2017)  \\\n",
       "146                           97.2   \n",
       "84                            86.4   \n",
       "88                           100.6   \n",
       "217                           98.0   \n",
       "123                          131.8   \n",
       "200                           95.2   \n",
       "141                          101.9   \n",
       "26                            96.4   \n",
       "8                             95.9   \n",
       "112                           84.9   \n",
       "157                          102.9   \n",
       "24                           100.2   \n",
       "224                           93.4   \n",
       "77                            91.4   \n",
       "63                            88.5   \n",
       "100                           98.2   \n",
       "85                           102.6   \n",
       "94                           100.7   \n",
       "117                           98.4   \n",
       "48                           100.1   \n",
       "54                            96.7   \n",
       "218                           91.1   \n",
       "21                            99.5   \n",
       "20                            99.2   \n",
       "222                           99.0   \n",
       "\n",
       "     GDP: Gross domestic product (million current US$)  \\\n",
       "146                                              12693   \n",
       "84                                                 -99   \n",
       "88                                                8875   \n",
       "217                                           18036648   \n",
       "123                                               3435   \n",
       "200                                             395168   \n",
       "141                                                189   \n",
       "26                                               16251   \n",
       "8                                               632343   \n",
       "112                                              27004   \n",
       "157                                              27714   \n",
       "24                                               32998   \n",
       "224                                                -99   \n",
       "77                                               13965   \n",
       "63                                               25850   \n",
       "100                                                -99   \n",
       "85                                                 -99   \n",
       "94                                               16780   \n",
       "117                                               6361   \n",
       "48                                                8493   \n",
       "54                                              185156   \n",
       "218                                                -99   \n",
       "21                                                8476   \n",
       "20                                                1721   \n",
       "222                                             344331   \n",
       "\n",
       "    GDP growth rate (annual %, const. 2005 prices)  \\\n",
       "146                                            4.9   \n",
       "84                                             -99   \n",
       "88                                             0.1   \n",
       "217                                            2.6   \n",
       "123                                            2.8   \n",
       "200                                            2.8   \n",
       "141                                           18.7   \n",
       "26                                             3.1   \n",
       "8                                              2.4   \n",
       "112                                            2.7   \n",
       "157                                            3.1   \n",
       "24                                             4.8   \n",
       "224                                            -99   \n",
       "77                                             2.8   \n",
       "63                                             2.5   \n",
       "100                                            -99   \n",
       "85                                             -99   \n",
       "94                                             4.2   \n",
       "117                                            1.4   \n",
       "48                                             1.2   \n",
       "54                                             4.5   \n",
       "218                                            -99   \n",
       "21                                             5.2   \n",
       "20                                             1.2   \n",
       "222                                           -6.2   \n",
       "\n",
       "     GDP per capita (current US$) Economy: Agriculture (% of GVA)  ...  \\\n",
       "146                        2086.9                            18.8  ...   \n",
       "84                          -99.0                             -99  ...   \n",
       "88                          703.9                            19.8  ...   \n",
       "217                       56053.8                             1.0  ...   \n",
       "123                        9446.5                             3.1  ...   \n",
       "200                        5814.8                             9.1  ...   \n",
       "141                       18469.2                             3.0  ...   \n",
       "26                         4265.0                             7.3  ...   \n",
       "8                         14564.5                             6.0  ...   \n",
       "112                       13704.1                             3.2  ...   \n",
       "157                        4174.4                            19.0  ...   \n",
       "24                         3076.8                            12.6  ...   \n",
       "224                         -99.0                             -99  ...   \n",
       "77                         3491.4                             9.0  ...   \n",
       "63                         4219.4                            10.8  ...   \n",
       "100                         -99.0                             -99  ...   \n",
       "85                          -99.0                             -99  ...   \n",
       "94                        50936.0                             6.4  ...   \n",
       "117                      169491.8                             0.7  ...   \n",
       "48                         1838.1                             4.7  ...   \n",
       "54                        17561.7                             2.5  ...   \n",
       "218                         -99.0                             -99  ...   \n",
       "21                          779.1                            23.2  ...   \n",
       "20                         4789.4                            14.6  ...   \n",
       "222                       11068.9                             5.3  ...   \n",
       "\n",
       "     Mobile-cellular subscriptions (per 100 inhabitants).1  \\\n",
       "146                                               19.7       \n",
       "84                                                 -99       \n",
       "88                                                 4.7       \n",
       "217                                               74.6       \n",
       "123                                               54.5       \n",
       "200                                               39.3       \n",
       "141                                               54.0       \n",
       "26                                                65.1       \n",
       "8                                                 69.4       \n",
       "112                                               79.2       \n",
       "157                                               44.4       \n",
       "24                                                45.1       \n",
       "224                                                9.0       \n",
       "77                                                45.2       \n",
       "63                                                26.9       \n",
       "100                                                -99       \n",
       "85                                                73.1       \n",
       "94                                                98.2       \n",
       "117                                               96.6       \n",
       "48                                                 7.6       \n",
       "54                                                81.3       \n",
       "218                                               54.8       \n",
       "21                                                 6.8       \n",
       "20                                                41.6       \n",
       "222                                               61.9       \n",
       "\n",
       "     Individuals using the Internet (per 100 inhabitants)  \\\n",
       "146                                                144      \n",
       "84                                                  73      \n",
       "88                                                 185      \n",
       "217                                               1513      \n",
       "123                                                 75      \n",
       "200                                                611      \n",
       "141                                                 82      \n",
       "26                                                  91      \n",
       "8                                                  256      \n",
       "112                                                 30      \n",
       "157                                                 59      \n",
       "24                                                 231      \n",
       "224                                                 89      \n",
       "77                                                 120      \n",
       "63                                                  86      \n",
       "100                                                  3      \n",
       "85                                                  99      \n",
       "94                                                  27      \n",
       "117                                                  6      \n",
       "48                                                 134      \n",
       "54                                                  53      \n",
       "218                                                 58      \n",
       "21                                                  88      \n",
       "20                                                 117      \n",
       "222                                                328      \n",
       "\n",
       "    Threatened species (number) Forested area (% of land area)  \\\n",
       "146                        25.9                        4.9/0.8   \n",
       "84                         43.0                        2.6/5.5   \n",
       "88                         26.0                        2.4/0.2   \n",
       "217                        33.9                    5254.3/16.2   \n",
       "123                         3.3                        1.3/3.7   \n",
       "200                        32.0                      316.2/4.7   \n",
       "141                         0.0                       ~0.0/4.8   \n",
       "26                         42.7                       22.2/5.8   \n",
       "8                          10.0                      204.0/4.7   \n",
       "112                        54.0                        7.0/3.5   \n",
       "157                        39.4                        5.7/0.9   \n",
       "24                         50.8                       20.4/1.9   \n",
       "224                        41.6                       ~0.0/1.6   \n",
       "77                         40.6                        9.0/2.2   \n",
       "63                         13.0                        6.3/1.0   \n",
       "100                         6.1                            -99   \n",
       "85                         46.3                            -99   \n",
       "94                          0.5                        2.0/6.1   \n",
       "117                        43.1                       ~0.0/1.1   \n",
       "48                         65.4                        3.1/0.7   \n",
       "54                         34.5                       96.5/9.2   \n",
       "218                        50.6                            -99   \n",
       "21                         38.7                        6.3/0.6   \n",
       "20                         60.1                        0.5/1.4   \n",
       "222                        53.1                      185.2/6.1   \n",
       "\n",
       "    CO2 emission estimates (million tons/tons per capita)  \\\n",
       "146                                                 91      \n",
       "84                                                   5      \n",
       "88                                                 113      \n",
       "217                                              83887      \n",
       "123                                                  0      \n",
       "200                                               3338      \n",
       "141                                                  0      \n",
       "26                                                 252      \n",
       "8                                                 3167      \n",
       "112                                                108      \n",
       "157                                                325      \n",
       "24                                                 962      \n",
       "224                                                -99      \n",
       "77                                                  61      \n",
       "63                                                  86      \n",
       "100                                                  0      \n",
       "85                                                 -99      \n",
       "94                                                 284      \n",
       "117                                                  1      \n",
       "48                                                 648      \n",
       "54                                                1221      \n",
       "218                                                -99      \n",
       "21                                                  96      \n",
       "20                                                   9      \n",
       "222                                               7460      \n",
       "\n",
       "    Energy production, primary (Petajoules)  \\\n",
       "146                                      26   \n",
       "84                                       80   \n",
       "88                                       12   \n",
       "217                                     289   \n",
       "123                                      54   \n",
       "200                                      83   \n",
       "141                                      63   \n",
       "26                                       85   \n",
       "8                                        85   \n",
       "112                                      99   \n",
       "157                                      38   \n",
       "24                                       32   \n",
       "224                                      26   \n",
       "77                                       47   \n",
       "63                                       28   \n",
       "100                                       3   \n",
       "85                                      -99   \n",
       "94                                      952   \n",
       "117                                      74   \n",
       "48                                       24   \n",
       "54                                      164   \n",
       "218                                     -99   \n",
       "21                                       17   \n",
       "20                                       36   \n",
       "222                                      90   \n",
       "\n",
       "    Energy supply per capita (Gigajoules)  \\\n",
       "146                             99.3/69.4   \n",
       "84                              99.3/99.8   \n",
       "88                              92.7/67.4   \n",
       "217                             99.4/98.2   \n",
       "123                             99.5/97.9   \n",
       "200                             97.6/98.0   \n",
       "141                              96.5/...   \n",
       "26                             99.7/100.0   \n",
       "8                              99.0/100.0   \n",
       "112                             99.8/98.3   \n",
       "157                            100.0/94.9   \n",
       "24                              96.7/75.6   \n",
       "224                                   -99   \n",
       "77                            100.0/100.0   \n",
       "63                              97.5/86.5   \n",
       "100                                   -99   \n",
       "85                              99.5/99.5   \n",
       "94                            100.0/100.0   \n",
       "117                                   -99   \n",
       "48                              95.8/40.0   \n",
       "54                            100.0/100.0   \n",
       "218                           100.0/100.0   \n",
       "21                              85.2/72.1   \n",
       "20                             98.9/100.0   \n",
       "222                             95.0/77.9   \n",
       "\n",
       "     Pop. using improved drinking water (urban/rural, %)  \\\n",
       "146                                          76.5/55.7     \n",
       "84                                           97.0/89.5     \n",
       "88                                           34.1/11.8     \n",
       "217                                        100.0/100.0     \n",
       "123                                          97.5/98.3     \n",
       "200                                          89.9/96.1     \n",
       "141                                           65.6/...     \n",
       "26                                           98.9/92.0     \n",
       "8                                            96.2/98.3     \n",
       "112                                          90.8/81.5     \n",
       "157                                          95.5/78.4     \n",
       "24                                           60.8/27.5     \n",
       "224                                                -99     \n",
       "77                                           95.2/75.9     \n",
       "63                                           82.4/60.0     \n",
       "100                                                -99     \n",
       "85                                           89.8/89.8     \n",
       "94                                          98.7/100.0     \n",
       "117                                                -99     \n",
       "48                                            20.0/5.6     \n",
       "54                                           99.1/99.2     \n",
       "218                                          96.4/96.4     \n",
       "21                                            35.6/7.3     \n",
       "20                                           93.5/88.2     \n",
       "222                                          97.5/69.9     \n",
       "\n",
       "     Pop. using improved sanitation facilities (urban/rural, %)  \\\n",
       "146                                               3.68            \n",
       "84                                                 -99            \n",
       "88                                                8.65            \n",
       "217                                                -99            \n",
       "123                                               0.95            \n",
       "200                                               0.02            \n",
       "141                                                -99            \n",
       "26                                                2.20            \n",
       "8                                                 0.01            \n",
       "112                                                -99            \n",
       "157                                               0.22            \n",
       "24                                                2.38            \n",
       "224                                                -99            \n",
       "77                                                3.30            \n",
       "63                                                0.36            \n",
       "100                                                -99            \n",
       "85                                                 -99            \n",
       "94                                                 -99            \n",
       "117                                                -99            \n",
       "48                                                1.05            \n",
       "54                                                 -99            \n",
       "218                                                -99            \n",
       "21                                                5.09            \n",
       "20                                                1.68            \n",
       "222                                               0.01            \n",
       "\n",
       "    Net Official Development Assist. received (% of GNI)  \n",
       "146                                                -99    \n",
       "84                                                 -99    \n",
       "88                                                 -99    \n",
       "217                                                -99    \n",
       "123                                                -99    \n",
       "200                                                -99    \n",
       "141                                                -99    \n",
       "26                                                 -99    \n",
       "8                                                  -99    \n",
       "112                                                -99    \n",
       "157                                                -99    \n",
       "24                                                 -99    \n",
       "224                                                -99    \n",
       "77                                                 -99    \n",
       "63                                                 -99    \n",
       "100                                                -99    \n",
       "85                                                 -99    \n",
       "94                                                 -99    \n",
       "117                                                -99    \n",
       "48                                                 -99    \n",
       "54                                                 -99    \n",
       "218                                                -99    \n",
       "21                                                 -99    \n",
       "20                                                 -99    \n",
       "222                                                -99    \n",
       "\n",
       "[25 rows x 50 columns]"
      ]
     },
     "execution_count": 43,
     "metadata": {},
     "output_type": "execute_result"
    }
   ],
   "source": [
    "s1=df.sample(25,random_state=30)\n",
    "s1"
   ]
  },
  {
   "cell_type": "markdown",
   "id": "d2bec29a",
   "metadata": {},
   "source": [
    "#### Measure od Central tendency - mean , median, mode\n"
   ]
  },
  {
   "cell_type": "code",
   "execution_count": 44,
   "id": "cba0d7a5",
   "metadata": {},
   "outputs": [
    {
     "data": {
      "text/plain": [
       "32756.794759825327"
      ]
     },
     "execution_count": 44,
     "metadata": {},
     "output_type": "execute_result"
    }
   ],
   "source": [
    "mean = df['Population in thousands (2017)'].mean()\n",
    "mean"
   ]
  },
  {
   "cell_type": "code",
   "execution_count": 46,
   "id": "c11d0f10",
   "metadata": {},
   "outputs": [
    {
     "data": {
      "text/plain": [
       "5448.0"
      ]
     },
     "execution_count": 46,
     "metadata": {},
     "output_type": "execute_result"
    }
   ],
   "source": [
    "median = df['Population in thousands (2017)'].median()\n",
    "median"
   ]
  },
  {
   "cell_type": "markdown",
   "id": "dc2bb173",
   "metadata": {},
   "source": [
    "There is a huge difference in mean and median it is due to the presence of outliers on the right side of the dataset "
   ]
  },
  {
   "cell_type": "code",
   "execution_count": 48,
   "id": "4834206c",
   "metadata": {},
   "outputs": [
    {
     "data": {
      "text/plain": [
       "0        1\n",
       "1       11\n",
       "2       35\n",
       "3       55\n",
       "4       56\n",
       "5      105\n",
       "6      108\n",
       "7      276\n",
       "8      283\n",
       "9     2890\n",
       "10    2930\n",
       "Name: Population in thousands (2017), dtype: int64"
      ]
     },
     "execution_count": 48,
     "metadata": {},
     "output_type": "execute_result"
    }
   ],
   "source": [
    "#mode is oftenly used on categorical data \n",
    "mode = df['Population in thousands (2017)'].mode()\n",
    "mode"
   ]
  },
  {
   "cell_type": "markdown",
   "id": "e702b100",
   "metadata": {},
   "source": [
    "    Unimodal Example:\n",
    "    Data set: [1,2,2,3,4]\n",
    "    Here, the mode is 2 because it appears most frequently.\n",
    "    \n",
    "    Bimodal Example:\n",
    "    \n",
    "    Data set: [1,2,2,3,3,4]\n",
    "    Here, the modes are 2 and 3 because both appear with the same highest frequency."
   ]
  },
  {
   "cell_type": "markdown",
   "id": "5f99ca16",
   "metadata": {},
   "source": [
    "    No Mode Example:\n",
    "    Data set: [1,2,3,4,5]\n",
    "    Here, there is no mode because no number repeats."
   ]
  },
  {
   "cell_type": "code",
   "execution_count": 61,
   "id": "06f4ae10",
   "metadata": {},
   "outputs": [
    {
     "data": {
      "text/plain": [
       "0    Caribbean\n",
       "Name: Region, dtype: object"
      ]
     },
     "execution_count": 61,
     "metadata": {},
     "output_type": "execute_result"
    }
   ],
   "source": [
    "mode=df['Region'].mode()\n",
    "mode"
   ]
  },
  {
   "cell_type": "code",
   "execution_count": 55,
   "id": "20f24da3",
   "metadata": {},
   "outputs": [
    {
     "data": {
      "text/plain": [
       "Region\n",
       "Caribbean            25\n",
       "EasternAfrica        19\n",
       "WesternAsia          18\n",
       "SouthernEurope       16\n",
       "WesternAfrica        16\n",
       "SouthAmerica         14\n",
       "NorthernEurope       13\n",
       "South-easternAsia    11\n",
       "EasternEurope        10\n",
       "SouthernAsia          9\n",
       "Polynesia             9\n",
       "MiddleAfrica          9\n",
       "WesternEurope         9\n",
       "CentralAmerica        8\n",
       "NorthernAfrica        7\n",
       "EasternAsia           7\n",
       "Micronesia            7\n",
       "SouthernAfrica        5\n",
       "NorthernAmerica       5\n",
       "Melanesia             5\n",
       "CentralAsia           5\n",
       "Oceania               2\n",
       "Name: count, dtype: int64"
      ]
     },
     "execution_count": 55,
     "metadata": {},
     "output_type": "execute_result"
    }
   ],
   "source": [
    "df['Region'].value_counts()"
   ]
  },
  {
   "cell_type": "code",
   "execution_count": 63,
   "id": "a104a335",
   "metadata": {},
   "outputs": [
    {
     "data": {
      "text/html": [
       "<div>\n",
       "<style scoped>\n",
       "    .dataframe tbody tr th:only-of-type {\n",
       "        vertical-align: middle;\n",
       "    }\n",
       "\n",
       "    .dataframe tbody tr th {\n",
       "        vertical-align: top;\n",
       "    }\n",
       "\n",
       "    .dataframe thead th {\n",
       "        text-align: right;\n",
       "    }\n",
       "</style>\n",
       "<table border=\"1\" class=\"dataframe\">\n",
       "  <thead>\n",
       "    <tr style=\"text-align: right;\">\n",
       "      <th></th>\n",
       "      <th>S.No</th>\n",
       "      <th>model</th>\n",
       "      <th>mpg</th>\n",
       "      <th>cyl</th>\n",
       "      <th>disp</th>\n",
       "      <th>hp</th>\n",
       "      <th>drat</th>\n",
       "      <th>wt</th>\n",
       "      <th>qsec</th>\n",
       "      <th>vs</th>\n",
       "      <th>am</th>\n",
       "      <th>gear</th>\n",
       "      <th>carb</th>\n",
       "    </tr>\n",
       "  </thead>\n",
       "  <tbody>\n",
       "    <tr>\n",
       "      <th>0</th>\n",
       "      <td>1</td>\n",
       "      <td>Mazda RX4</td>\n",
       "      <td>21.0</td>\n",
       "      <td>6</td>\n",
       "      <td>160.0</td>\n",
       "      <td>110</td>\n",
       "      <td>3.90</td>\n",
       "      <td>2.620</td>\n",
       "      <td>16.46</td>\n",
       "      <td>0</td>\n",
       "      <td>1</td>\n",
       "      <td>4</td>\n",
       "      <td>4</td>\n",
       "    </tr>\n",
       "    <tr>\n",
       "      <th>1</th>\n",
       "      <td>2</td>\n",
       "      <td>Mazda RX4 Wag</td>\n",
       "      <td>21.0</td>\n",
       "      <td>6</td>\n",
       "      <td>160.0</td>\n",
       "      <td>110</td>\n",
       "      <td>3.90</td>\n",
       "      <td>2.875</td>\n",
       "      <td>17.02</td>\n",
       "      <td>0</td>\n",
       "      <td>1</td>\n",
       "      <td>4</td>\n",
       "      <td>4</td>\n",
       "    </tr>\n",
       "    <tr>\n",
       "      <th>2</th>\n",
       "      <td>3</td>\n",
       "      <td>Datsun 710</td>\n",
       "      <td>22.8</td>\n",
       "      <td>4</td>\n",
       "      <td>108.0</td>\n",
       "      <td>93</td>\n",
       "      <td>3.85</td>\n",
       "      <td>2.320</td>\n",
       "      <td>18.61</td>\n",
       "      <td>1</td>\n",
       "      <td>1</td>\n",
       "      <td>4</td>\n",
       "      <td>1</td>\n",
       "    </tr>\n",
       "    <tr>\n",
       "      <th>3</th>\n",
       "      <td>4</td>\n",
       "      <td>Hornet 4 Drive</td>\n",
       "      <td>21.4</td>\n",
       "      <td>6</td>\n",
       "      <td>258.0</td>\n",
       "      <td>110</td>\n",
       "      <td>3.08</td>\n",
       "      <td>3.215</td>\n",
       "      <td>19.44</td>\n",
       "      <td>1</td>\n",
       "      <td>0</td>\n",
       "      <td>3</td>\n",
       "      <td>1</td>\n",
       "    </tr>\n",
       "    <tr>\n",
       "      <th>4</th>\n",
       "      <td>5</td>\n",
       "      <td>Hornet Sportabout</td>\n",
       "      <td>18.7</td>\n",
       "      <td>8</td>\n",
       "      <td>360.0</td>\n",
       "      <td>175</td>\n",
       "      <td>3.15</td>\n",
       "      <td>3.440</td>\n",
       "      <td>17.02</td>\n",
       "      <td>0</td>\n",
       "      <td>0</td>\n",
       "      <td>3</td>\n",
       "      <td>2</td>\n",
       "    </tr>\n",
       "  </tbody>\n",
       "</table>\n",
       "</div>"
      ],
      "text/plain": [
       "   S.No              model   mpg  cyl   disp   hp  drat     wt   qsec  vs  am  \\\n",
       "0     1          Mazda RX4  21.0    6  160.0  110  3.90  2.620  16.46   0   1   \n",
       "1     2      Mazda RX4 Wag  21.0    6  160.0  110  3.90  2.875  17.02   0   1   \n",
       "2     3         Datsun 710  22.8    4  108.0   93  3.85  2.320  18.61   1   1   \n",
       "3     4     Hornet 4 Drive  21.4    6  258.0  110  3.08  3.215  19.44   1   0   \n",
       "4     5  Hornet Sportabout  18.7    8  360.0  175  3.15  3.440  17.02   0   0   \n",
       "\n",
       "   gear  carb  \n",
       "0     4     4  \n",
       "1     4     4  \n",
       "2     4     1  \n",
       "3     3     1  \n",
       "4     3     2  "
      ]
     },
     "execution_count": 63,
     "metadata": {},
     "output_type": "execute_result"
    }
   ],
   "source": [
    "df2=pd.read_csv(\"C:/Users/Navin Kumar/Desktop/coding_jupyter_notebook/DATA/cars.csv\")\n",
    "df2.head()"
   ]
  },
  {
   "cell_type": "markdown",
   "id": "605a2255",
   "metadata": {},
   "source": [
    "1. Range"
   ]
  },
  {
   "cell_type": "code",
   "execution_count": 85,
   "id": "be1a7698",
   "metadata": {},
   "outputs": [
    {
     "name": "stdout",
     "output_type": "stream",
     "text": [
      "max: 335\n",
      "min: 52\n",
      "range: 283\n"
     ]
    }
   ],
   "source": [
    "max=df2['hp'].max()\n",
    "min=df2['hp'].min()\n",
    "print('max:',max)\n",
    "print('min:',min)\n",
    "range=max-min\n",
    "print('range:',range)"
   ]
  },
  {
   "cell_type": "markdown",
   "id": "233e9d76",
   "metadata": {},
   "source": [
    "2) Percentile"
   ]
  },
  {
   "cell_type": "code",
   "execution_count": 92,
   "id": "444fa0b1",
   "metadata": {},
   "outputs": [
    {
     "data": {
      "text/plain": [
       "243.50000000000003"
      ]
     },
     "execution_count": 92,
     "metadata": {},
     "output_type": "execute_result"
    }
   ],
   "source": [
    "percentile=df2['hp'].quantile(0.90)\n",
    "percentile"
   ]
  },
  {
   "cell_type": "code",
   "execution_count": 95,
   "id": "42f8d7a2",
   "metadata": {},
   "outputs": [
    {
     "data": {
      "text/plain": [
       "52.0"
      ]
     },
     "execution_count": 95,
     "metadata": {},
     "output_type": "execute_result"
    }
   ],
   "source": [
    "percentile=df2['hp'].quantile(0)\n",
    "percentile"
   ]
  },
  {
   "cell_type": "code",
   "execution_count": 96,
   "id": "9328163f",
   "metadata": {},
   "outputs": [
    {
     "data": {
      "text/plain": [
       "335.0"
      ]
     },
     "execution_count": 96,
     "metadata": {},
     "output_type": "execute_result"
    }
   ],
   "source": [
    "percentile=df2['hp'].quantile(1)\n",
    "percentile"
   ]
  },
  {
   "cell_type": "markdown",
   "id": "d5864e91",
   "metadata": {},
   "source": [
    "3. Quartile"
   ]
  },
  {
   "cell_type": "code",
   "execution_count": 106,
   "id": "c2764fbf",
   "metadata": {},
   "outputs": [
    {
     "data": {
      "text/plain": [
       "180.0"
      ]
     },
     "execution_count": 106,
     "metadata": {},
     "output_type": "execute_result"
    }
   ],
   "source": [
    "q3=df2['hp'].quantile(0.75)\n",
    "q3"
   ]
  },
  {
   "cell_type": "code",
   "execution_count": 107,
   "id": "3c73c811",
   "metadata": {},
   "outputs": [
    {
     "data": {
      "text/plain": [
       "123.0"
      ]
     },
     "execution_count": 107,
     "metadata": {},
     "output_type": "execute_result"
    }
   ],
   "source": [
    "q2=df2['hp'].quantile(0.50)\n",
    "q2"
   ]
  },
  {
   "cell_type": "code",
   "execution_count": 108,
   "id": "41d44738",
   "metadata": {},
   "outputs": [
    {
     "data": {
      "text/plain": [
       "96.5"
      ]
     },
     "execution_count": 108,
     "metadata": {},
     "output_type": "execute_result"
    }
   ],
   "source": [
    "q1=df2['hp'].quantile(0.25)\n",
    "q1"
   ]
  },
  {
   "cell_type": "code",
   "execution_count": 109,
   "id": "aa23d6f1",
   "metadata": {},
   "outputs": [
    {
     "data": {
      "text/plain": [
       "(96.5, 123.0, 180.0)"
      ]
     },
     "execution_count": 109,
     "metadata": {},
     "output_type": "execute_result"
    }
   ],
   "source": [
    "q1,q2,q3"
   ]
  },
  {
   "cell_type": "code",
   "execution_count": 105,
   "id": "d668427d",
   "metadata": {},
   "outputs": [
    {
     "data": {
      "text/plain": [
       "<Axes: ylabel='hp'>"
      ]
     },
     "execution_count": 105,
     "metadata": {},
     "output_type": "execute_result"
    },
    {
     "data": {
      "image/png": "[encoded data removed]",
      "text/plain": [
       "<Figure size 432x288 with 1 Axes>"
      ]
     },
     "metadata": {
      "needs_background": "light"
     },
     "output_type": "display_data"
    }
   ],
   "source": [
    "sns.boxplot(df2['hp'])"
   ]
  },
  {
   "cell_type": "code",
   "execution_count": 113,
   "id": "1c8d3d70",
   "metadata": {},
   "outputs": [
    {
     "name": "stderr",
     "output_type": "stream",
     "text": [
      "C:\\Users\\Navin Kumar\\AppData\\Local\\Temp\\ipykernel_22768\\98827351.py:1: UserWarning: \n",
      "\n",
      "`distplot` is a deprecated function and will be removed in seaborn v0.14.0.\n",
      "\n",
      "Please adapt your code to use either `displot` (a figure-level function with\n",
      "similar flexibility) or `histplot` (an axes-level function for histograms).\n",
      "\n",
      "For a guide to updating your code to use the new functions, please see\n",
      "https://gist.github.com/mwaskom/de44147ed2974457ad6372750bbe5751\n",
      "\n",
      "  sns.distplot(df2['hp'])\n"
     ]
    },
    {
     "data": {
      "text/plain": [
       "<Axes: xlabel='hp', ylabel='Density'>"
      ]
     },
     "execution_count": 113,
     "metadata": {},
     "output_type": "execute_result"
    },
    {
     "data": {
      "image/png": "[encoded data removed]",
      "text/plain": [
       "<Figure size 432x288 with 1 Axes>"
      ]
     },
     "metadata": {
      "needs_background": "light"
     },
     "output_type": "display_data"
    }
   ],
   "source": [
    "sns.distplot(df2['hp'])"
   ]
  },
  {
   "cell_type": "markdown",
   "id": "9ed3a11c",
   "metadata": {},
   "source": [
    "Inter Quartile region(IQR)"
   ]
  },
  {
   "cell_type": "code",
   "execution_count": 126,
   "id": "7c88b778",
   "metadata": {},
   "outputs": [
    {
     "data": {
      "text/plain": [
       "83.5"
      ]
     },
     "execution_count": 126,
     "metadata": {},
     "output_type": "execute_result"
    }
   ],
   "source": [
    "iqr= q3-q1\n",
    "iqr"
   ]
  },
  {
   "cell_type": "markdown",
   "id": "400a49d5",
   "metadata": {},
   "source": [
    "4. Varience and standard deviation"
   ]
  },
  {
   "cell_type": "code",
   "execution_count": 117,
   "id": "a78f1320",
   "metadata": {},
   "outputs": [
    {
     "data": {
      "text/plain": [
       "4700.866935483871"
      ]
     },
     "execution_count": 117,
     "metadata": {},
     "output_type": "execute_result"
    }
   ],
   "source": [
    "var=df2['hp'].var()\n",
    "var"
   ]
  },
  {
   "cell_type": "code",
   "execution_count": 122,
   "id": "0c9fa9cd",
   "metadata": {},
   "outputs": [
    {
     "data": {
      "text/plain": [
       "68.56286848932059"
      ]
     },
     "execution_count": 122,
     "metadata": {},
     "output_type": "execute_result"
    }
   ],
   "source": [
    "std=df2['hp'].std()\n",
    "std"
   ]
  },
  {
   "cell_type": "code",
   "execution_count": 123,
   "id": "d18b726b",
   "metadata": {},
   "outputs": [
    {
     "data": {
      "text/plain": [
       "146.6875"
      ]
     },
     "execution_count": 123,
     "metadata": {},
     "output_type": "execute_result"
    }
   ],
   "source": [
    "mean=df2['hp'].mean()\n",
    "mean"
   ]
  },
  {
   "cell_type": "code",
   "execution_count": 124,
   "id": "4c45edf3",
   "metadata": {},
   "outputs": [
    {
     "name": "stderr",
     "output_type": "stream",
     "text": [
      "C:\\Users\\Navin Kumar\\AppData\\Local\\Programs\\Python\\Python310\\lib\\site-packages\\seaborn\\axisgrid.py:123: UserWarning: The figure layout has changed to tight\n",
      "  self._figure.tight_layout(*args, **kwargs)\n"
     ]
    },
    {
     "data": {
      "text/plain": [
       "<seaborn.axisgrid.FacetGrid at 0x25928322f50>"
      ]
     },
     "execution_count": 124,
     "metadata": {},
     "output_type": "execute_result"
    },
    {
     "data": {
      "image/png": "[encoded data removed]",
      "text/plain": [
       "<Figure size 360x360 with 1 Axes>"
      ]
     },
     "metadata": {
      "needs_background": "light"
     },
     "output_type": "display_data"
    }
   ],
   "source": [
    "sns.displot(df2['hp'])"
   ]
  },
  {
   "cell_type": "code",
   "execution_count": 128,
   "id": "c7533972",
   "metadata": {},
   "outputs": [
    {
     "data": {
      "text/plain": [
       "305.25"
      ]
     },
     "execution_count": 128,
     "metadata": {},
     "output_type": "execute_result"
    }
   ],
   "source": [
    "upper_bound= q3+(1.5 * iqr)\n",
    "upper_bound"
   ]
  },
  {
   "cell_type": "code",
   "execution_count": 130,
   "id": "a524ac5d",
   "metadata": {},
   "outputs": [
    {
     "data": {
      "text/plain": [
       "-28.75"
      ]
     },
     "execution_count": 130,
     "metadata": {},
     "output_type": "execute_result"
    }
   ],
   "source": [
    "lower_bound=q1-(1.5 * iqr)\n",
    "lower_bound"
   ]
  },
  {
   "cell_type": "code",
   "execution_count": 131,
   "id": "c3e954de",
   "metadata": {},
   "outputs": [
    {
     "data": {
      "text/plain": [
       "335"
      ]
     },
     "execution_count": 131,
     "metadata": {},
     "output_type": "execute_result"
    }
   ],
   "source": [
    "max"
   ]
  },
  {
   "cell_type": "code",
   "execution_count": 132,
   "id": "f2b5f692",
   "metadata": {},
   "outputs": [
    {
     "data": {
      "text/plain": [
       "52"
      ]
     },
     "execution_count": 132,
     "metadata": {},
     "output_type": "execute_result"
    }
   ],
   "source": [
    "min"
   ]
  },
  {
   "cell_type": "markdown",
   "id": "d3a91104",
   "metadata": {},
   "source": [
    "there is some outlier and we can confirm it from maximumm value and upper bound limit , as maximum value is beyond upper bound "
   ]
  },
  {
   "cell_type": "code",
   "execution_count": 134,
   "id": "e27f49e1",
   "metadata": {},
   "outputs": [
    {
     "ename": "AttributeError",
     "evalue": "'DataFrame' object has no attribute 'matrix'",
     "output_type": "error",
     "traceback": [
      "\u001b[1;31m---------------------------------------------------------------------------\u001b[0m",
      "\u001b[1;31mAttributeError\u001b[0m                            Traceback (most recent call last)",
      "Input \u001b[1;32mIn [134]\u001b[0m, in \u001b[0;36m<cell line: 1>\u001b[1;34m()\u001b[0m\n\u001b[1;32m----> 1\u001b[0m \u001b[43mdf2\u001b[49m\u001b[38;5;241;43m.\u001b[39;49m\u001b[43mmatrix\u001b[49m()\n",
      "File \u001b[1;32m~\\AppData\\Local\\Programs\\Python\\Python310\\lib\\site-packages\\pandas\\core\\generic.py:6299\u001b[0m, in \u001b[0;36mNDFrame.__getattr__\u001b[1;34m(self, name)\u001b[0m\n\u001b[0;32m   6292\u001b[0m \u001b[38;5;28;01mif\u001b[39;00m (\n\u001b[0;32m   6293\u001b[0m     name \u001b[38;5;129;01mnot\u001b[39;00m \u001b[38;5;129;01min\u001b[39;00m \u001b[38;5;28mself\u001b[39m\u001b[38;5;241m.\u001b[39m_internal_names_set\n\u001b[0;32m   6294\u001b[0m     \u001b[38;5;129;01mand\u001b[39;00m name \u001b[38;5;129;01mnot\u001b[39;00m \u001b[38;5;129;01min\u001b[39;00m \u001b[38;5;28mself\u001b[39m\u001b[38;5;241m.\u001b[39m_metadata\n\u001b[0;32m   6295\u001b[0m     \u001b[38;5;129;01mand\u001b[39;00m name \u001b[38;5;129;01mnot\u001b[39;00m \u001b[38;5;129;01min\u001b[39;00m \u001b[38;5;28mself\u001b[39m\u001b[38;5;241m.\u001b[39m_accessors\n\u001b[0;32m   6296\u001b[0m     \u001b[38;5;129;01mand\u001b[39;00m \u001b[38;5;28mself\u001b[39m\u001b[38;5;241m.\u001b[39m_info_axis\u001b[38;5;241m.\u001b[39m_can_hold_identifiers_and_holds_name(name)\n\u001b[0;32m   6297\u001b[0m ):\n\u001b[0;32m   6298\u001b[0m     \u001b[38;5;28;01mreturn\u001b[39;00m \u001b[38;5;28mself\u001b[39m[name]\n\u001b[1;32m-> 6299\u001b[0m \u001b[38;5;28;01mreturn\u001b[39;00m \u001b[38;5;28;43mobject\u001b[39;49m\u001b[38;5;241;43m.\u001b[39;49m\u001b[38;5;21;43m__getattribute__\u001b[39;49m\u001b[43m(\u001b[49m\u001b[38;5;28;43mself\u001b[39;49m\u001b[43m,\u001b[49m\u001b[43m \u001b[49m\u001b[43mname\u001b[49m\u001b[43m)\u001b[49m\n",
      "\u001b[1;31mAttributeError\u001b[0m: 'DataFrame' object has no attribute 'matrix'"
     ]
    }
   ],
   "source": [
    "df2.matrix()"
   ]
  },
  {
   "cell_type": "markdown",
   "id": "d5629670",
   "metadata": {},
   "source": [
    "#### 5 corelation"
   ]
  },
  {
   "cell_type": "code",
   "execution_count": 137,
   "id": "816598ae",
   "metadata": {},
   "outputs": [
    {
     "ename": "ValueError",
     "evalue": "could not convert string to float: 'Mazda RX4'",
     "output_type": "error",
     "traceback": [
      "\u001b[1;31m---------------------------------------------------------------------------\u001b[0m",
      "\u001b[1;31mValueError\u001b[0m                                Traceback (most recent call last)",
      "Input \u001b[1;32mIn [137]\u001b[0m, in \u001b[0;36m<cell line: 1>\u001b[1;34m()\u001b[0m\n\u001b[1;32m----> 1\u001b[0m \u001b[43mdf2\u001b[49m\u001b[38;5;241;43m.\u001b[39;49m\u001b[43mcorr\u001b[49m\u001b[43m(\u001b[49m\u001b[43m)\u001b[49m\n",
      "File \u001b[1;32m~\\AppData\\Local\\Programs\\Python\\Python310\\lib\\site-packages\\pandas\\core\\frame.py:11049\u001b[0m, in \u001b[0;36mDataFrame.corr\u001b[1;34m(self, method, min_periods, numeric_only)\u001b[0m\n\u001b[0;32m  11047\u001b[0m cols \u001b[38;5;241m=\u001b[39m data\u001b[38;5;241m.\u001b[39mcolumns\n\u001b[0;32m  11048\u001b[0m idx \u001b[38;5;241m=\u001b[39m cols\u001b[38;5;241m.\u001b[39mcopy()\n\u001b[1;32m> 11049\u001b[0m mat \u001b[38;5;241m=\u001b[39m \u001b[43mdata\u001b[49m\u001b[38;5;241;43m.\u001b[39;49m\u001b[43mto_numpy\u001b[49m\u001b[43m(\u001b[49m\u001b[43mdtype\u001b[49m\u001b[38;5;241;43m=\u001b[39;49m\u001b[38;5;28;43mfloat\u001b[39;49m\u001b[43m,\u001b[49m\u001b[43m \u001b[49m\u001b[43mna_value\u001b[49m\u001b[38;5;241;43m=\u001b[39;49m\u001b[43mnp\u001b[49m\u001b[38;5;241;43m.\u001b[39;49m\u001b[43mnan\u001b[49m\u001b[43m,\u001b[49m\u001b[43m \u001b[49m\u001b[43mcopy\u001b[49m\u001b[38;5;241;43m=\u001b[39;49m\u001b[38;5;28;43;01mFalse\u001b[39;49;00m\u001b[43m)\u001b[49m\n\u001b[0;32m  11051\u001b[0m \u001b[38;5;28;01mif\u001b[39;00m method \u001b[38;5;241m==\u001b[39m \u001b[38;5;124m\"\u001b[39m\u001b[38;5;124mpearson\u001b[39m\u001b[38;5;124m\"\u001b[39m:\n\u001b[0;32m  11052\u001b[0m     correl \u001b[38;5;241m=\u001b[39m libalgos\u001b[38;5;241m.\u001b[39mnancorr(mat, minp\u001b[38;5;241m=\u001b[39mmin_periods)\n",
      "File \u001b[1;32m~\\AppData\\Local\\Programs\\Python\\Python310\\lib\\site-packages\\pandas\\core\\frame.py:1993\u001b[0m, in \u001b[0;36mDataFrame.to_numpy\u001b[1;34m(self, dtype, copy, na_value)\u001b[0m\n\u001b[0;32m   1991\u001b[0m \u001b[38;5;28;01mif\u001b[39;00m dtype \u001b[38;5;129;01mis\u001b[39;00m \u001b[38;5;129;01mnot\u001b[39;00m \u001b[38;5;28;01mNone\u001b[39;00m:\n\u001b[0;32m   1992\u001b[0m     dtype \u001b[38;5;241m=\u001b[39m np\u001b[38;5;241m.\u001b[39mdtype(dtype)\n\u001b[1;32m-> 1993\u001b[0m result \u001b[38;5;241m=\u001b[39m \u001b[38;5;28;43mself\u001b[39;49m\u001b[38;5;241;43m.\u001b[39;49m\u001b[43m_mgr\u001b[49m\u001b[38;5;241;43m.\u001b[39;49m\u001b[43mas_array\u001b[49m\u001b[43m(\u001b[49m\u001b[43mdtype\u001b[49m\u001b[38;5;241;43m=\u001b[39;49m\u001b[43mdtype\u001b[49m\u001b[43m,\u001b[49m\u001b[43m \u001b[49m\u001b[43mcopy\u001b[49m\u001b[38;5;241;43m=\u001b[39;49m\u001b[43mcopy\u001b[49m\u001b[43m,\u001b[49m\u001b[43m \u001b[49m\u001b[43mna_value\u001b[49m\u001b[38;5;241;43m=\u001b[39;49m\u001b[43mna_value\u001b[49m\u001b[43m)\u001b[49m\n\u001b[0;32m   1994\u001b[0m \u001b[38;5;28;01mif\u001b[39;00m result\u001b[38;5;241m.\u001b[39mdtype \u001b[38;5;129;01mis\u001b[39;00m \u001b[38;5;129;01mnot\u001b[39;00m dtype:\n\u001b[0;32m   1995\u001b[0m     result \u001b[38;5;241m=\u001b[39m np\u001b[38;5;241m.\u001b[39masarray(result, dtype\u001b[38;5;241m=\u001b[39mdtype)\n",
      "File \u001b[1;32m~\\AppData\\Local\\Programs\\Python\\Python310\\lib\\site-packages\\pandas\\core\\internals\\managers.py:1694\u001b[0m, in \u001b[0;36mBlockManager.as_array\u001b[1;34m(self, dtype, copy, na_value)\u001b[0m\n\u001b[0;32m   1692\u001b[0m         arr\u001b[38;5;241m.\u001b[39mflags\u001b[38;5;241m.\u001b[39mwriteable \u001b[38;5;241m=\u001b[39m \u001b[38;5;28;01mFalse\u001b[39;00m\n\u001b[0;32m   1693\u001b[0m \u001b[38;5;28;01melse\u001b[39;00m:\n\u001b[1;32m-> 1694\u001b[0m     arr \u001b[38;5;241m=\u001b[39m \u001b[38;5;28;43mself\u001b[39;49m\u001b[38;5;241;43m.\u001b[39;49m\u001b[43m_interleave\u001b[49m\u001b[43m(\u001b[49m\u001b[43mdtype\u001b[49m\u001b[38;5;241;43m=\u001b[39;49m\u001b[43mdtype\u001b[49m\u001b[43m,\u001b[49m\u001b[43m \u001b[49m\u001b[43mna_value\u001b[49m\u001b[38;5;241;43m=\u001b[39;49m\u001b[43mna_value\u001b[49m\u001b[43m)\u001b[49m\n\u001b[0;32m   1695\u001b[0m     \u001b[38;5;66;03m# The underlying data was copied within _interleave, so no need\u001b[39;00m\n\u001b[0;32m   1696\u001b[0m     \u001b[38;5;66;03m# to further copy if copy=True or setting na_value\u001b[39;00m\n\u001b[0;32m   1698\u001b[0m \u001b[38;5;28;01mif\u001b[39;00m na_value \u001b[38;5;129;01mis\u001b[39;00m lib\u001b[38;5;241m.\u001b[39mno_default:\n",
      "File \u001b[1;32m~\\AppData\\Local\\Programs\\Python\\Python310\\lib\\site-packages\\pandas\\core\\internals\\managers.py:1753\u001b[0m, in \u001b[0;36mBlockManager._interleave\u001b[1;34m(self, dtype, na_value)\u001b[0m\n\u001b[0;32m   1751\u001b[0m     \u001b[38;5;28;01melse\u001b[39;00m:\n\u001b[0;32m   1752\u001b[0m         arr \u001b[38;5;241m=\u001b[39m blk\u001b[38;5;241m.\u001b[39mget_values(dtype)\n\u001b[1;32m-> 1753\u001b[0m     result[rl\u001b[38;5;241m.\u001b[39mindexer] \u001b[38;5;241m=\u001b[39m arr\n\u001b[0;32m   1754\u001b[0m     itemmask[rl\u001b[38;5;241m.\u001b[39mindexer] \u001b[38;5;241m=\u001b[39m \u001b[38;5;241m1\u001b[39m\n\u001b[0;32m   1756\u001b[0m \u001b[38;5;28;01mif\u001b[39;00m \u001b[38;5;129;01mnot\u001b[39;00m itemmask\u001b[38;5;241m.\u001b[39mall():\n",
      "\u001b[1;31mValueError\u001b[0m: could not convert string to float: 'Mazda RX4'"
     ]
    }
   ],
   "source": [
    "df2.corr()"
   ]
  },
  {
   "cell_type": "code",
   "execution_count": 140,
   "id": "4c45080b",
   "metadata": {},
   "outputs": [
    {
     "ename": "ValueError",
     "evalue": "could not convert string to float: 'Mazda RX4'",
     "output_type": "error",
     "traceback": [
      "\u001b[1;31m---------------------------------------------------------------------------\u001b[0m",
      "\u001b[1;31mValueError\u001b[0m                                Traceback (most recent call last)",
      "Input \u001b[1;32mIn [140]\u001b[0m, in \u001b[0;36m<cell line: 1>\u001b[1;34m()\u001b[0m\n\u001b[1;32m----> 1\u001b[0m df2[\u001b[38;5;124m\"\u001b[39m\u001b[38;5;124mmodel\u001b[39m\u001b[38;5;124m\"\u001b[39m]\u001b[38;5;241m=\u001b[39m\u001b[43mdf2\u001b[49m\u001b[43m[\u001b[49m\u001b[38;5;124;43m'\u001b[39;49m\u001b[38;5;124;43mmodel\u001b[39;49m\u001b[38;5;124;43m'\u001b[39;49m\u001b[43m]\u001b[49m\u001b[38;5;241;43m.\u001b[39;49m\u001b[43mastype\u001b[49m\u001b[43m(\u001b[49m\u001b[38;5;124;43m'\u001b[39;49m\u001b[38;5;124;43mfloat\u001b[39;49m\u001b[38;5;124;43m'\u001b[39;49m\u001b[43m)\u001b[49m\n",
      "File \u001b[1;32m~\\AppData\\Local\\Programs\\Python\\Python310\\lib\\site-packages\\pandas\\core\\generic.py:6643\u001b[0m, in \u001b[0;36mNDFrame.astype\u001b[1;34m(self, dtype, copy, errors)\u001b[0m\n\u001b[0;32m   6637\u001b[0m     results \u001b[38;5;241m=\u001b[39m [\n\u001b[0;32m   6638\u001b[0m         ser\u001b[38;5;241m.\u001b[39mastype(dtype, copy\u001b[38;5;241m=\u001b[39mcopy, errors\u001b[38;5;241m=\u001b[39merrors) \u001b[38;5;28;01mfor\u001b[39;00m _, ser \u001b[38;5;129;01min\u001b[39;00m \u001b[38;5;28mself\u001b[39m\u001b[38;5;241m.\u001b[39mitems()\n\u001b[0;32m   6639\u001b[0m     ]\n\u001b[0;32m   6641\u001b[0m \u001b[38;5;28;01melse\u001b[39;00m:\n\u001b[0;32m   6642\u001b[0m     \u001b[38;5;66;03m# else, only a single dtype is given\u001b[39;00m\n\u001b[1;32m-> 6643\u001b[0m     new_data \u001b[38;5;241m=\u001b[39m \u001b[38;5;28;43mself\u001b[39;49m\u001b[38;5;241;43m.\u001b[39;49m\u001b[43m_mgr\u001b[49m\u001b[38;5;241;43m.\u001b[39;49m\u001b[43mastype\u001b[49m\u001b[43m(\u001b[49m\u001b[43mdtype\u001b[49m\u001b[38;5;241;43m=\u001b[39;49m\u001b[43mdtype\u001b[49m\u001b[43m,\u001b[49m\u001b[43m \u001b[49m\u001b[43mcopy\u001b[49m\u001b[38;5;241;43m=\u001b[39;49m\u001b[43mcopy\u001b[49m\u001b[43m,\u001b[49m\u001b[43m \u001b[49m\u001b[43merrors\u001b[49m\u001b[38;5;241;43m=\u001b[39;49m\u001b[43merrors\u001b[49m\u001b[43m)\u001b[49m\n\u001b[0;32m   6644\u001b[0m     res \u001b[38;5;241m=\u001b[39m \u001b[38;5;28mself\u001b[39m\u001b[38;5;241m.\u001b[39m_constructor_from_mgr(new_data, axes\u001b[38;5;241m=\u001b[39mnew_data\u001b[38;5;241m.\u001b[39maxes)\n\u001b[0;32m   6645\u001b[0m     \u001b[38;5;28;01mreturn\u001b[39;00m res\u001b[38;5;241m.\u001b[39m__finalize__(\u001b[38;5;28mself\u001b[39m, method\u001b[38;5;241m=\u001b[39m\u001b[38;5;124m\"\u001b[39m\u001b[38;5;124mastype\u001b[39m\u001b[38;5;124m\"\u001b[39m)\n",
      "File \u001b[1;32m~\\AppData\\Local\\Programs\\Python\\Python310\\lib\\site-packages\\pandas\\core\\internals\\managers.py:430\u001b[0m, in \u001b[0;36mBaseBlockManager.astype\u001b[1;34m(self, dtype, copy, errors)\u001b[0m\n\u001b[0;32m    427\u001b[0m \u001b[38;5;28;01melif\u001b[39;00m using_copy_on_write():\n\u001b[0;32m    428\u001b[0m     copy \u001b[38;5;241m=\u001b[39m \u001b[38;5;28;01mFalse\u001b[39;00m\n\u001b[1;32m--> 430\u001b[0m \u001b[38;5;28;01mreturn\u001b[39;00m \u001b[38;5;28;43mself\u001b[39;49m\u001b[38;5;241;43m.\u001b[39;49m\u001b[43mapply\u001b[49m\u001b[43m(\u001b[49m\n\u001b[0;32m    431\u001b[0m \u001b[43m    \u001b[49m\u001b[38;5;124;43m\"\u001b[39;49m\u001b[38;5;124;43mastype\u001b[39;49m\u001b[38;5;124;43m\"\u001b[39;49m\u001b[43m,\u001b[49m\n\u001b[0;32m    432\u001b[0m \u001b[43m    \u001b[49m\u001b[43mdtype\u001b[49m\u001b[38;5;241;43m=\u001b[39;49m\u001b[43mdtype\u001b[49m\u001b[43m,\u001b[49m\n\u001b[0;32m    433\u001b[0m \u001b[43m    \u001b[49m\u001b[43mcopy\u001b[49m\u001b[38;5;241;43m=\u001b[39;49m\u001b[43mcopy\u001b[49m\u001b[43m,\u001b[49m\n\u001b[0;32m    434\u001b[0m \u001b[43m    \u001b[49m\u001b[43merrors\u001b[49m\u001b[38;5;241;43m=\u001b[39;49m\u001b[43merrors\u001b[49m\u001b[43m,\u001b[49m\n\u001b[0;32m    435\u001b[0m \u001b[43m    \u001b[49m\u001b[43musing_cow\u001b[49m\u001b[38;5;241;43m=\u001b[39;49m\u001b[43musing_copy_on_write\u001b[49m\u001b[43m(\u001b[49m\u001b[43m)\u001b[49m\u001b[43m,\u001b[49m\n\u001b[0;32m    436\u001b[0m \u001b[43m\u001b[49m\u001b[43m)\u001b[49m\n",
      "File \u001b[1;32m~\\AppData\\Local\\Programs\\Python\\Python310\\lib\\site-packages\\pandas\\core\\internals\\managers.py:363\u001b[0m, in \u001b[0;36mBaseBlockManager.apply\u001b[1;34m(self, f, align_keys, **kwargs)\u001b[0m\n\u001b[0;32m    361\u001b[0m         applied \u001b[38;5;241m=\u001b[39m b\u001b[38;5;241m.\u001b[39mapply(f, \u001b[38;5;241m*\u001b[39m\u001b[38;5;241m*\u001b[39mkwargs)\n\u001b[0;32m    362\u001b[0m     \u001b[38;5;28;01melse\u001b[39;00m:\n\u001b[1;32m--> 363\u001b[0m         applied \u001b[38;5;241m=\u001b[39m \u001b[38;5;28mgetattr\u001b[39m(b, f)(\u001b[38;5;241m*\u001b[39m\u001b[38;5;241m*\u001b[39mkwargs)\n\u001b[0;32m    364\u001b[0m     result_blocks \u001b[38;5;241m=\u001b[39m extend_blocks(applied, result_blocks)\n\u001b[0;32m    366\u001b[0m out \u001b[38;5;241m=\u001b[39m \u001b[38;5;28mtype\u001b[39m(\u001b[38;5;28mself\u001b[39m)\u001b[38;5;241m.\u001b[39mfrom_blocks(result_blocks, \u001b[38;5;28mself\u001b[39m\u001b[38;5;241m.\u001b[39maxes)\n",
      "File \u001b[1;32m~\\AppData\\Local\\Programs\\Python\\Python310\\lib\\site-packages\\pandas\\core\\internals\\blocks.py:758\u001b[0m, in \u001b[0;36mBlock.astype\u001b[1;34m(self, dtype, copy, errors, using_cow, squeeze)\u001b[0m\n\u001b[0;32m    755\u001b[0m         \u001b[38;5;28;01mraise\u001b[39;00m \u001b[38;5;167;01mValueError\u001b[39;00m(\u001b[38;5;124m\"\u001b[39m\u001b[38;5;124mCan not squeeze with more than one column.\u001b[39m\u001b[38;5;124m\"\u001b[39m)\n\u001b[0;32m    756\u001b[0m     values \u001b[38;5;241m=\u001b[39m values[\u001b[38;5;241m0\u001b[39m, :]  \u001b[38;5;66;03m# type: ignore[call-overload]\u001b[39;00m\n\u001b[1;32m--> 758\u001b[0m new_values \u001b[38;5;241m=\u001b[39m \u001b[43mastype_array_safe\u001b[49m\u001b[43m(\u001b[49m\u001b[43mvalues\u001b[49m\u001b[43m,\u001b[49m\u001b[43m \u001b[49m\u001b[43mdtype\u001b[49m\u001b[43m,\u001b[49m\u001b[43m \u001b[49m\u001b[43mcopy\u001b[49m\u001b[38;5;241;43m=\u001b[39;49m\u001b[43mcopy\u001b[49m\u001b[43m,\u001b[49m\u001b[43m \u001b[49m\u001b[43merrors\u001b[49m\u001b[38;5;241;43m=\u001b[39;49m\u001b[43merrors\u001b[49m\u001b[43m)\u001b[49m\n\u001b[0;32m    760\u001b[0m new_values \u001b[38;5;241m=\u001b[39m maybe_coerce_values(new_values)\n\u001b[0;32m    762\u001b[0m refs \u001b[38;5;241m=\u001b[39m \u001b[38;5;28;01mNone\u001b[39;00m\n",
      "File \u001b[1;32m~\\AppData\\Local\\Programs\\Python\\Python310\\lib\\site-packages\\pandas\\core\\dtypes\\astype.py:237\u001b[0m, in \u001b[0;36mastype_array_safe\u001b[1;34m(values, dtype, copy, errors)\u001b[0m\n\u001b[0;32m    234\u001b[0m     dtype \u001b[38;5;241m=\u001b[39m dtype\u001b[38;5;241m.\u001b[39mnumpy_dtype\n\u001b[0;32m    236\u001b[0m \u001b[38;5;28;01mtry\u001b[39;00m:\n\u001b[1;32m--> 237\u001b[0m     new_values \u001b[38;5;241m=\u001b[39m \u001b[43mastype_array\u001b[49m\u001b[43m(\u001b[49m\u001b[43mvalues\u001b[49m\u001b[43m,\u001b[49m\u001b[43m \u001b[49m\u001b[43mdtype\u001b[49m\u001b[43m,\u001b[49m\u001b[43m \u001b[49m\u001b[43mcopy\u001b[49m\u001b[38;5;241;43m=\u001b[39;49m\u001b[43mcopy\u001b[49m\u001b[43m)\u001b[49m\n\u001b[0;32m    238\u001b[0m \u001b[38;5;28;01mexcept\u001b[39;00m (\u001b[38;5;167;01mValueError\u001b[39;00m, \u001b[38;5;167;01mTypeError\u001b[39;00m):\n\u001b[0;32m    239\u001b[0m     \u001b[38;5;66;03m# e.g. _astype_nansafe can fail on object-dtype of strings\u001b[39;00m\n\u001b[0;32m    240\u001b[0m     \u001b[38;5;66;03m#  trying to convert to float\u001b[39;00m\n\u001b[0;32m    241\u001b[0m     \u001b[38;5;28;01mif\u001b[39;00m errors \u001b[38;5;241m==\u001b[39m \u001b[38;5;124m\"\u001b[39m\u001b[38;5;124mignore\u001b[39m\u001b[38;5;124m\"\u001b[39m:\n",
      "File \u001b[1;32m~\\AppData\\Local\\Programs\\Python\\Python310\\lib\\site-packages\\pandas\\core\\dtypes\\astype.py:182\u001b[0m, in \u001b[0;36mastype_array\u001b[1;34m(values, dtype, copy)\u001b[0m\n\u001b[0;32m    179\u001b[0m     values \u001b[38;5;241m=\u001b[39m values\u001b[38;5;241m.\u001b[39mastype(dtype, copy\u001b[38;5;241m=\u001b[39mcopy)\n\u001b[0;32m    181\u001b[0m \u001b[38;5;28;01melse\u001b[39;00m:\n\u001b[1;32m--> 182\u001b[0m     values \u001b[38;5;241m=\u001b[39m \u001b[43m_astype_nansafe\u001b[49m\u001b[43m(\u001b[49m\u001b[43mvalues\u001b[49m\u001b[43m,\u001b[49m\u001b[43m \u001b[49m\u001b[43mdtype\u001b[49m\u001b[43m,\u001b[49m\u001b[43m \u001b[49m\u001b[43mcopy\u001b[49m\u001b[38;5;241;43m=\u001b[39;49m\u001b[43mcopy\u001b[49m\u001b[43m)\u001b[49m\n\u001b[0;32m    184\u001b[0m \u001b[38;5;66;03m# in pandas we don't store numpy str dtypes, so convert to object\u001b[39;00m\n\u001b[0;32m    185\u001b[0m \u001b[38;5;28;01mif\u001b[39;00m \u001b[38;5;28misinstance\u001b[39m(dtype, np\u001b[38;5;241m.\u001b[39mdtype) \u001b[38;5;129;01mand\u001b[39;00m \u001b[38;5;28missubclass\u001b[39m(values\u001b[38;5;241m.\u001b[39mdtype\u001b[38;5;241m.\u001b[39mtype, \u001b[38;5;28mstr\u001b[39m):\n",
      "File \u001b[1;32m~\\AppData\\Local\\Programs\\Python\\Python310\\lib\\site-packages\\pandas\\core\\dtypes\\astype.py:133\u001b[0m, in \u001b[0;36m_astype_nansafe\u001b[1;34m(arr, dtype, copy, skipna)\u001b[0m\n\u001b[0;32m    129\u001b[0m     \u001b[38;5;28;01mraise\u001b[39;00m \u001b[38;5;167;01mValueError\u001b[39;00m(msg)\n\u001b[0;32m    131\u001b[0m \u001b[38;5;28;01mif\u001b[39;00m copy \u001b[38;5;129;01mor\u001b[39;00m arr\u001b[38;5;241m.\u001b[39mdtype \u001b[38;5;241m==\u001b[39m \u001b[38;5;28mobject\u001b[39m \u001b[38;5;129;01mor\u001b[39;00m dtype \u001b[38;5;241m==\u001b[39m \u001b[38;5;28mobject\u001b[39m:\n\u001b[0;32m    132\u001b[0m     \u001b[38;5;66;03m# Explicit copy, or required since NumPy can't view from / to object.\u001b[39;00m\n\u001b[1;32m--> 133\u001b[0m     \u001b[38;5;28;01mreturn\u001b[39;00m \u001b[43marr\u001b[49m\u001b[38;5;241;43m.\u001b[39;49m\u001b[43mastype\u001b[49m\u001b[43m(\u001b[49m\u001b[43mdtype\u001b[49m\u001b[43m,\u001b[49m\u001b[43m \u001b[49m\u001b[43mcopy\u001b[49m\u001b[38;5;241;43m=\u001b[39;49m\u001b[38;5;28;43;01mTrue\u001b[39;49;00m\u001b[43m)\u001b[49m\n\u001b[0;32m    135\u001b[0m \u001b[38;5;28;01mreturn\u001b[39;00m arr\u001b[38;5;241m.\u001b[39mastype(dtype, copy\u001b[38;5;241m=\u001b[39mcopy)\n",
      "\u001b[1;31mValueError\u001b[0m: could not convert string to float: 'Mazda RX4'"
     ]
    }
   ],
   "source": [
    "df2[\"model\"]=df2['model'].astype('float')"
   ]
  },
  {
   "cell_type": "code",
   "execution_count": 147,
   "id": "d51b7a72",
   "metadata": {},
   "outputs": [
    {
     "data": {
      "text/plain": [
       "0    NaN\n",
       "1    NaN\n",
       "2    NaN\n",
       "3    NaN\n",
       "4    NaN\n",
       "5    NaN\n",
       "6    NaN\n",
       "7    NaN\n",
       "8    NaN\n",
       "9    NaN\n",
       "10   NaN\n",
       "11   NaN\n",
       "12   NaN\n",
       "13   NaN\n",
       "14   NaN\n",
       "15   NaN\n",
       "16   NaN\n",
       "17   NaN\n",
       "18   NaN\n",
       "19   NaN\n",
       "20   NaN\n",
       "21   NaN\n",
       "22   NaN\n",
       "23   NaN\n",
       "24   NaN\n",
       "25   NaN\n",
       "26   NaN\n",
       "27   NaN\n",
       "28   NaN\n",
       "29   NaN\n",
       "30   NaN\n",
       "31   NaN\n",
       "Name: model, dtype: float64"
      ]
     },
     "execution_count": 147,
     "metadata": {},
     "output_type": "execute_result"
    }
   ],
   "source": [
    "df2['model']=pd.to_numeric(df2['model'],errors='coerce')\n",
    "df2['model']"
   ]
  },
  {
   "cell_type": "code",
   "execution_count": 151,
   "id": "909065ea",
   "metadata": {
    "scrolled": true
   },
   "outputs": [
    {
     "data": {
      "text/html": [
       "<div>\n",
       "<style scoped>\n",
       "    .dataframe tbody tr th:only-of-type {\n",
       "        vertical-align: middle;\n",
       "    }\n",
       "\n",
       "    .dataframe tbody tr th {\n",
       "        vertical-align: top;\n",
       "    }\n",
       "\n",
       "    .dataframe thead th {\n",
       "        text-align: right;\n",
       "    }\n",
       "</style>\n",
       "<table border=\"1\" class=\"dataframe\">\n",
       "  <thead>\n",
       "    <tr style=\"text-align: right;\">\n",
       "      <th></th>\n",
       "      <th>S.No</th>\n",
       "      <th>model</th>\n",
       "      <th>mpg</th>\n",
       "      <th>cyl</th>\n",
       "      <th>disp</th>\n",
       "      <th>hp</th>\n",
       "      <th>drat</th>\n",
       "      <th>wt</th>\n",
       "      <th>qsec</th>\n",
       "      <th>vs</th>\n",
       "      <th>am</th>\n",
       "      <th>gear</th>\n",
       "      <th>carb</th>\n",
       "    </tr>\n",
       "  </thead>\n",
       "  <tbody>\n",
       "    <tr>\n",
       "      <th>S.No</th>\n",
       "      <td>1.000000</td>\n",
       "      <td>NaN</td>\n",
       "      <td>0.084699</td>\n",
       "      <td>-0.028882</td>\n",
       "      <td>-0.022048</td>\n",
       "      <td>0.242295</td>\n",
       "      <td>0.240952</td>\n",
       "      <td>-0.162419</td>\n",
       "      <td>-0.376658</td>\n",
       "      <td>-0.109162</td>\n",
       "      <td>0.354905</td>\n",
       "      <td>0.400825</td>\n",
       "      <td>0.174576</td>\n",
       "    </tr>\n",
       "    <tr>\n",
       "      <th>model</th>\n",
       "      <td>NaN</td>\n",
       "      <td>NaN</td>\n",
       "      <td>NaN</td>\n",
       "      <td>NaN</td>\n",
       "      <td>NaN</td>\n",
       "      <td>NaN</td>\n",
       "      <td>NaN</td>\n",
       "      <td>NaN</td>\n",
       "      <td>NaN</td>\n",
       "      <td>NaN</td>\n",
       "      <td>NaN</td>\n",
       "      <td>NaN</td>\n",
       "      <td>NaN</td>\n",
       "    </tr>\n",
       "    <tr>\n",
       "      <th>mpg</th>\n",
       "      <td>0.084699</td>\n",
       "      <td>NaN</td>\n",
       "      <td>1.000000</td>\n",
       "      <td>-0.852162</td>\n",
       "      <td>-0.847551</td>\n",
       "      <td>-0.776168</td>\n",
       "      <td>0.681172</td>\n",
       "      <td>-0.867659</td>\n",
       "      <td>0.401294</td>\n",
       "      <td>0.664039</td>\n",
       "      <td>0.599832</td>\n",
       "      <td>0.480285</td>\n",
       "      <td>-0.550925</td>\n",
       "    </tr>\n",
       "    <tr>\n",
       "      <th>cyl</th>\n",
       "      <td>-0.028882</td>\n",
       "      <td>NaN</td>\n",
       "      <td>-0.852162</td>\n",
       "      <td>1.000000</td>\n",
       "      <td>0.902033</td>\n",
       "      <td>0.832447</td>\n",
       "      <td>-0.699938</td>\n",
       "      <td>0.782496</td>\n",
       "      <td>-0.579882</td>\n",
       "      <td>-0.810812</td>\n",
       "      <td>-0.522607</td>\n",
       "      <td>-0.492687</td>\n",
       "      <td>0.526988</td>\n",
       "    </tr>\n",
       "    <tr>\n",
       "      <th>disp</th>\n",
       "      <td>-0.022048</td>\n",
       "      <td>NaN</td>\n",
       "      <td>-0.847551</td>\n",
       "      <td>0.902033</td>\n",
       "      <td>1.000000</td>\n",
       "      <td>0.790949</td>\n",
       "      <td>-0.710214</td>\n",
       "      <td>0.887980</td>\n",
       "      <td>-0.406922</td>\n",
       "      <td>-0.710416</td>\n",
       "      <td>-0.591227</td>\n",
       "      <td>-0.555569</td>\n",
       "      <td>0.394977</td>\n",
       "    </tr>\n",
       "    <tr>\n",
       "      <th>hp</th>\n",
       "      <td>0.242295</td>\n",
       "      <td>NaN</td>\n",
       "      <td>-0.776168</td>\n",
       "      <td>0.832447</td>\n",
       "      <td>0.790949</td>\n",
       "      <td>1.000000</td>\n",
       "      <td>-0.448759</td>\n",
       "      <td>0.658748</td>\n",
       "      <td>-0.690114</td>\n",
       "      <td>-0.723097</td>\n",
       "      <td>-0.243204</td>\n",
       "      <td>-0.125704</td>\n",
       "      <td>0.749812</td>\n",
       "    </tr>\n",
       "    <tr>\n",
       "      <th>drat</th>\n",
       "      <td>0.240952</td>\n",
       "      <td>NaN</td>\n",
       "      <td>0.681172</td>\n",
       "      <td>-0.699938</td>\n",
       "      <td>-0.710214</td>\n",
       "      <td>-0.448759</td>\n",
       "      <td>1.000000</td>\n",
       "      <td>-0.712441</td>\n",
       "      <td>0.128973</td>\n",
       "      <td>0.440278</td>\n",
       "      <td>0.712711</td>\n",
       "      <td>0.699610</td>\n",
       "      <td>-0.090790</td>\n",
       "    </tr>\n",
       "    <tr>\n",
       "      <th>wt</th>\n",
       "      <td>-0.162419</td>\n",
       "      <td>NaN</td>\n",
       "      <td>-0.867659</td>\n",
       "      <td>0.782496</td>\n",
       "      <td>0.887980</td>\n",
       "      <td>0.658748</td>\n",
       "      <td>-0.712441</td>\n",
       "      <td>1.000000</td>\n",
       "      <td>-0.137198</td>\n",
       "      <td>-0.554916</td>\n",
       "      <td>-0.692495</td>\n",
       "      <td>-0.583287</td>\n",
       "      <td>0.427606</td>\n",
       "    </tr>\n",
       "    <tr>\n",
       "      <th>qsec</th>\n",
       "      <td>-0.376658</td>\n",
       "      <td>NaN</td>\n",
       "      <td>0.401294</td>\n",
       "      <td>-0.579882</td>\n",
       "      <td>-0.406922</td>\n",
       "      <td>-0.690114</td>\n",
       "      <td>0.128973</td>\n",
       "      <td>-0.137198</td>\n",
       "      <td>1.000000</td>\n",
       "      <td>0.717275</td>\n",
       "      <td>-0.288955</td>\n",
       "      <td>-0.207942</td>\n",
       "      <td>-0.616964</td>\n",
       "    </tr>\n",
       "    <tr>\n",
       "      <th>vs</th>\n",
       "      <td>-0.109162</td>\n",
       "      <td>NaN</td>\n",
       "      <td>0.664039</td>\n",
       "      <td>-0.810812</td>\n",
       "      <td>-0.710416</td>\n",
       "      <td>-0.723097</td>\n",
       "      <td>0.440278</td>\n",
       "      <td>-0.554916</td>\n",
       "      <td>0.717275</td>\n",
       "      <td>1.000000</td>\n",
       "      <td>0.168345</td>\n",
       "      <td>0.206023</td>\n",
       "      <td>-0.569607</td>\n",
       "    </tr>\n",
       "    <tr>\n",
       "      <th>am</th>\n",
       "      <td>0.354905</td>\n",
       "      <td>NaN</td>\n",
       "      <td>0.599832</td>\n",
       "      <td>-0.522607</td>\n",
       "      <td>-0.591227</td>\n",
       "      <td>-0.243204</td>\n",
       "      <td>0.712711</td>\n",
       "      <td>-0.692495</td>\n",
       "      <td>-0.288955</td>\n",
       "      <td>0.168345</td>\n",
       "      <td>1.000000</td>\n",
       "      <td>0.794059</td>\n",
       "      <td>0.057534</td>\n",
       "    </tr>\n",
       "    <tr>\n",
       "      <th>gear</th>\n",
       "      <td>0.400825</td>\n",
       "      <td>NaN</td>\n",
       "      <td>0.480285</td>\n",
       "      <td>-0.492687</td>\n",
       "      <td>-0.555569</td>\n",
       "      <td>-0.125704</td>\n",
       "      <td>0.699610</td>\n",
       "      <td>-0.583287</td>\n",
       "      <td>-0.207942</td>\n",
       "      <td>0.206023</td>\n",
       "      <td>0.794059</td>\n",
       "      <td>1.000000</td>\n",
       "      <td>0.274073</td>\n",
       "    </tr>\n",
       "    <tr>\n",
       "      <th>carb</th>\n",
       "      <td>0.174576</td>\n",
       "      <td>NaN</td>\n",
       "      <td>-0.550925</td>\n",
       "      <td>0.526988</td>\n",
       "      <td>0.394977</td>\n",
       "      <td>0.749812</td>\n",
       "      <td>-0.090790</td>\n",
       "      <td>0.427606</td>\n",
       "      <td>-0.616964</td>\n",
       "      <td>-0.569607</td>\n",
       "      <td>0.057534</td>\n",
       "      <td>0.274073</td>\n",
       "      <td>1.000000</td>\n",
       "    </tr>\n",
       "  </tbody>\n",
       "</table>\n",
       "</div>"
      ],
      "text/plain": [
       "           S.No  model       mpg       cyl      disp        hp      drat  \\\n",
       "S.No   1.000000    NaN  0.084699 -0.028882 -0.022048  0.242295  0.240952   \n",
       "model       NaN    NaN       NaN       NaN       NaN       NaN       NaN   \n",
       "mpg    0.084699    NaN  1.000000 -0.852162 -0.847551 -0.776168  0.681172   \n",
       "cyl   -0.028882    NaN -0.852162  1.000000  0.902033  0.832447 -0.699938   \n",
       "disp  -0.022048    NaN -0.847551  0.902033  1.000000  0.790949 -0.710214   \n",
       "hp     0.242295    NaN -0.776168  0.832447  0.790949  1.000000 -0.448759   \n",
       "drat   0.240952    NaN  0.681172 -0.699938 -0.710214 -0.448759  1.000000   \n",
       "wt    -0.162419    NaN -0.867659  0.782496  0.887980  0.658748 -0.712441   \n",
       "qsec  -0.376658    NaN  0.401294 -0.579882 -0.406922 -0.690114  0.128973   \n",
       "vs    -0.109162    NaN  0.664039 -0.810812 -0.710416 -0.723097  0.440278   \n",
       "am     0.354905    NaN  0.599832 -0.522607 -0.591227 -0.243204  0.712711   \n",
       "gear   0.400825    NaN  0.480285 -0.492687 -0.555569 -0.125704  0.699610   \n",
       "carb   0.174576    NaN -0.550925  0.526988  0.394977  0.749812 -0.090790   \n",
       "\n",
       "             wt      qsec        vs        am      gear      carb  \n",
       "S.No  -0.162419 -0.376658 -0.109162  0.354905  0.400825  0.174576  \n",
       "model       NaN       NaN       NaN       NaN       NaN       NaN  \n",
       "mpg   -0.867659  0.401294  0.664039  0.599832  0.480285 -0.550925  \n",
       "cyl    0.782496 -0.579882 -0.810812 -0.522607 -0.492687  0.526988  \n",
       "disp   0.887980 -0.406922 -0.710416 -0.591227 -0.555569  0.394977  \n",
       "hp     0.658748 -0.690114 -0.723097 -0.243204 -0.125704  0.749812  \n",
       "drat  -0.712441  0.128973  0.440278  0.712711  0.699610 -0.090790  \n",
       "wt     1.000000 -0.137198 -0.554916 -0.692495 -0.583287  0.427606  \n",
       "qsec  -0.137198  1.000000  0.717275 -0.288955 -0.207942 -0.616964  \n",
       "vs    -0.554916  0.717275  1.000000  0.168345  0.206023 -0.569607  \n",
       "am    -0.692495 -0.288955  0.168345  1.000000  0.794059  0.057534  \n",
       "gear  -0.583287 -0.207942  0.206023  0.794059  1.000000  0.274073  \n",
       "carb   0.427606 -0.616964 -0.569607  0.057534  0.274073  1.000000  "
      ]
     },
     "execution_count": 151,
     "metadata": {},
     "output_type": "execute_result"
    }
   ],
   "source": [
    "corr=df2.corr()  #correlation means how much a column is related to other \n",
    "corr"
   ]
  },
  {
   "cell_type": "markdown",
   "id": "3970c061",
   "metadata": {},
   "source": [
    "## best visulzation tool for correlation\n",
    "# heat map"
   ]
  },
  {
   "cell_type": "code",
   "execution_count": 173,
   "id": "6ff3da78",
   "metadata": {},
   "outputs": [
    {
     "data": {
      "image/png": "[encoded data removed]",
      "text/plain": [
       "<Figure size 1008x576 with 2 Axes>"
      ]
     },
     "metadata": {
      "needs_background": "light"
     },
     "output_type": "display_data"
    }
   ],
   "source": [
    "plt.figure(figsize=(14,8))\n",
    "sns.heatmap(corr,annot=True,cmap='coolwarm')\n",
    "plt.title(\"corelation heatmap\")\n",
    "plt.show()\n"
   ]
  },
  {
   "cell_type": "markdown",
   "id": "54d3faad",
   "metadata": {},
   "source": [
    "# Probability"
   ]
  },
  {
   "cell_type": "code",
   "execution_count": 178,
   "id": "1f443095",
   "metadata": {},
   "outputs": [
    {
     "data": {
      "text/html": [
       "<div>\n",
       "<style scoped>\n",
       "    .dataframe tbody tr th:only-of-type {\n",
       "        vertical-align: middle;\n",
       "    }\n",
       "\n",
       "    .dataframe tbody tr th {\n",
       "        vertical-align: top;\n",
       "    }\n",
       "\n",
       "    .dataframe thead th {\n",
       "        text-align: right;\n",
       "    }\n",
       "</style>\n",
       "<table border=\"1\" class=\"dataframe\">\n",
       "  <thead>\n",
       "    <tr style=\"text-align: right;\">\n",
       "      <th></th>\n",
       "      <th>mpg</th>\n",
       "      <th>cylinders</th>\n",
       "      <th>cubicinches</th>\n",
       "      <th>hp</th>\n",
       "      <th>weightlbs</th>\n",
       "      <th>time-to-60</th>\n",
       "      <th>year</th>\n",
       "      <th>brand</th>\n",
       "    </tr>\n",
       "  </thead>\n",
       "  <tbody>\n",
       "    <tr>\n",
       "      <th>0</th>\n",
       "      <td>14.0</td>\n",
       "      <td>8</td>\n",
       "      <td>350</td>\n",
       "      <td>165</td>\n",
       "      <td>4209</td>\n",
       "      <td>12</td>\n",
       "      <td>1972</td>\n",
       "      <td>US.</td>\n",
       "    </tr>\n",
       "    <tr>\n",
       "      <th>1</th>\n",
       "      <td>31.9</td>\n",
       "      <td>4</td>\n",
       "      <td>89</td>\n",
       "      <td>71</td>\n",
       "      <td>1925</td>\n",
       "      <td>14</td>\n",
       "      <td>1980</td>\n",
       "      <td>Europe.</td>\n",
       "    </tr>\n",
       "    <tr>\n",
       "      <th>2</th>\n",
       "      <td>17.0</td>\n",
       "      <td>8</td>\n",
       "      <td>302</td>\n",
       "      <td>140</td>\n",
       "      <td>3449</td>\n",
       "      <td>11</td>\n",
       "      <td>1971</td>\n",
       "      <td>US.</td>\n",
       "    </tr>\n",
       "    <tr>\n",
       "      <th>3</th>\n",
       "      <td>15.0</td>\n",
       "      <td>8</td>\n",
       "      <td>400</td>\n",
       "      <td>150</td>\n",
       "      <td>3761</td>\n",
       "      <td>10</td>\n",
       "      <td>1971</td>\n",
       "      <td>US.</td>\n",
       "    </tr>\n",
       "    <tr>\n",
       "      <th>4</th>\n",
       "      <td>30.5</td>\n",
       "      <td>4</td>\n",
       "      <td>98</td>\n",
       "      <td>63</td>\n",
       "      <td>2051</td>\n",
       "      <td>17</td>\n",
       "      <td>1978</td>\n",
       "      <td>US.</td>\n",
       "    </tr>\n",
       "    <tr>\n",
       "      <th>...</th>\n",
       "      <td>...</td>\n",
       "      <td>...</td>\n",
       "      <td>...</td>\n",
       "      <td>...</td>\n",
       "      <td>...</td>\n",
       "      <td>...</td>\n",
       "      <td>...</td>\n",
       "      <td>...</td>\n",
       "    </tr>\n",
       "    <tr>\n",
       "      <th>256</th>\n",
       "      <td>17.0</td>\n",
       "      <td>8</td>\n",
       "      <td>305</td>\n",
       "      <td>130</td>\n",
       "      <td>3840</td>\n",
       "      <td>15</td>\n",
       "      <td>1980</td>\n",
       "      <td>US.</td>\n",
       "    </tr>\n",
       "    <tr>\n",
       "      <th>257</th>\n",
       "      <td>36.1</td>\n",
       "      <td>4</td>\n",
       "      <td>91</td>\n",
       "      <td>60</td>\n",
       "      <td>1800</td>\n",
       "      <td>16</td>\n",
       "      <td>1979</td>\n",
       "      <td>Japan.</td>\n",
       "    </tr>\n",
       "    <tr>\n",
       "      <th>258</th>\n",
       "      <td>22.0</td>\n",
       "      <td>6</td>\n",
       "      <td>232</td>\n",
       "      <td>112</td>\n",
       "      <td>2835</td>\n",
       "      <td>15</td>\n",
       "      <td>1983</td>\n",
       "      <td>US.</td>\n",
       "    </tr>\n",
       "    <tr>\n",
       "      <th>259</th>\n",
       "      <td>18.0</td>\n",
       "      <td>6</td>\n",
       "      <td>232</td>\n",
       "      <td>100</td>\n",
       "      <td>3288</td>\n",
       "      <td>16</td>\n",
       "      <td>1972</td>\n",
       "      <td>US.</td>\n",
       "    </tr>\n",
       "    <tr>\n",
       "      <th>260</th>\n",
       "      <td>22.0</td>\n",
       "      <td>6</td>\n",
       "      <td>250</td>\n",
       "      <td>105</td>\n",
       "      <td>3353</td>\n",
       "      <td>15</td>\n",
       "      <td>1977</td>\n",
       "      <td>US.</td>\n",
       "    </tr>\n",
       "  </tbody>\n",
       "</table>\n",
       "<p>261 rows × 8 columns</p>\n",
       "</div>"
      ],
      "text/plain": [
       "      mpg  cylinders cubicinches   hp weightlbs  time-to-60  year     brand\n",
       "0    14.0          8         350  165      4209          12  1972       US.\n",
       "1    31.9          4          89   71      1925          14  1980   Europe.\n",
       "2    17.0          8         302  140      3449          11  1971       US.\n",
       "3    15.0          8         400  150      3761          10  1971       US.\n",
       "4    30.5          4          98   63      2051          17  1978       US.\n",
       "..    ...        ...         ...  ...       ...         ...   ...       ...\n",
       "256  17.0          8         305  130      3840          15  1980       US.\n",
       "257  36.1          4          91   60      1800          16  1979    Japan.\n",
       "258  22.0          6         232  112      2835          15  1983       US.\n",
       "259  18.0          6         232  100      3288          16  1972       US.\n",
       "260  22.0          6         250  105      3353          15  1977       US.\n",
       "\n",
       "[261 rows x 8 columns]"
      ]
     },
     "execution_count": 178,
     "metadata": {},
     "output_type": "execute_result"
    }
   ],
   "source": [
    "data= pd.read_csv(\"C:/Users/Navin Kumar/Desktop/coding_jupyter_notebook/DATA/cars.csv\")\n",
    "data"
   ]
  },
  {
   "cell_type": "code",
   "execution_count": 181,
   "id": "886a0464",
   "metadata": {},
   "outputs": [
    {
     "name": "stdout",
     "output_type": "stream",
     "text": [
      "<class 'pandas.core.frame.DataFrame'>\n",
      "RangeIndex: 261 entries, 0 to 260\n",
      "Data columns (total 8 columns):\n",
      " #   Column       Non-Null Count  Dtype  \n",
      "---  ------       --------------  -----  \n",
      " 0   mpg          261 non-null    float64\n",
      " 1   cylinders    261 non-null    int64  \n",
      " 2   cubicinches  261 non-null    object \n",
      " 3   hp           261 non-null    int64  \n",
      " 4   weightlbs    261 non-null    object \n",
      " 5   time-to-60   261 non-null    int64  \n",
      " 6   year         261 non-null    int64  \n",
      " 7   brand        261 non-null    object \n",
      "dtypes: float64(1), int64(4), object(3)\n",
      "memory usage: 16.4+ KB\n"
     ]
    }
   ],
   "source": [
    "data.info()"
   ]
  },
  {
   "cell_type": "markdown",
   "id": "82c678e6",
   "metadata": {},
   "source": [
    "Question 1 : Given data contains the features of 261 cars, Let's suppose I have to choose one random car from the given list,\n",
    "what is  the probability that the choosen car will have 6 number of cylinders in the Engine."
   ]
  },
  {
   "cell_type": "code",
   "execution_count": 189,
   "id": "663a69d9",
   "metadata": {},
   "outputs": [
    {
     "data": {
      "text/plain": [
       "cylinders\n",
       "4    125\n",
       "8     76\n",
       "6     55\n",
       "5      3\n",
       "3      2\n",
       "Name: count, dtype: int64"
      ]
     },
     "execution_count": 189,
     "metadata": {},
     "output_type": "execute_result"
    }
   ],
   "source": [
    "data['cylinders'].value_counts()\n",
    "\n"
   ]
  },
  {
   "cell_type": "code",
   "execution_count": 194,
   "id": "b2a4e33b",
   "metadata": {},
   "outputs": [
    {
     "data": {
      "text/plain": [
       "0.210727969348659"
      ]
     },
     "execution_count": 194,
     "metadata": {},
     "output_type": "execute_result"
    }
   ],
   "source": [
    "55/261"
   ]
  },
  {
   "cell_type": "code",
   "execution_count": 193,
   "id": "b9b3b6f0",
   "metadata": {},
   "outputs": [
    {
     "data": {
      "text/plain": [
       "0.210727969348659"
      ]
     },
     "execution_count": 193,
     "metadata": {},
     "output_type": "execute_result"
    }
   ],
   "source": [
    "#or \n",
    "len(data[data['cylinders']==6])/len(data['cylinders'])"
   ]
  },
  {
   "cell_type": "markdown",
   "id": "5c74d258",
   "metadata": {},
   "source": [
    "Question 2 : Given data contains the features of 261 cars, Let's suppose I have to choose one random car from the\n",
    "given list, what is the probability that the choosen car will have Engine horse power more than 100 given\n",
    "that number of cylinders  are 8 in the choosen car."
   ]
  },
  {
   "cell_type": "code",
   "execution_count": 204,
   "id": "3f98aeeb",
   "metadata": {},
   "outputs": [
    {
     "name": "stdout",
     "output_type": "stream",
     "text": [
      "106\n"
     ]
    },
    {
     "data": {
      "text/plain": [
       "0.5145631067961165"
      ]
     },
     "execution_count": 204,
     "metadata": {},
     "output_type": "execute_result"
    }
   ],
   "source": [
    "hp_A=len(data[data['hp']>100])\n",
    "print(hp_A)\n",
    "p_A=hp_A/206\n",
    "p_A"
   ]
  },
  {
   "cell_type": "code",
   "execution_count": 205,
   "id": "8f06c9ff",
   "metadata": {},
   "outputs": [
    {
     "name": "stdout",
     "output_type": "stream",
     "text": [
      "76\n"
     ]
    },
    {
     "data": {
      "text/plain": [
       "0.36893203883495146"
      ]
     },
     "execution_count": 205,
     "metadata": {},
     "output_type": "execute_result"
    }
   ],
   "source": [
    "cy_B=len(data[data['cylinders']==8])\n",
    "print(cy_B)\n",
    "p_B=cy_B/206\n",
    "p_B"
   ]
  },
  {
   "cell_type": "code",
   "execution_count": 219,
   "id": "9cbd96b1",
   "metadata": {},
   "outputs": [
    {
     "name": "stdout",
     "output_type": "stream",
     "text": [
      "75\n"
     ]
    },
    {
     "data": {
      "text/plain": [
       "0.9868421052631579"
      ]
     },
     "execution_count": 219,
     "metadata": {},
     "output_type": "execute_result"
    }
   ],
   "source": [
    "new=data[(data['hp']>100) & (data['cylinders']==8)]\n",
    "print(len(new))\n",
    "prob= len(new)/206\n",
    "final_prob=prob/p_B\n",
    "final_prob\n",
    "\n"
   ]
  },
  {
   "cell_type": "markdown",
   "id": "fe50a81d",
   "metadata": {},
   "source": [
    "# INTERFERENTIAL STATS"
   ]
  },
  {
   "cell_type": "code",
   "execution_count": 16,
   "id": "83010ef0",
   "metadata": {},
   "outputs": [
    {
     "name": "stdout",
     "output_type": "stream",
     "text": [
      "[64.9442345  61.1759835  57.58393199 64.57061083 58.73953647 59.52810921\n",
      " 60.04605092 55.51019503 65.22242504 62.10439139 49.48383617 62.26097304\n",
      " 51.69822206 50.97567807 58.00410722 54.29796988 63.08939063 58.92092972\n",
      " 63.25348199 58.69942314 55.6012816  63.30392709 35.98969371 66.76329594\n",
      " 46.28572432 70.7272375  55.93284993 59.19222627 67.7642358  58.92438138\n",
      " 53.07217889 49.48360649 63.563583   52.66757464 61.79173372 48.27005413\n",
      " 63.77892784 82.27866007 68.01215141 58.40420807 68.73851244 59.76682197\n",
      " 60.99872781 50.87576475 61.75623209 71.16944052 64.23825335 54.77755709\n",
      " 52.26402924 46.92085021 65.5120895  63.61151401 78.29343931 69.09662515\n",
      " 59.73679202 51.85717575 55.40247562 62.23904375 63.20091337 53.62858694\n",
      " 56.34471986 68.2216398  37.31610874 80.69472252 67.38421413 50.57497641\n",
      " 62.0994384  58.8947079  67.75509686 62.76015468 64.72522782 67.11863658\n",
      " 42.35071628 62.63229157 54.52897871 55.09735627 61.77013576 50.77397715\n",
      " 57.24897182 73.44304092 67.56293159 50.83451699 66.17809392 43.59495154\n",
      " 60.61413431 74.38503444 61.70304809 59.69241778 65.65717165 74.39739116\n",
      " 54.84928401 67.93489876 62.61478228 43.83264208 53.57499831 54.50981808\n",
      " 56.10875593 55.91363613 46.29173221 66.5266078 ]\n",
      " mean : 59.645138167127634\n",
      " std : 8.43657088463867\n"
     ]
    },
    {
     "data": {
      "image/png": "[encoded data removed]",
      "text/plain": [
       "<Figure size 432x288 with 1 Axes>"
      ]
     },
     "metadata": {
      "needs_background": "light"
     },
     "output_type": "display_data"
    }
   ],
   "source": [
    "import numpy as np\n",
    "import pandas as pd\n",
    "import matplotlib.pyplot as plt \n",
    "from scipy.stats import norm\n",
    "\n",
    "data=np.random.normal(loc=60,scale=8,size=100)\n",
    "print(data)\n",
    "mean=np.mean(data)\n",
    "std=np.std(data)\n",
    "print(f' mean : {mean}\\n std : {std}' )\n",
    "confidence_interval = 0.95\n",
    "margin_of_error = 1.96 * (std/np.sqrt(len(data)))\n",
    "upper_bound = mean + margin_of_error\n",
    "lower_bound = mean - margin_of_error\n",
    "\n",
    "plt.hist(data, color = \"#42DEC6\",bins=40,density=True,alpha = 0.9,label='sample data')\n",
    "plt.axvline(upper_bound,color = '#E23814',label='upper bound')\n",
    "plt.axvline(lower_bound,color='#145FDB',label = 'lower bound')\n",
    "plt.xlabel(\"Value\")\n",
    "plt.ylabel(\"Frequency\")\n",
    "plt.title(\"Demo for CI\")\n",
    "plt.legend(loc='best')\n",
    "plt.show()\n",
    "\n"
   ]
  },
  {
   "cell_type": "markdown",
   "id": "8d7fbce7",
   "metadata": {},
   "source": [
    "## T Test"
   ]
  },
  {
   "cell_type": "code",
   "execution_count": 28,
   "id": "df704861",
   "metadata": {},
   "outputs": [
    {
     "name": "stdout",
     "output_type": "stream",
     "text": [
      "degree of freedom: 29\n",
      "t_critical : 2.045229642132703\n",
      "t_statistic: 112.6138721247417\n",
      "P Value 1 : 7.272508958631884e-40\n",
      "P Value 2 : 0.0\n",
      "Reject the Null Hypothesis, The Sample mean is diff from populaton mean\n"
     ]
    }
   ],
   "source": [
    "from scipy import stats\n",
    "import numpy as np\n",
    "\n",
    "#given data\n",
    "sample_mean = 140\n",
    "population_mean = 100\n",
    "std_dev = 20\n",
    "n = 30\n",
    "\n",
    "\n",
    "# now for t crictical\n",
    "dof= n-1  #degree_of_freedom\n",
    "print(f'degree of freedom: {dof}')\n",
    "\n",
    "alpha = 0.05  #100-95=5/100=0.05\n",
    "\n",
    "t_critical = stats.t.ppf(1 - alpha/2, dof) # 1.percent point function   \n",
    "\n",
    "#2. if we write here directly alpha/2 then we got -ve value of t_crictical (this is from scipy library)\n",
    "#3. alpha/2 because -- 2 tailed t test \n",
    "\n",
    "print(f\"t_critical : {t_critical}\")\n",
    "\n",
    "\n",
    "#t_statistic\n",
    "t_statistic = sample_mean - population_mean/(std_dev/np.sqrt(n))\n",
    "print(f't_statistic: {t_statistic}')\n",
    "\n",
    "\n",
    "\n",
    "# p-value\n",
    "p_value_1 = 2 * stats.t.sf(np.abs(t_statistic),dof)  #survival function #we are using two tall test for that we are multiplying by 2\n",
    "p_value_2 = 2 * (1 - stats.t.cdf(np.abs(t_statistic), dof))  #cummalative distribution fuction\n",
    "print(f\"P Value 1 : {p_value_1}\")\n",
    "print(f\"P Value 2 : {p_value_2}\")\n",
    "\n",
    "\n",
    "\n",
    "    \n",
    "    \n",
    "if p_value_1 < alpha:\n",
    "    print(\"Reject the Null Hypothesis, The Sample mean is diff from populaton mean\")\n",
    "else:\n",
    "    print(\"Fail to Reject/Accept, The Sample mean is not diff from populaton mean\")\n"
   ]
  },
  {
   "cell_type": "code",
   "execution_count": 33,
   "id": "9002f493",
   "metadata": {},
   "outputs": [],
   "source": [
    "p_value_2 = 2 * (1 - stats.t.cdf(np.abs(t_statistic), dof))\n",
    "p_value_2\n",
    "p_value_2 = 2 * (1 - stats.t.cdf(np.abs(t_statistic),degree_of_freedom))\n",
    "p_value_2"
   ]
  },
  {
   "cell_type": "code",
   "execution_count": 31,
   "id": "ba13c188",
   "metadata": {},
   "outputs": [
    {
     "name": "stdout",
     "output_type": "stream",
     "text": [
      "T Statistic : 10.954451150103322\n",
      "Degree of Freedom : 29\n",
      "T Critical : 2.045229642132703\n",
      "P Value 1 : 8.02128714022661e-12\n",
      "P Value 2 : 8.021361352916756e-12\n",
      "Reject the Null Hypothesis, The Sample mean is diff from populaton mean\n"
     ]
    }
   ],
   "source": [
    "from scipy import stats\n",
    "import numpy as np\n",
    "\n",
    "#Data in the question\n",
    "population_mean = 100\n",
    "sample_mean = 140\n",
    "n = 30\n",
    "std_dev = 20\n",
    "alpha = 0.05\n",
    "\n",
    "#tstatistioc\n",
    "\n",
    "t_statistic = (sample_mean - population_mean)/(std_dev/np.sqrt(n))\n",
    "print(f\"T Statistic : {t_statistic}\")\n",
    "\n",
    "#degree of freedom\n",
    "degree_of_freedom = n-1\n",
    "print(f\"Degree of Freedom : {degree_of_freedom}\")\n",
    "\n",
    "\n",
    "#t critical value\n",
    "t_critical = stats.t.ppf(1 - alpha/2, degree_of_freedom)\n",
    "print(f\"T Critical : {t_critical}\")\n",
    "\n",
    "# p-value\n",
    "p_value_1 = 2 * stats.t.sf(np.abs(t_statistic),degree_of_freedom)\n",
    "p_value_2 = 2 * (1 - stats.t.cdf(np.abs(t_statistic),degree_of_freedom))\n",
    "print(f\"P Value 1 : {p_value_1}\")\n",
    "print(f\"P Value 2 : {p_value_2}\")\n",
    "\n",
    "if p_value_1 < alpha:\n",
    "    print(\"Reject the Null Hypothesis, The Sample mean is diff from populaton mean\")\n",
    "else:\n",
    "    print(\"Fail to Reject/Accept, The Sample mean is not diff from populaton mean\")"
   ]
  },
  {
   "cell_type": "code",
   "execution_count": 1,
   "id": "dd2551c1",
   "metadata": {},
   "outputs": [],
   "source": [
    "#t test revision"
   ]
  },
  {
   "cell_type": "code",
   "execution_count": 11,
   "id": "17012514",
   "metadata": {},
   "outputs": [
    {
     "name": "stdout",
     "output_type": "stream",
     "text": [
      "t_c: 2.045229642132703\n",
      "t_s: 10.954451150103322\n",
      "p_value: 8.02128714022661e-12\n",
      "p_value2: 1.0000000000040106\n"
     ]
    }
   ],
   "source": [
    "import numpy as np\n",
    "from scipy import stats\n",
    "sample_mean= 140\n",
    "population_mean = 100\n",
    "std = 20\n",
    "n=30\n",
    "alpha = 0.05\n",
    "dof=n-1\n",
    "t_c = stats.t.ppf(1-alpha/2,dof)\n",
    "print(f't_c: {t_c}')\n",
    "\n",
    "t_s = (sample_mean - population_mean )/(std/(np.sqrt(n)))\n",
    "print(f't_s: {t_s}')\n",
    "\n",
    "#p_value \n",
    "p_value = 2 * stats.t.sf(np.abs(t_s),dof)\n",
    "print(f'p_value: {p_value}')\n",
    "\n",
    "p_value2 = 2 * 1-(stats.t.cdf(np.abs(t_s),dof))\n",
    "print(f'p_value2: {p_value2}')\n",
    "\n"
   ]
  },
  {
   "cell_type": "markdown",
   "id": "234e770f",
   "metadata": {},
   "source": [
    "###  lecture: 3 on inferential stats"
   ]
  },
  {
   "cell_type": "markdown",
   "id": "db3b9188",
   "metadata": {},
   "source": [
    "### null hypothesis : given thing is true"
   ]
  },
  {
   "cell_type": "code",
   "execution_count": null,
   "id": "28b7ee43",
   "metadata": {},
   "outputs": [],
   "source": [
    "#altassio, google, microsoft, twilio\n",
    "\n",
    "## Two Samples T test\n",
    "\n",
    "# Example: Comparing Test Scores of Students from Different Schools\n",
    "\n",
    "# Suppose we have two groups of students: students from School A and students from School B. \n",
    "# We want to determine if there's a significant difference in their performance on a standardized test.\n",
    "\n",
    "# Here's the setup:\n",
    "\n",
    "#     Group A consists of 30 students from School A.\n",
    "#     Group B consists of 30 students from School B.\n",
    "#     Both schools claim that their teaching methods are superior, so we want to test if \n",
    "#     there's evidence to support either claim."
   ]
  },
  {
   "cell_type": "code",
   "execution_count": 38,
   "id": "e078408a",
   "metadata": {},
   "outputs": [
    {
     "name": "stdout",
     "output_type": "stream",
     "text": [
      "school_a_scores: [74.26717796 70.86711839 71.77817533 70.48125994 73.79786505 71.15305415\n",
      " 69.29829177 74.00426499 67.33398758 75.61925757 72.50554722 72.35975703\n",
      " 77.1883445  74.35951014 68.09090084 68.59906291 74.37191404 69.04054926\n",
      " 66.97198437 69.41975227 71.87851958 67.87203558 74.13190648 70.46260962\n",
      " 66.3876796  67.94929257 72.82588144 66.63814424 72.11453468 69.37981796],\n",
      "_____________________\n",
      "school_b_scores: [72.68476485 77.47921317 79.50840914 80.2988986  76.24117369 71.83633488\n",
      " 74.81793962 75.64240264 75.42903098 77.40210722 69.8384523  72.68218084\n",
      " 73.44429714 74.0783964  73.62677595 72.06354689 78.10136832 75.40718114\n",
      " 78.82099845 71.11022848 77.68102616 78.28999323 78.57791786 71.65949009\n",
      " 76.12563487 69.85248598 77.58420914 73.23417391 68.63948861 77.09601091]\n",
      "t_statistic:-5.030128066463445\n",
      " p_value:5.0372569403740465e-06\n",
      "reject H0, There is significance difference between school a and school b\n"
     ]
    }
   ],
   "source": [
    "import numpy as np \n",
    "from scipy import stats\n",
    "\n",
    "#generating data for school by ourselves\n",
    "school_a_scores = np.random.normal(loc=70, scale=3,size=30)      #without normal distribution statistic cannot function\n",
    "print(f'school_a_scores: {school_a_scores},\\n' '_____________________' )\n",
    "school_b_scores = np.random.normal(loc=75,scale=3,size=30)\n",
    "print(f'school_b_scores: {school_b_scores}' )\n",
    "\n",
    "t_stastics, p_value = stats.ttest_ind(school_a_scores,school_b_scores)\n",
    "print(f't_statistic:{t_stastics}\\n p_value:{p_value}')\n",
    "\n",
    "alpha = 0.05 #significance value\n",
    "\n",
    "if p_value< alpha :\n",
    "    print('reject H0, There is significance difference between school a and school b')\n",
    "else :\n",
    "    print('accept null hypothesis H0')\n",
    "    \n",
    "\n",
    "\n"
   ]
  },
  {
   "cell_type": "code",
   "execution_count": null,
   "id": "0bc7b4d1",
   "metadata": {},
   "outputs": [],
   "source": [
    "#meta, zoho,  Google\n",
    "\n",
    "# Example: Examining the Effectiveness of a Memory Technique\n",
    "\n",
    "# Suppose a group of students wants to test the effectiveness of a memory technique called \"Method of Loci\" \n",
    "# in improving memory retention. The method involves associating items to be remembered with specific locations \n",
    "# in a familiar environment, such as rooms in a house.\n",
    "\n",
    "# Here's the setup:\n",
    "\n",
    "#     The students will take a memory test before and after using the Method of Loci.\n",
    "#     Each student will recall a list of 20 words both before and after using the memory technique.\n",
    "#     We want to determine if there's a significant improvement in memory performance after using the Method of Loci"
   ]
  },
  {
   "cell_type": "code",
   "execution_count": 42,
   "id": "195673b2",
   "metadata": {},
   "outputs": [
    {
     "name": "stdout",
     "output_type": "stream",
     "text": [
      "t_statistic:-3.4050955305877832\n",
      " p_value:0.0019543777045540694\n",
      "reject null hypothesis,there is significant improvement in memory \n"
     ]
    }
   ],
   "source": [
    "import numpy as np\n",
    "from scipy import stats \n",
    "np.random.seed(14)\n",
    "before_test = np.random.normal(loc=12,scale=3,size=30)\n",
    "after_test  = np.random.normal(loc=15,scale=3,size=30)\n",
    "\n",
    "t_statistic, p_value = stats.ttest_rel(before_test,after_test)\n",
    "print(f't_statistic:{t_statistic}\\n p_value:{p_value}')\n",
    "\n",
    "alpha =  0.05\n",
    "if p_value < alpha :\n",
    "    print('reject null hypothesis,there is significant improvement in memory ')\n",
    "else:\n",
    "    print(\"no signifiacant improvement in memory \")\n",
    "\n"
   ]
  },
  {
   "cell_type": "markdown",
   "id": "c5ba9efe",
   "metadata": {},
   "source": [
    "# Z-Test "
   ]
  },
  {
   "cell_type": "markdown",
   "id": "a5cdc7fd",
   "metadata": {},
   "source": [
    "A factory has a machine that dispenses 80 ml of fluid in a bottle and employee believes the average amount of\n",
    "fluid is not using 40 samples he measures the average amount dispensed by the machine to be 78 ml with the\n",
    "standard deviation of 2.5 point a state the null and alternate hypothesis point b at 95% confidence interval is\n",
    "that enough evidence to support the idea that the machine is not working properly"
   ]
  },
  {
   "cell_type": "code",
   "execution_count": 3,
   "id": "2267c772",
   "metadata": {},
   "outputs": [
    {
     "name": "stdout",
     "output_type": "stream",
     "text": [
      "z_statistic : 5.059644256269407\n",
      "z_critical : 1.959963984540054\n",
      "p_value : 4.200393977082939e-07\n",
      "reject H0, machine is not working properly\n"
     ]
    }
   ],
   "source": [
    "import numpy as np \n",
    "from scipy.stats import norm\n",
    "\n",
    "\n",
    "population_mean= 80\n",
    "sample_mean = 78\n",
    "std = 2.5\n",
    "n= 40 \n",
    "alpha = 0.05\n",
    "\n",
    "#null hypothesis  -- machine is working properly \n",
    "#alternate hypothesis -- machine is not working properly \n",
    "\n",
    "z_statistic = (population_mean - sample_mean)/(std/np.sqrt(n))\n",
    "print(f'z_statistic : {z_statistic}')\n",
    "\n",
    "z_critical =norm.ppf(1-alpha/2)  #1-0.025 =0.975\n",
    "print(f'z_critical : {z_critical}')\n",
    "\n",
    "p_value = 2*(1-norm.cdf(abs(z_statistic)))   #2 tailed z_test\n",
    "print(f'p_value : {p_value}')\n",
    "\n",
    "if p_value < alpha :\n",
    "    print(\"reject H0, machine is not working properly\")\n",
    "    \n",
    "else :\n",
    "    print(\"machine is working properly\")\n"
   ]
  },
  {
   "cell_type": "markdown",
   "id": "a1d54a38",
   "metadata": {},
   "source": [
    "### z test for proportion"
   ]
  },
  {
   "cell_type": "code",
   "execution_count": 1,
   "id": "8c6dc68b",
   "metadata": {},
   "outputs": [
    {
     "name": "stdout",
     "output_type": "stream",
     "text": [
      "Fail to Reject H0, Vegetarian and Non Veg eaters are equally populay in Bangalore\n"
     ]
    }
   ],
   "source": [
    "import numpy as np\n",
    "from statsmodels.stats.proportion import proportions_ztest\n",
    "\n",
    "#data\n",
    "vegetarian_count = 960\n",
    "total_population = 1860\n",
    "\n",
    "#p_hat\n",
    "p_hat = vegetarian_count/total_population\n",
    "alpha = 0.01\n",
    "\n",
    "z_stat, p_value = proportions_ztest(count=vegetarian_count,nobs=total_population,value=0.50,alternative='two-sided')\n",
    "\n",
    "\n",
    "if p_value < alpha:\n",
    "    print(\"Reject H0, Vegetarian and Non Veg eaters are not equally populay in Bangalore\")\n",
    "else:\n",
    "    print(\"Fail to Reject H0, Vegetarian and Non Veg eaters are equally populay in Bangalore\")\n",
    "a    "
   ]
  },
  {
   "cell_type": "markdown",
   "id": "144916d6",
   "metadata": {},
   "source": [
    "## F Test"
   ]
  },
  {
   "cell_type": "code",
   "execution_count": 3,
   "id": "30379403",
   "metadata": {},
   "outputs": [
    {
     "name": "stdout",
     "output_type": "stream",
     "text": [
      "Variance 1 : 10.0\n",
      "Variance 2 : 9.0\n",
      "F Statistic : 1.11\n",
      "P Value : 0.5774577638888669\n",
      "Fail to Reject/Accept H0, \n"
     ]
    }
   ],
   "source": [
    "# f test\n",
    "import numpy as np\n",
    "from scipy.stats import f\n",
    "\n",
    "\n",
    "#data\n",
    "n1 = 10\n",
    "n2 = 13\n",
    "x1 = 15\n",
    "x2 = 14\n",
    "ssd1 = 90\n",
    "ssd2 = 108\n",
    "\n",
    "#variance\n",
    "var_1 = ssd1/(n1-1)\n",
    "var_2 = ssd2/(n2-1)\n",
    "print(f\"Variance 1 : {var_1}\\nVariance 2 : {var_2}\")\n",
    "\n",
    "#f statistic\n",
    "f_statistic = var_1/var_2\n",
    "print(f\"F Statistic : {f_statistic:.2f}\")\n",
    "\n",
    "#degree of freedom \n",
    "df1 = n1-1\n",
    "df2 = n2-1\n",
    "\n",
    "#calculate p_value\n",
    "p_value = f.cdf(f_statistic,df1,df2)\n",
    "print(f\"P Value : {p_value}\")\n",
    "\n",
    "if p_value < alpha:\n",
    "    print(\"Reject H0, \")\n",
    "else:\n",
    "    print(\"Fail to Reject/Accept H0, \")\n",
    "\n",
    "# #critical value\n",
    "# alpha = 0.05\n",
    "# f_critical = f.ppf(1- alpha/2,df1,df2)\n",
    "# print(f_critical)"
   ]
  },
  {
   "cell_type": "markdown",
   "id": "ee74a974",
   "metadata": {},
   "source": [
    "# Chi_square"
   ]
  },
  {
   "cell_type": "markdown",
   "id": "18ade8e9",
   "metadata": {},
   "source": [
    "##### look into your notebook for problem statement "
   ]
  },
  {
   "cell_type": "code",
   "execution_count": 2,
   "id": "2f7c1930",
   "metadata": {},
   "outputs": [
    {
     "data": {
      "text/plain": [
       "[(23, 20), (16, 20), (14, 20), (19, 20), (28, 20)]"
      ]
     },
     "execution_count": 2,
     "metadata": {},
     "output_type": "execute_result"
    }
   ],
   "source": [
    "observed = [23,16,14,19,28]\n",
    "expected = [20,20,20,20,20]\n",
    "arr=list(zip(observed,expected))   # Zip will do column wise operation\n",
    "arr"
   ]
  },
  {
   "cell_type": "code",
   "execution_count": 9,
   "id": "b9a17341",
   "metadata": {},
   "outputs": [
    {
     "name": "stdout",
     "output_type": "stream",
     "text": [
      "23 20\n",
      "16 20\n",
      "14 20\n",
      "19 20\n",
      "28 20\n"
     ]
    }
   ],
   "source": [
    "for i,j in arr :\n",
    "    print(i,j)\n",
    "    "
   ]
  },
  {
   "cell_type": "code",
   "execution_count": 8,
   "id": "549f6b08",
   "metadata": {},
   "outputs": [
    {
     "name": "stdout",
     "output_type": "stream",
     "text": [
      "3\n",
      "-4\n",
      "-6\n",
      "-1\n",
      "8\n"
     ]
    }
   ],
   "source": [
    "for i,j in arr :\n",
    "    print(i-j)"
   ]
  },
  {
   "cell_type": "code",
   "execution_count": 6,
   "id": "5cfbed32",
   "metadata": {},
   "outputs": [
    {
     "data": {
      "text/plain": [
       "6.3"
      ]
     },
     "execution_count": 6,
     "metadata": {},
     "output_type": "execute_result"
    }
   ],
   "source": [
    "chi_statistic = 0\n",
    "for i,j in zip(observed,expected) :\n",
    "    chi_statistic += ((i- j)**2)/j\n",
    "chi_statistic\n",
    "    "
   ]
  },
  {
   "cell_type": "code",
   "execution_count": 23,
   "id": "8570de07",
   "metadata": {},
   "outputs": [
    {
     "name": "stdout",
     "output_type": "stream",
     "text": [
      "chi_critical: 9.487729036781154\n",
      "p_value: 0.1778363264982168\n",
      "accept null hypothesis,There is no significance difference between expectation and observation\n"
     ]
    }
   ],
   "source": [
    "from scipy.stats import chi2\n",
    "import numpy as np \n",
    "\n",
    "n =5\n",
    "dof= n-1\n",
    "alpha =0.05\n",
    "chi_critical = chi2.ppf(1-alpha,dof)\n",
    "p_value =1- chi2.cdf(chi_statistic,dof)\n",
    "print(f'chi_critical: {chi_critical}')\n",
    "print(f'p_value: {p_value}')\n",
    "\n",
    "if p_value < alpha :\n",
    "    print(\"reject null hypothesis,There is significance difference between expectation and observation\")\n",
    "    \n",
    "else :\n",
    "    print(\"accept null hypothesis,There is no significance difference between expectation and observation\")\n",
    "\n"
   ]
  },
  {
   "cell_type": "markdown",
   "id": "f91c1634",
   "metadata": {},
   "source": [
    "# Anova"
   ]
  },
  {
   "cell_type": "markdown",
   "id": "9f0e60fc",
   "metadata": {},
   "source": [
    "#Anova\n",
    "\n",
    "#Google, meta, adobe, tcs, zoho\n",
    "\n",
    "## one way anova <br>\n",
    "### Question : <br>\n",
    "Suppose you are studying the effectiveness of three different <br>\n",
    "fertilizers (Fertilizer A, B, and C) on the growth of plants. <br>\n",
    "You have randomly selected 20 plants and divided them into three <br>\n",
    "groups, each treated with one of the fertilizers. After a month, <br>\n",
    "you measure the height of each plant.<br>\n",
    "\n",
    "\n",
    "You can perform a one-way ANOVA to determine if there are statistically <br>\n",
    "significant differences in the mean heights of plants treated with different <br>\n",
    "fertilizers (null hypothesis: the means are equal).<br>"
   ]
  },
  {
   "cell_type": "code",
   "execution_count": 14,
   "id": "09c129ee",
   "metadata": {},
   "outputs": [
    {
     "name": "stdout",
     "output_type": "stream",
     "text": [
      "fertiliizer_A: [10, 9, 12, 15, 15, 9, 14]\n",
      "fertiliizer_B: [17, 9, 17, 10, 10, 11, 13]\n",
      "fertiliizer_C: [9, 10, 10, 9, 10, 9, 10]\n"
     ]
    }
   ],
   "source": [
    "import random\n",
    "fertiliizer_A = [random.randint(9,15) for _ in range(7)]  #anohter way of doing this -- np.random.randint(9,20,size=7)\n",
    "print(f\"fertiliizer_A: {fertiliizer_A}\")\n",
    "\n",
    "fertiliizer_B = [random.randint(9,17) for _ in range(7)]\n",
    "print(f\"fertiliizer_B: {fertiliizer_B}\")\n",
    "\n",
    "      \n",
    "fertiliizer_C= [random.randint(9,10) for _ in range(7)]  \n",
    "print(f\"fertiliizer_C: {fertiliizer_C}\")\n",
    "\n",
    "random.seed(10)\n",
    "\n"
   ]
  },
  {
   "cell_type": "code",
   "execution_count": 13,
   "id": "7a907cf4",
   "metadata": {},
   "outputs": [
    {
     "name": "stdout",
     "output_type": "stream",
     "text": [
      "f_statistic ,p_value :(14.724489795918375, 0.0001627086535284259)\n",
      "reject null hypothesis, there is significance differencce in plant height incriment \n"
     ]
    }
   ],
   "source": [
    "from scipy.stats import f_oneway\n",
    "f_statistic , p_value = f_oneway(fertiliizer_A,fertiliizer_B,fertiliizer_C)\n",
    "print(f\"f_statistic ,p_value :{f_statistic,p_value}\")\n",
    "alpha = 0.05\n",
    "\n",
    "if p_value < alpha :\n",
    "    print('reject null hypothesis, there is significance differencce in plant height incriment ')\n",
    "else :\n",
    "    print(\"accept null hypothes,plant height incriment is same \")"
   ]
  },
  {
   "cell_type": "code",
   "execution_count": 3,
   "id": "418938b9",
   "metadata": {},
   "outputs": [
    {
     "data": {
      "text/plain": [
       "[1, 4, 9]"
      ]
     },
     "execution_count": 3,
     "metadata": {},
     "output_type": "execute_result"
    }
   ],
   "source": [
    "#some tricks\n",
    "a=[1,2,3]\n",
    "a_square = [i**2 for i in a]\n",
    "a_square"
   ]
  },
  {
   "cell_type": "markdown",
   "id": "e22f4cb1",
   "metadata": {},
   "source": [
    "## Two way Anova  -> Wipro, tcs, Amazon, Altassian\n",
    "\n",
    "\n",
    "\n",
    "Suppose you're studying the effects of both gender and \n",
    "education level on income. You collect data from a sample of \n",
    "individuals, recording their gender (male/female) and education \n",
    "level (high school, bachelor's degree, master's degree). Then you \n",
    "measure their annual income.\n",
    "\n",
    "\n",
    "You can perform a two-way ANOVA to determine if there are \n",
    "statistically significant main effects of gender and education \n",
    "level on income, as well as whether there's an interaction effect \n",
    "(i.e., whether the effect of gender on income depends on education \n",
    " level, and vice versa)."
   ]
  },
  {
   "cell_type": "code",
   "execution_count": 24,
   "id": "b608b4ad",
   "metadata": {},
   "outputs": [
    {
     "data": {
      "text/html": [
       "<div>\n",
       "<style scoped>\n",
       "    .dataframe tbody tr th:only-of-type {\n",
       "        vertical-align: middle;\n",
       "    }\n",
       "\n",
       "    .dataframe tbody tr th {\n",
       "        vertical-align: top;\n",
       "    }\n",
       "\n",
       "    .dataframe thead th {\n",
       "        text-align: right;\n",
       "    }\n",
       "</style>\n",
       "<table border=\"1\" class=\"dataframe\">\n",
       "  <thead>\n",
       "    <tr style=\"text-align: right;\">\n",
       "      <th></th>\n",
       "      <th>Gender</th>\n",
       "      <th>Education_level</th>\n",
       "      <th>Income</th>\n",
       "    </tr>\n",
       "  </thead>\n",
       "  <tbody>\n",
       "    <tr>\n",
       "      <th>0</th>\n",
       "      <td>male</td>\n",
       "      <td>high_school</td>\n",
       "      <td>23000</td>\n",
       "    </tr>\n",
       "    <tr>\n",
       "      <th>1</th>\n",
       "      <td>female</td>\n",
       "      <td>bachelor</td>\n",
       "      <td>34000</td>\n",
       "    </tr>\n",
       "    <tr>\n",
       "      <th>2</th>\n",
       "      <td>male</td>\n",
       "      <td>masters</td>\n",
       "      <td>43000</td>\n",
       "    </tr>\n",
       "    <tr>\n",
       "      <th>3</th>\n",
       "      <td>female</td>\n",
       "      <td>high_school</td>\n",
       "      <td>25000</td>\n",
       "    </tr>\n",
       "    <tr>\n",
       "      <th>4</th>\n",
       "      <td>male</td>\n",
       "      <td>masters</td>\n",
       "      <td>56000</td>\n",
       "    </tr>\n",
       "    <tr>\n",
       "      <th>5</th>\n",
       "      <td>female</td>\n",
       "      <td>bachelors</td>\n",
       "      <td>31000</td>\n",
       "    </tr>\n",
       "    <tr>\n",
       "      <th>6</th>\n",
       "      <td>male</td>\n",
       "      <td>masters</td>\n",
       "      <td>45000</td>\n",
       "    </tr>\n",
       "  </tbody>\n",
       "</table>\n",
       "</div>"
      ],
      "text/plain": [
       "   Gender Education_level  Income\n",
       "0    male     high_school   23000\n",
       "1  female        bachelor   34000\n",
       "2    male         masters   43000\n",
       "3  female     high_school   25000\n",
       "4    male         masters   56000\n",
       "5  female       bachelors   31000\n",
       "6    male         masters   45000"
      ]
     },
     "execution_count": 24,
     "metadata": {},
     "output_type": "execute_result"
    }
   ],
   "source": [
    "import pandas as pd\n",
    "data1 = {\"Gender\" : ['male','female','male','female','male','female','male'], \n",
    "        \"Education_level\" : ['high_school','bachelor','masters','high_school','masters','bachelors','masters'],\n",
    "        \"Income\": [23000,34000,43000,25000,56000,31000,45000]}\n",
    "\n",
    "df=pd.DataFrame(data1)\n",
    "df"
   ]
  },
  {
   "cell_type": "code",
   "execution_count": 28,
   "id": "b141abfe",
   "metadata": {},
   "outputs": [
    {
     "name": "stdout",
     "output_type": "stream",
     "text": [
      "model: {<statsmodels.regression.linear_model.RegressionResultsWrapper object at 0x00000213696896C0>}\n"
     ]
    },
    {
     "ename": "ValueError",
     "evalue": "shapes (4,8) and (7,) not aligned: 8 (dim 1) != 7 (dim 0)",
     "output_type": "error",
     "traceback": [
      "\u001b[1;31m---------------------------------------------------------------------------\u001b[0m",
      "\u001b[1;31mValueError\u001b[0m                                Traceback (most recent call last)",
      "Input \u001b[1;32mIn [28]\u001b[0m, in \u001b[0;36m<cell line: 5>\u001b[1;34m()\u001b[0m\n\u001b[0;32m      3\u001b[0m model \u001b[38;5;241m=\u001b[39m ols(\u001b[38;5;124m'\u001b[39m\u001b[38;5;124mIncome ~ Gender + Education_level + Gender:Education_level\u001b[39m\u001b[38;5;124m'\u001b[39m,data\u001b[38;5;241m=\u001b[39mdf)\u001b[38;5;241m.\u001b[39mfit()\n\u001b[0;32m      4\u001b[0m \u001b[38;5;28mprint\u001b[39m(\u001b[38;5;124mf\u001b[39m\u001b[38;5;124m\"\u001b[39m\u001b[38;5;124mmodel:\u001b[39m\u001b[38;5;124m\"\u001b[39m, {model})\n\u001b[1;32m----> 5\u001b[0m anova_results \u001b[38;5;241m=\u001b[39m \u001b[43manova_lm\u001b[49m\u001b[43m(\u001b[49m\u001b[43mmodel\u001b[49m\u001b[43m)\u001b[49m\n\u001b[0;32m      6\u001b[0m anova_results\n",
      "File \u001b[1;32m~\\AppData\\Local\\Programs\\Python\\Python310\\lib\\site-packages\\statsmodels\\stats\\anova.py:353\u001b[0m, in \u001b[0;36manova_lm\u001b[1;34m(*args, **kwargs)\u001b[0m\n\u001b[0;32m    351\u001b[0m \u001b[38;5;28;01mif\u001b[39;00m \u001b[38;5;28mlen\u001b[39m(args) \u001b[38;5;241m==\u001b[39m \u001b[38;5;241m1\u001b[39m:\n\u001b[0;32m    352\u001b[0m     model \u001b[38;5;241m=\u001b[39m args[\u001b[38;5;241m0\u001b[39m]\n\u001b[1;32m--> 353\u001b[0m     \u001b[38;5;28;01mreturn\u001b[39;00m anova_single(model, \u001b[38;5;241m*\u001b[39m\u001b[38;5;241m*\u001b[39mkwargs)\n\u001b[0;32m    355\u001b[0m \u001b[38;5;28;01mif\u001b[39;00m typ \u001b[38;5;129;01mnot\u001b[39;00m \u001b[38;5;129;01min\u001b[39;00m [\u001b[38;5;241m1\u001b[39m, \u001b[38;5;124m\"\u001b[39m\u001b[38;5;124mI\u001b[39m\u001b[38;5;124m\"\u001b[39m]:\n\u001b[0;32m    356\u001b[0m     \u001b[38;5;28;01mraise\u001b[39;00m \u001b[38;5;167;01mValueError\u001b[39;00m(\u001b[38;5;124m\"\u001b[39m\u001b[38;5;124mMultiple models only supported for type I. \u001b[39m\u001b[38;5;124m\"\u001b[39m\n\u001b[0;32m    357\u001b[0m                      \u001b[38;5;124m\"\u001b[39m\u001b[38;5;124mGot type \u001b[39m\u001b[38;5;132;01m%s\u001b[39;00m\u001b[38;5;124m\"\u001b[39m \u001b[38;5;241m%\u001b[39m \u001b[38;5;28mstr\u001b[39m(typ))\n",
      "File \u001b[1;32m~\\AppData\\Local\\Programs\\Python\\Python310\\lib\\site-packages\\statsmodels\\stats\\anova.py:81\u001b[0m, in \u001b[0;36manova_single\u001b[1;34m(model, **kwargs)\u001b[0m\n\u001b[0;32m     78\u001b[0m table \u001b[38;5;241m=\u001b[39m DataFrame(np\u001b[38;5;241m.\u001b[39mzeros((n_rows, \u001b[38;5;241m5\u001b[39m)), columns\u001b[38;5;241m=\u001b[39mnames)\n\u001b[0;32m     80\u001b[0m \u001b[38;5;28;01mif\u001b[39;00m typ \u001b[38;5;129;01min\u001b[39;00m [\u001b[38;5;241m1\u001b[39m, \u001b[38;5;124m\"\u001b[39m\u001b[38;5;124mI\u001b[39m\u001b[38;5;124m\"\u001b[39m]:\n\u001b[1;32m---> 81\u001b[0m     \u001b[38;5;28;01mreturn\u001b[39;00m \u001b[43manova1_lm_single\u001b[49m\u001b[43m(\u001b[49m\u001b[43mmodel\u001b[49m\u001b[43m,\u001b[49m\u001b[43m \u001b[49m\u001b[43mendog\u001b[49m\u001b[43m,\u001b[49m\u001b[43m \u001b[49m\u001b[43mexog\u001b[49m\u001b[43m,\u001b[49m\u001b[43m \u001b[49m\u001b[43mnobs\u001b[49m\u001b[43m,\u001b[49m\u001b[43m \u001b[49m\u001b[43mdesign_info\u001b[49m\u001b[43m,\u001b[49m\u001b[43m \u001b[49m\u001b[43mtable\u001b[49m\u001b[43m,\u001b[49m\n\u001b[0;32m     82\u001b[0m \u001b[43m                            \u001b[49m\u001b[43mn_rows\u001b[49m\u001b[43m,\u001b[49m\u001b[43m \u001b[49m\u001b[43mtest\u001b[49m\u001b[43m,\u001b[49m\u001b[43m \u001b[49m\u001b[43mpr_test\u001b[49m\u001b[43m,\u001b[49m\u001b[43m \u001b[49m\u001b[43mrobust\u001b[49m\u001b[43m)\u001b[49m\n\u001b[0;32m     83\u001b[0m \u001b[38;5;28;01melif\u001b[39;00m typ \u001b[38;5;129;01min\u001b[39;00m [\u001b[38;5;241m2\u001b[39m, \u001b[38;5;124m\"\u001b[39m\u001b[38;5;124mII\u001b[39m\u001b[38;5;124m\"\u001b[39m]:\n\u001b[0;32m     84\u001b[0m     \u001b[38;5;28;01mreturn\u001b[39;00m anova2_lm_single(model, design_info, n_rows, test, pr_test,\n\u001b[0;32m     85\u001b[0m                             robust)\n",
      "File \u001b[1;32m~\\AppData\\Local\\Programs\\Python\\Python310\\lib\\site-packages\\statsmodels\\stats\\anova.py:128\u001b[0m, in \u001b[0;36manova1_lm_single\u001b[1;34m(model, endog, exog, nobs, design_info, table, n_rows, test, pr_test, robust)\u001b[0m\n\u001b[0;32m    125\u001b[0m \u001b[38;5;28;01mfor\u001b[39;00m i,slice_ \u001b[38;5;129;01min\u001b[39;00m \u001b[38;5;28menumerate\u001b[39m(slices):\n\u001b[0;32m    126\u001b[0m     arr[i, slice_] \u001b[38;5;241m=\u001b[39m \u001b[38;5;241m1\u001b[39m\n\u001b[1;32m--> 128\u001b[0m sum_sq \u001b[38;5;241m=\u001b[39m \u001b[43mnp\u001b[49m\u001b[38;5;241;43m.\u001b[39;49m\u001b[43mdot\u001b[49m\u001b[43m(\u001b[49m\u001b[43marr\u001b[49m\u001b[43m,\u001b[49m\u001b[43m \u001b[49m\u001b[43meffects\u001b[49m\u001b[38;5;241;43m*\u001b[39;49m\u001b[38;5;241;43m*\u001b[39;49m\u001b[38;5;241;43m2\u001b[39;49m\u001b[43m)\u001b[49m\n\u001b[0;32m    129\u001b[0m \u001b[38;5;66;03m#NOTE: assumes intercept is first column\u001b[39;00m\n\u001b[0;32m    130\u001b[0m idx \u001b[38;5;241m=\u001b[39m _intercept_idx(design_info)\n",
      "File \u001b[1;32m<__array_function__ internals>:200\u001b[0m, in \u001b[0;36mdot\u001b[1;34m(*args, **kwargs)\u001b[0m\n",
      "\u001b[1;31mValueError\u001b[0m: shapes (4,8) and (7,) not aligned: 8 (dim 1) != 7 (dim 0)"
     ]
    }
   ],
   "source": [
    "from statsmodels.formula.api import ols\n",
    "from statsmodels.stats.anova import anova_lm\n",
    "model = ols('Income ~ Gender + Education_level + Gender:Education_level',data=df).fit()\n",
    "print(f\"model:\", {model})\n",
    "anova_results = anova_lm(model)\n",
    "anova_results\n"
   ]
  },
  {
   "cell_type": "code",
   "execution_count": 30,
   "id": "31ecefe1",
   "metadata": {},
   "outputs": [
    {
     "data": {
      "text/html": [
       "<div>\n",
       "<style scoped>\n",
       "    .dataframe tbody tr th:only-of-type {\n",
       "        vertical-align: middle;\n",
       "    }\n",
       "\n",
       "    .dataframe tbody tr th {\n",
       "        vertical-align: top;\n",
       "    }\n",
       "\n",
       "    .dataframe thead th {\n",
       "        text-align: right;\n",
       "    }\n",
       "</style>\n",
       "<table border=\"1\" class=\"dataframe\">\n",
       "  <thead>\n",
       "    <tr style=\"text-align: right;\">\n",
       "      <th></th>\n",
       "      <th>df</th>\n",
       "      <th>sum_sq</th>\n",
       "      <th>mean_sq</th>\n",
       "      <th>F</th>\n",
       "      <th>PR(&gt;F)</th>\n",
       "    </tr>\n",
       "  </thead>\n",
       "  <tbody>\n",
       "    <tr>\n",
       "      <th>Gender</th>\n",
       "      <td>1.0</td>\n",
       "      <td>9.429762e+07</td>\n",
       "      <td>9.429762e+07</td>\n",
       "      <td>75.438095</td>\n",
       "      <td>0.012998</td>\n",
       "    </tr>\n",
       "    <tr>\n",
       "      <th>Education_level</th>\n",
       "      <td>2.0</td>\n",
       "      <td>4.948333e+08</td>\n",
       "      <td>2.474167e+08</td>\n",
       "      <td>197.933333</td>\n",
       "      <td>0.005027</td>\n",
       "    </tr>\n",
       "    <tr>\n",
       "      <th>Gender:Education_level</th>\n",
       "      <td>2.0</td>\n",
       "      <td>3.218330e+07</td>\n",
       "      <td>1.609165e+07</td>\n",
       "      <td>12.873321</td>\n",
       "      <td>0.072081</td>\n",
       "    </tr>\n",
       "    <tr>\n",
       "      <th>Residual</th>\n",
       "      <td>2.0</td>\n",
       "      <td>2.500000e+06</td>\n",
       "      <td>1.250000e+06</td>\n",
       "      <td>NaN</td>\n",
       "      <td>NaN</td>\n",
       "    </tr>\n",
       "  </tbody>\n",
       "</table>\n",
       "</div>"
      ],
      "text/plain": [
       "                         df        sum_sq       mean_sq           F    PR(>F)\n",
       "Gender                  1.0  9.429762e+07  9.429762e+07   75.438095  0.012998\n",
       "Education_level         2.0  4.948333e+08  2.474167e+08  197.933333  0.005027\n",
       "Gender:Education_level  2.0  3.218330e+07  1.609165e+07   12.873321  0.072081\n",
       "Residual                2.0  2.500000e+06  1.250000e+06         NaN       NaN"
      ]
     },
     "execution_count": 30,
     "metadata": {},
     "output_type": "execute_result"
    }
   ],
   "source": [
    "import pandas as pd\n",
    "from statsmodels.stats.anova import anova_lm\n",
    "from statsmodels.formula.api import ols\n",
    "\n",
    "data = {\"Gender\":['male','female','female','female','male','female','male'],\n",
    "       \"Education_level\":[\"high school\", \"bachelor degree\", \"master degree\",\"master degree\",\"bachelor degree\",\"bachelor degree\",\"master degree\"],\n",
    "       \"Income\":[23000, 35000, 50000,52000,38000,34000,45000]\n",
    "       }\n",
    "\n",
    "df = pd.DataFrame(data)\n",
    "df\n",
    "\n",
    "\n",
    "model = ols('Income ~ Gender + Education_level + Gender:Education_level',data=df).fit()\n",
    "model\n",
    "\n",
    "anova_lm(model)\n",
    "\n"
   ]
  },
  {
   "cell_type": "code",
   "execution_count": 32,
   "id": "827e546c",
   "metadata": {},
   "outputs": [
    {
     "data": {
      "text/plain": [
       "True"
      ]
     },
     "execution_count": 32,
     "metadata": {},
     "output_type": "execute_result"
    }
   ],
   "source": [
    "#PR column give us P_value\n",
    "alpha=0.05\n",
    "\n",
    "0.012998<0.05  "
   ]
  },
  {
   "cell_type": "code",
   "execution_count": 33,
   "id": "91edc285",
   "metadata": {},
   "outputs": [
    {
     "data": {
      "text/plain": [
       "'reject null hypothesis, there is significance difference on salary based on gender'"
      ]
     },
     "execution_count": 33,
     "metadata": {},
     "output_type": "execute_result"
    }
   ],
   "source": [
    "'''reject null hypothesis, there is significance difference on salary based on gender'''"
   ]
  },
  {
   "cell_type": "code",
   "execution_count": 34,
   "id": "b76b03f0",
   "metadata": {},
   "outputs": [
    {
     "data": {
      "text/plain": [
       "True"
      ]
     },
     "execution_count": 34,
     "metadata": {},
     "output_type": "execute_result"
    }
   ],
   "source": [
    "0.005027 < 0.05"
   ]
  },
  {
   "cell_type": "code",
   "execution_count": 35,
   "id": "c85dd12f",
   "metadata": {},
   "outputs": [
    {
     "data": {
      "text/plain": [
       "'reject null hypothesis, there is significance difference on salary based on gender'"
      ]
     },
     "execution_count": 35,
     "metadata": {},
     "output_type": "execute_result"
    }
   ],
   "source": [
    "'''reject null hypothesis, there is significance difference on salary based on education level'''"
   ]
  },
  {
   "cell_type": "code",
   "execution_count": 36,
   "id": "79786b7a",
   "metadata": {},
   "outputs": [
    {
     "data": {
      "text/plain": [
       "False"
      ]
     },
     "execution_count": 36,
     "metadata": {},
     "output_type": "execute_result"
    }
   ],
   "source": [
    "0.072081 < 0.05"
   ]
  },
  {
   "cell_type": "code",
   "execution_count": 38,
   "id": "435eae8f",
   "metadata": {},
   "outputs": [
    {
     "data": {
      "text/plain": [
       "'rejectt null hypothesis, there is no significance difference on salary based on gender and education level'"
      ]
     },
     "execution_count": 38,
     "metadata": {},
     "output_type": "execute_result"
    }
   ],
   "source": [
    "'rejectt null hypothesis, there is no significance difference on salary based on gender and education level'"
   ]
  },
  {
   "cell_type": "code",
   "execution_count": null,
   "id": "b6c0c544",
   "metadata": {},
   "outputs": [],
   "source": []
  }
 ],
 "metadata": {
  "kernelspec": {
   "display_name": "Python 3 (ipykernel)",
   "language": "python",
   "name": "python3"
  },
  "language_info": {
   "codemirror_mode": {
    "name": "ipython",
    "version": 3
   },
   "file_extension": ".py",
   "mimetype": "text/x-python",
   "name": "python",
   "nbconvert_exporter": "python",
   "pygments_lexer": "ipython3",
   "version": "3.10.3"
  }
 },
 "nbformat": 4,
 "nbformat_minor": 5
}
