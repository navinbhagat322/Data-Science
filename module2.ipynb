{
 "cells": [
  {
   "cell_type": "code",
   "execution_count": 6,
   "id": "838d0571",
   "metadata": {},
   "outputs": [
    {
     "name": "stdout",
     "output_type": "stream",
     "text": [
      "enter number 1: 3\n",
      "enter number 2: 3\n",
      "3 is equal to 3\n"
     ]
    }
   ],
   "source": [
    "n1=int(input(\"enter number 1: \"))\n",
    "n2=int(input(\"enter number 2: \"))\n",
    "if n1>n2 :\n",
    "    print(n1,\"is bigger number \")\n",
    "elif n1==n2 :\n",
    "    print(n1,\"is equal to\",n2)\n",
    "else:\n",
    "    print(n2,'is bigger number')"
   ]
  },
  {
   "cell_type": "code",
   "execution_count": null,
   "id": "5790925f",
   "metadata": {},
   "outputs": [],
   "source": []
  }
 ],
 "metadata": {
  "kernelspec": {
   "display_name": "Python 3 (ipykernel)",
   "language": "python",
   "name": "python3"
  },
  "language_info": {
   "codemirror_mode": {
    "name": "ipython",
    "version": 3
   },
   "file_extension": ".py",
   "mimetype": "text/x-python",
   "name": "python",
   "nbconvert_exporter": "python",
   "pygments_lexer": "ipython3",
   "version": "3.10.3"
  }
 },
 "nbformat": 4,
 "nbformat_minor": 5
}
