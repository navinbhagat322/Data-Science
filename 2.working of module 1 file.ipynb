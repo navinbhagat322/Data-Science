{
 "cells": [
  {
   "cell_type": "code",
   "execution_count": 6,
   "id": "a4ebf4db",
   "metadata": {},
   "outputs": [],
   "source": [
    "import module"
   ]
  },
  {
   "cell_type": "code",
   "execution_count": 37,
   "id": "73af5f0a",
   "metadata": {},
   "outputs": [
    {
     "data": {
      "text/plain": [
       "5"
      ]
     },
     "execution_count": 37,
     "metadata": {},
     "output_type": "execute_result"
    }
   ],
   "source": [
    "module.addition(2,3)"
   ]
  },
  {
   "cell_type": "code",
   "execution_count": 38,
   "id": "70262402",
   "metadata": {},
   "outputs": [
    {
     "data": {
      "text/plain": [
       "1"
      ]
     },
     "execution_count": 38,
     "metadata": {},
     "output_type": "execute_result"
    }
   ],
   "source": [
    "module.substraction(5,4)"
   ]
  },
  {
   "cell_type": "code",
   "execution_count": 39,
   "id": "ceba8b88",
   "metadata": {},
   "outputs": [
    {
     "data": {
      "text/plain": [
       "6"
      ]
     },
     "execution_count": 39,
     "metadata": {},
     "output_type": "execute_result"
    }
   ],
   "source": [
    "module.multiplication(2,3)"
   ]
  },
  {
   "cell_type": "code",
   "execution_count": 40,
   "id": "90aa2284",
   "metadata": {},
   "outputs": [
    {
     "data": {
      "text/plain": [
       "0.6666666666666666"
      ]
     },
     "execution_count": 40,
     "metadata": {},
     "output_type": "execute_result"
    }
   ],
   "source": [
    "module.division(2,3)"
   ]
  },
  {
   "cell_type": "code",
   "execution_count": 41,
   "id": "4acb947b",
   "metadata": {},
   "outputs": [
    {
     "data": {
      "text/plain": [
       "5"
      ]
     },
     "execution_count": 41,
     "metadata": {},
     "output_type": "execute_result"
    }
   ],
   "source": [
    "from module import addition\n",
    "addition(2,3)"
   ]
  },
  {
   "cell_type": "code",
   "execution_count": 42,
   "id": "396fd043",
   "metadata": {},
   "outputs": [
    {
     "data": {
      "text/plain": [
       "-1"
      ]
     },
     "execution_count": 42,
     "metadata": {},
     "output_type": "execute_result"
    }
   ],
   "source": [
    "\n",
    "\n",
    "\n",
    "from module import substraction \n",
    "substraction(2,3)"
   ]
  },
  {
   "cell_type": "code",
   "execution_count": 43,
   "id": "f72f16c6",
   "metadata": {},
   "outputs": [
    {
     "data": {
      "text/plain": [
       "6"
      ]
     },
     "execution_count": 43,
     "metadata": {},
     "output_type": "execute_result"
    }
   ],
   "source": [
    "from module import multiplication\n",
    "multiplication(2,3)"
   ]
  },
  {
   "cell_type": "markdown",
   "id": "e58321bc",
   "metadata": {},
   "source": [
    "# Question 6"
   ]
  },
  {
   "cell_type": "code",
   "execution_count": 44,
   "id": "5399f678",
   "metadata": {},
   "outputs": [
    {
     "name": "stdout",
     "output_type": "stream",
     "text": [
      "enter number 1: 3\n",
      "enter number 2: 4\n",
      "4 is bigger number\n"
     ]
    }
   ],
   "source": [
    "n1=int(input(\"enter number 1: \"))\n",
    "n2=int(input(\"enter number 2: \"))\n",
    "if n1>n2 :\n",
    "    print(n1,\"is bigger number \")\n",
    "elif n1==n2 :\n",
    "    print(n1,\"is equal to\",n2)\n",
    "else:\n",
    "    print(n2,'is bigger number')"
   ]
  },
  {
   "cell_type": "markdown",
   "id": "91aaa6e5",
   "metadata": {},
   "source": [
    "### armstrong number"
   ]
  },
  {
   "cell_type": "markdown",
   "id": "59cb20ac",
   "metadata": {},
   "source": [
    "123 <br>\n",
    "number of digit=3 <br>\n",
    "if 1^3 + 2^3 + 3^3 == 123 <br>\n",
    "then 123 is a armstrong number <br>"
   ]
  },
  {
   "cell_type": "code",
   "execution_count": 45,
   "id": "e8ba8625",
   "metadata": {},
   "outputs": [
    {
     "ename": "SyntaxError",
     "evalue": "invalid syntax (3592718110.py, line 3)",
     "output_type": "error",
     "traceback": [
      "\u001b[1;36m  Input \u001b[1;32mIn [45]\u001b[1;36m\u001b[0m\n\u001b[1;33m    if (n1/(10**(n2-1))**n2 + (n1/(10**(n2-1))**n2 :\u001b[0m\n\u001b[1;37m                                                   ^\u001b[0m\n\u001b[1;31mSyntaxError\u001b[0m\u001b[1;31m:\u001b[0m invalid syntax\n"
     ]
    }
   ],
   "source": [
    "n1=input(\"enter number 1: \")\n",
    "n2=len(n1)\n",
    "if (n1/(10**(n2-1))**n2 + (n1/(10**(n2-1))**n2 :\n",
    "print(n2)"
   ]
  },
  {
   "cell_type": "code",
   "execution_count": 46,
   "id": "ff7c4fcd",
   "metadata": {},
   "outputs": [
    {
     "ename": "TypeError",
     "evalue": "object of type 'int' has no len()",
     "output_type": "error",
     "traceback": [
      "\u001b[1;31m---------------------------------------------------------------------------\u001b[0m",
      "\u001b[1;31mTypeError\u001b[0m                                 Traceback (most recent call last)",
      "Input \u001b[1;32mIn [46]\u001b[0m, in \u001b[0;36m<cell line: 3>\u001b[1;34m()\u001b[0m\n\u001b[0;32m      1\u001b[0m x\u001b[38;5;241m=\u001b[39m \u001b[38;5;28mint\u001b[39m(\u001b[38;5;241m1234\u001b[39m)\n\u001b[1;32m----> 3\u001b[0m \u001b[38;5;28;43mlen\u001b[39;49m\u001b[43m(\u001b[49m\u001b[43mx\u001b[49m\u001b[43m)\u001b[49m\n",
      "\u001b[1;31mTypeError\u001b[0m: object of type 'int' has no len()"
     ]
    }
   ],
   "source": [
    "x= int(1234)\n",
    "\n",
    "len(x)"
   ]
  },
  {
   "cell_type": "code",
   "execution_count": 47,
   "id": "2e86aa0f",
   "metadata": {},
   "outputs": [
    {
     "data": {
      "text/plain": [
       "4"
      ]
     },
     "execution_count": 47,
     "metadata": {},
     "output_type": "execute_result"
    }
   ],
   "source": [
    "x= str(1234)\n",
    "\n",
    "len(x)"
   ]
  },
  {
   "cell_type": "code",
   "execution_count": 48,
   "id": "2e8d1f94",
   "metadata": {},
   "outputs": [],
   "source": [
    "list1=[1,2,3,4]  #list contains int data type 1,2,3,4\n",
    "list2=['1','2','3','4'] #list contain string datatype '1','2','3','4'"
   ]
  },
  {
   "cell_type": "code",
   "execution_count": 49,
   "id": "b75cc113",
   "metadata": {},
   "outputs": [
    {
     "data": {
      "text/plain": [
       "'11'"
      ]
     },
     "execution_count": 49,
     "metadata": {},
     "output_type": "execute_result"
    }
   ],
   "source": [
    "'1'*2 #python considering the 1 as a string "
   ]
  },
  {
   "cell_type": "code",
   "execution_count": 50,
   "id": "e8ba6212",
   "metadata": {},
   "outputs": [
    {
     "data": {
      "text/plain": [
       "'44444'"
      ]
     },
     "execution_count": 50,
     "metadata": {},
     "output_type": "execute_result"
    }
   ],
   "source": [
    "'4'*5     # 4 times 5 becoz python considering 4 , 5 times"
   ]
  },
  {
   "cell_type": "markdown",
   "id": "b6eb2dc7",
   "metadata": {},
   "source": [
    "### armstrong number"
   ]
  },
  {
   "cell_type": "code",
   "execution_count": 60,
   "id": "76aa05c3",
   "metadata": {},
   "outputs": [
    {
     "name": "stdout",
     "output_type": "stream",
     "text": [
      "enter the number: 123\n",
      "123 is not a armstrong nummber\n"
     ]
    }
   ],
   "source": [
    "num=int(input(\"enter the number: \"))\n",
    "def armstrong_num(num):\n",
    "    str_num = str(num)\n",
    "    m = len(str_num)\n",
    "    total=0\n",
    "    \n",
    "    for i in str_num:\n",
    "        total = total + (int(i)**m )\n",
    "    if total== num :\n",
    "        print(num,\"armstrong number\")\n",
    "    else:\n",
    "        print(num,\"is not a armstrong nummber\")\n",
    "armstrong_num(num)\n",
    "    \n",
    "\n",
    "    "
   ]
  },
  {
   "cell_type": "markdown",
   "id": "f5a69328",
   "metadata": {},
   "source": [
    "### prime number "
   ]
  },
  {
   "cell_type": "code",
   "execution_count": 23,
   "id": "3cc8c150",
   "metadata": {},
   "outputs": [
    {
     "name": "stdout",
     "output_type": "stream",
     "text": [
      "enter the number: 6\n",
      "6 is a prime number\n"
     ]
    }
   ],
   "source": [
    "num=int(input(\"enter the number: \"))\n",
    "result=[]\n",
    "\n",
    "def store_room_i(num) :\n",
    "    for i in range(num) :\n",
    "        if num % (i+1) == 0 and (i+1 == num or i+1 == 1) :\n",
    "            result.append(i)\n",
    "    return result\n",
    "\n",
    "store_room_i(num)\n",
    "if len(result)==2 :\n",
    "    print(num,\"is a prime number\")\n",
    "else :\n",
    "    print(num,\"is not a prime number\")"
   ]
  },
  {
   "cell_type": "code",
   "execution_count": 28,
   "id": "1172f81b",
   "metadata": {},
   "outputs": [
    {
     "name": "stdout",
     "output_type": "stream",
     "text": [
      "Enter the number: 5\n",
      "5 is a prime number\n"
     ]
    }
   ],
   "source": [
    "num = int(input(\"Enter the number: \"))\n",
    "result = []\n",
    "\n",
    "def store_room_i(num):\n",
    "    for i in range(num):\n",
    "        if num % (i + 1) == 0 :\n",
    "            result.append(i)\n",
    "    return result\n",
    "\n",
    "store_room_i(num)\n",
    "\n",
    "if num <= 1:\n",
    "    print(num, \"is not a prime number\")\n",
    "elif len(result) == 2:\n",
    "    print(num, \"is a prime number\")\n",
    "else:\n",
    "    print(num, \"is not a prime number\")\n"
   ]
  },
  {
   "cell_type": "markdown",
   "id": "a6174107",
   "metadata": {},
   "source": [
    "## python basic handson 3/02/2024 - handson video 2\n"
   ]
  },
  {
   "cell_type": "markdown",
   "id": "fbeb4841",
   "metadata": {},
   "source": [
    "#### Break : if the condition is satisfied then loop is  terminated "
   ]
  },
  {
   "cell_type": "markdown",
   "id": "eb71169c",
   "metadata": {},
   "source": [
    "##### i==4 comparision(matching) operator <br> i=4 assignment operator \n"
   ]
  },
  {
   "cell_type": "code",
   "execution_count": 29,
   "id": "1c76e132",
   "metadata": {},
   "outputs": [
    {
     "name": "stdout",
     "output_type": "stream",
     "text": [
      "0\n",
      "1\n",
      "2\n",
      "3\n",
      "4\n"
     ]
    }
   ],
   "source": [
    "for i in range(10) :\n",
    "    print(i)\n",
    "    if i==4 :\n",
    "        break\n"
   ]
  },
  {
   "cell_type": "markdown",
   "id": "bf53e149",
   "metadata": {},
   "source": [
    "#### continue : to skip any iteration in specific "
   ]
  },
  {
   "cell_type": "code",
   "execution_count": 34,
   "id": "71247ef6",
   "metadata": {},
   "outputs": [
    {
     "name": "stdout",
     "output_type": "stream",
     "text": [
      "0\n",
      "1\n",
      "2\n",
      "3\n",
      "6\n",
      "7\n",
      "8\n",
      "9\n"
     ]
    }
   ],
   "source": [
    "for i in range(10): \n",
    "    if i ==4 or i == 5:\n",
    "        continue\n",
    "    print(i)\n",
    "    \n"
   ]
  },
  {
   "cell_type": "markdown",
   "id": "332501bb",
   "metadata": {},
   "source": [
    "#### pass= it is a place holder which doesn't do anything , where we needed in future we can modify it "
   ]
  },
  {
   "cell_type": "code",
   "execution_count": 36,
   "id": "98265f78",
   "metadata": {},
   "outputs": [
    {
     "name": "stdout",
     "output_type": "stream",
     "text": [
      "0\n",
      "1\n",
      "2\n",
      "3\n",
      "4\n",
      "5\n",
      "6\n",
      "7\n",
      "8\n",
      "9\n"
     ]
    }
   ],
   "source": [
    "for i in range(10): \n",
    "    if i ==4:\n",
    "        pass\n",
    "    print(i)\n",
    "    "
   ]
  },
  {
   "cell_type": "markdown",
   "id": "c7d1586b",
   "metadata": {},
   "source": [
    "## Question 7 , calculator program"
   ]
  },
  {
   "cell_type": "code",
   "execution_count": 3,
   "id": "1ff9cc48",
   "metadata": {},
   "outputs": [
    {
     "name": "stdout",
     "output_type": "stream",
     "text": [
      "division\n",
      "number1 : 40\n",
      "number2 : 4\n",
      "10.0\n"
     ]
    }
   ],
   "source": [
    "operation=input(\"\")\n",
    "num1=int(input(\"number1 : \"))\n",
    "num2=int(input(\"number2 : \"))\n",
    "\n",
    "def calculator_program():\n",
    "    if operation == \"addition\" :\n",
    "        result=num1+num2\n",
    "    elif operation == \"substraction\" :\n",
    "        result=num1-num2\n",
    "    elif operation == \"multiplication\" :\n",
    "        result= num1* num2\n",
    "    elif operation== \"division\" :\n",
    "        result = num1/num2\n",
    "    print(result)\n",
    "calculator_program()"
   ]
  },
  {
   "cell_type": "markdown",
   "id": "bbb6b664",
   "metadata": {},
   "source": [
    "#### Fibbonacci series"
   ]
  },
  {
   "cell_type": "code",
   "execution_count": 17,
   "id": "c5403a5f",
   "metadata": {},
   "outputs": [
    {
     "name": "stdout",
     "output_type": "stream",
     "text": [
      "enter number1: 0\n",
      "enter number2: 1\n",
      "enter the no. of numbers7\n",
      "[0, 1, 1, 2, 3, 5, 8]\n"
     ]
    }
   ],
   "source": [
    "num1=int(input(\"enter number1: \"))\n",
    "num2=int(input(\"enter number2: \"))\n",
    "n=int(input(\"enter the no. of numbers\"))\n",
    "fibb=[]\n",
    "\n",
    "def fibbonacci_series(num1,num2) :\n",
    "    result=0\n",
    "    for i in range(n) :\n",
    "        num1=num2\n",
    "        num2=result\n",
    "        result=num1+num2\n",
    "        fibb.append(num2)\n",
    "    print(fibb)\n",
    "fibbonacci_series(num1,num2)       "
   ]
  },
  {
   "cell_type": "markdown",
   "id": "47af7164",
   "metadata": {},
   "source": [
    "#### method 2 "
   ]
  },
  {
   "cell_type": "code",
   "execution_count": 1,
   "id": "68728f9d",
   "metadata": {},
   "outputs": [
    {
     "name": "stdout",
     "output_type": "stream",
     "text": [
      "0\n"
     ]
    },
    {
     "ename": "UnboundLocalError",
     "evalue": "local variable 'next_term' referenced before assignment",
     "output_type": "error",
     "traceback": [
      "\u001b[1;31m---------------------------------------------------------------------------\u001b[0m",
      "\u001b[1;31mUnboundLocalError\u001b[0m                         Traceback (most recent call last)",
      "Input \u001b[1;32mIn [1]\u001b[0m, in \u001b[0;36m<cell line: 15>\u001b[1;34m()\u001b[0m\n\u001b[0;32m     12\u001b[0m \u001b[38;5;66;03m# Number of terms to be printed\u001b[39;00m\n\u001b[0;32m     13\u001b[0m n_terms \u001b[38;5;241m=\u001b[39m \u001b[38;5;241m10\u001b[39m  \n\u001b[1;32m---> 15\u001b[0m \u001b[43mprint_fibonacci_series\u001b[49m\u001b[43m(\u001b[49m\u001b[43mn_terms\u001b[49m\u001b[43m)\u001b[49m\n",
      "Input \u001b[1;32mIn [1]\u001b[0m, in \u001b[0;36mprint_fibonacci_series\u001b[1;34m(n)\u001b[0m\n\u001b[0;32m      5\u001b[0m     \u001b[38;5;28mprint\u001b[39m(a)\n\u001b[0;32m      7\u001b[0m     a \u001b[38;5;241m=\u001b[39m b\n\u001b[1;32m----> 8\u001b[0m     b \u001b[38;5;241m=\u001b[39m \u001b[43mnext_term\u001b[49m\n\u001b[0;32m      9\u001b[0m     next_term \u001b[38;5;241m=\u001b[39m a \u001b[38;5;241m+\u001b[39m b\n\u001b[0;32m     10\u001b[0m \u001b[38;5;28mprint\u001b[39m()\n",
      "\u001b[1;31mUnboundLocalError\u001b[0m: local variable 'next_term' referenced before assignment"
     ]
    }
   ],
   "source": [
    "def print_fibonacci_series(n):\n",
    "    a = 0\n",
    "    b = 1\n",
    "    for i in range(n):\n",
    "        print(a)\n",
    "        \n",
    "        a = b\n",
    "        b = next_term\n",
    "        next_term = a + b\n",
    "    print()  # For a new line after the series is printed\n",
    "\n",
    "# Number of terms to be printed\n",
    "n_terms = 10  \n",
    "\n",
    "print_fibonacci_series(n_terms)\n",
    "\n"
   ]
  },
  {
   "cell_type": "markdown",
   "id": "8b2f905c",
   "metadata": {},
   "source": [
    "#### result transformation from list to inline format <br> print(' '.join(map(str, fibonacci_list)))\n",
    "\n"
   ]
  },
  {
   "cell_type": "code",
   "execution_count": 19,
   "id": "643ee520",
   "metadata": {},
   "outputs": [
    {
     "name": "stdout",
     "output_type": "stream",
     "text": [
      "0 1 1 2 3 5 8\n"
     ]
    }
   ],
   "source": [
    "print(' '.join(map(str, fibb)))"
   ]
  },
  {
   "cell_type": "code",
   "execution_count": 4,
   "id": "1af0e063",
   "metadata": {},
   "outputs": [
    {
     "name": "stdout",
     "output_type": "stream",
     "text": [
      "enter number1: 0\n",
      "enter number2: 1\n",
      "enter the no. of numbers5\n",
      "1  \n",
      "1  \n",
      "2  \n",
      "3  \n",
      "5  \n"
     ]
    }
   ],
   "source": [
    "num1=int(input(\"enter number1: \"))\n",
    "num2=int(input(\"enter number2: \"))\n",
    "n=int(input(\"enter the no. of numbers: \"))\n",
    "\n",
    "def fibbonacci_series(num1,num2) :\n",
    "    result=0\n",
    "    for i in range(n) :\n",
    "        num1=num2\n",
    "        num2=result\n",
    "        result=num1+num2\n",
    "        print(result,' ')\n",
    "fibbonacci_series(num1,num2) "
   ]
  },
  {
   "cell_type": "markdown",
   "id": "f1dd665f",
   "metadata": {},
   "source": [
    "##### question 9"
   ]
  },
  {
   "cell_type": "markdown",
   "id": "932eb447",
   "metadata": {},
   "source": [
    "create a nested dictionary with values as nested list for each key in the dictionary"
   ]
  },
  {
   "cell_type": "markdown",
   "id": "22843ef3",
   "metadata": {},
   "source": [
    "#the concept\n",
    "dict = {'key1': \"value\"\n",
    "        'key2' : \"value\"\n",
    "       }"
   ]
  },
  {
   "cell_type": "code",
   "execution_count": 7,
   "id": "f8ba3091",
   "metadata": {},
   "outputs": [
    {
     "data": {
      "text/plain": [
       "{'dict1': {'key1': 'value', 'Key2': 'value'},\n",
       " 'dict2': {'key3': 'value3', 'key4': 'value4'}}"
      ]
     },
     "execution_count": 7,
     "metadata": {},
     "output_type": "execute_result"
    }
   ],
   "source": [
    "nest_dict= {'dict1': {'key1':\"value\", 'Key2': \"value\"},\n",
    "            'dict2': {'key3':\"value3\",'key4':\"value4\"}\n",
    "           }\n",
    "nest_dict"
   ]
  },
  {
   "cell_type": "markdown",
   "id": "4d5e99d0",
   "metadata": {},
   "source": [
    "### question 10"
   ]
  },
  {
   "cell_type": "markdown",
   "id": "79617240",
   "metadata": {},
   "source": [
    "create two stes and perform the following \n",
    "\n",
    "1) union of the set  <br>\n",
    "2) intrsection of the  set "
   ]
  },
  {
   "cell_type": "code",
   "execution_count": 15,
   "id": "fc4a1527",
   "metadata": {},
   "outputs": [
    {
     "name": "stdout",
     "output_type": "stream",
     "text": [
      "1 2 3 \n",
      "{'3', '1', '2'}\n"
     ]
    }
   ],
   "source": [
    "\n",
    "set1=set(input().split())\n",
    "print(set1)"
   ]
  },
  {
   "cell_type": "code",
   "execution_count": 20,
   "id": "eab34436",
   "metadata": {},
   "outputs": [
    {
     "name": "stdout",
     "output_type": "stream",
     "text": [
      "enter the string : 1 2 3\n",
      "1 2 3\n",
      "['1', '2', '3']\n"
     ]
    }
   ],
   "source": [
    "string = input(\"enter the string : \")\n",
    "split_string=string.split()  # split 1 ,2 ,3 into ['1','2','3']\n",
    "print(string)\n",
    "print(split_string)\n"
   ]
  },
  {
   "cell_type": "code",
   "execution_count": 21,
   "id": "a18a252e",
   "metadata": {},
   "outputs": [
    {
     "data": {
      "text/plain": [
       "{'1', '2', '3'}"
      ]
     },
     "execution_count": 21,
     "metadata": {},
     "output_type": "execute_result"
    }
   ],
   "source": [
    "set(split_string)"
   ]
  },
  {
   "cell_type": "markdown",
   "id": "567e644d",
   "metadata": {},
   "source": [
    "## now come to the main question "
   ]
  },
  {
   "cell_type": "code",
   "execution_count": 4,
   "id": "b33e2431",
   "metadata": {},
   "outputs": [
    {
     "name": "stdout",
     "output_type": "stream",
     "text": [
      "1 2 3 4\n",
      "2 3 4 5 \n",
      "{'2', '1', '4', '5', '3'}\n",
      "{'2', '3', '4'}\n"
     ]
    }
   ],
   "source": [
    "set1=set(input().split())\n",
    "set2=set(input().split())\n",
    "union=set1.union(set2)\n",
    "intersection=set1.intersection(set2)\n",
    "print(union) \n",
    "\n",
    "print(intersection)"
   ]
  },
  {
   "cell_type": "markdown",
   "id": "7a05d2e3",
   "metadata": {},
   "source": [
    "### 11. create the nested tuple from the dictionary with each item in the tuple as key value pair in the dictionary "
   ]
  },
  {
   "cell_type": "code",
   "execution_count": 7,
   "id": "9ec25f1e",
   "metadata": {},
   "outputs": [
    {
     "name": "stdout",
     "output_type": "stream",
     "text": [
      "{'key1': 'value1=(1,2,3),value2=(5,6)', 'key2': 'value2'}\n"
     ]
    },
    {
     "data": {
      "text/plain": [
       "(('key1', 'value1=(1,2,3),value2=(5,6)'), ('key2', 'value2'))"
      ]
     },
     "execution_count": 7,
     "metadata": {},
     "output_type": "execute_result"
    }
   ],
   "source": [
    "dict={'key1': \"value1=(1,2,3),value2=(5,6)\",\n",
    "      'key2': \"value2\"\n",
    "    }\n",
    "print(dict)\n",
    "tuple(dict.items())"
   ]
  },
  {
   "cell_type": "markdown",
   "id": "b76f96f8",
   "metadata": {},
   "source": [
    "## question 12 "
   ]
  },
  {
   "cell_type": "markdown",
   "id": "9ea87fd6",
   "metadata": {},
   "source": [
    "12. Create a list of the first 50 even natural numbers, and perform the following operations. <br>\n",
    "C. Count the number of elements in the list.<br>\n",
    "d. Reverse the sequence of the list.<br>\n",
    "e. Sort the list in ascending and descending order.<br>\n",
    "f. Get the index value for the element 44, and update the element with the number\n",
    "100.<br>\n",
    "g. Return a copy of the list, with the resulting list containing the square of each\n",
    "element.<br>"
   ]
  },
  {
   "cell_type": "code",
   "execution_count": 9,
   "id": "abb1844d",
   "metadata": {},
   "outputs": [
    {
     "name": "stdout",
     "output_type": "stream",
     "text": [
      "51\n",
      "50\n",
      "49\n",
      "48\n",
      "47\n",
      "46\n",
      "45\n",
      "44\n",
      "43\n",
      "42\n",
      "41\n",
      "40\n",
      "39\n",
      "38\n",
      "37\n",
      "36\n",
      "35\n",
      "34\n",
      "33\n",
      "32\n",
      "31\n",
      "30\n",
      "29\n",
      "28\n",
      "27\n",
      "26\n",
      "25\n",
      "24\n",
      "23\n",
      "22\n",
      "21\n",
      "20\n",
      "19\n",
      "18\n",
      "17\n",
      "16\n",
      "15\n",
      "14\n",
      "13\n",
      "12\n",
      "11\n",
      "10\n",
      "9\n",
      "8\n",
      "7\n",
      "6\n",
      "5\n",
      "4\n",
      "3\n",
      "2\n",
      "1\n",
      "0\n"
     ]
    }
   ],
   "source": [
    "\n",
    "for i in range(51,-1,-1):   #from 51 to 0   , last wala -1 says that on the dicriment of 1 \n",
    "    print(i)\n",
    "   "
   ]
  },
  {
   "cell_type": "code",
   "execution_count": 13,
   "id": "6ccbd28d",
   "metadata": {},
   "outputs": [
    {
     "name": "stdout",
     "output_type": "stream",
     "text": [
      "51 50 49 48 47 46 45 44 43 42 41 40 39 38 37 36 35 34 33 32 31 30 29 28 27 26 25 24 23 22 21 20 19 18 17 16 15 14 13 12 11 10 9 8 7 6 5 4 3 2 1 0 "
     ]
    }
   ],
   "source": [
    "for i in range(51,-1,-1):   #from 51 to 0   , last wala -1 says that on the dicriment of 1 \n",
    "    print(i,end =\" \")"
   ]
  },
  {
   "cell_type": "code",
   "execution_count": 18,
   "id": "456a69c9",
   "metadata": {},
   "outputs": [
    {
     "name": "stdout",
     "output_type": "stream",
     "text": [
      "51, 50, 49, 48, 47, 46, 45, 44, 43, 42, 41, 40, 39, 38, 37, 36, 35, 34, 33, 32, 31, 30, 29, 28, 27, 26, 25, 24, 23, 22, 21, 20, 19, 18, 17, 16, 15, 14, 13, 12, 11, 10, 9, 8, 7, 6, 5, 4, 3, 2, 1, 0\n"
     ]
    }
   ],
   "source": [
    "for i in range(51, -1, -1):\n",
    "    if i > 0:\n",
    "        print(i, end=', ')\n",
    "    else:\n",
    "        print(i)\n"
   ]
  },
  {
   "cell_type": "code",
   "execution_count": 4,
   "id": "8af2ffb0",
   "metadata": {},
   "outputs": [
    {
     "name": "stdout",
     "output_type": "stream",
     "text": [
      "[2, 4, 6, 8, 10, 12, 14, 16, 18, 20, 22, 24, 26, 28, 30, 32, 34, 36, 38, 40, 42, 44, 46, 48, 50, 52, 54, 56, 58, 60, 62, 64, 66, 68, 70, 72, 74, 76, 78, 80, 82, 84, 86, 88, 90, 92, 94, 96, 98, 100]\n"
     ]
    }
   ],
   "source": [
    "list=[]\n",
    "for i in range(51):\n",
    "    list.append(2*i)\n",
    "list.remove(0)\n",
    "print(list)\n"
   ]
  },
  {
   "cell_type": "markdown",
   "id": "27348bed",
   "metadata": {},
   "source": [
    "C. Count the number of elements in the list."
   ]
  },
  {
   "cell_type": "code",
   "execution_count": 8,
   "id": "52880010",
   "metadata": {},
   "outputs": [
    {
     "data": {
      "text/plain": [
       "50"
      ]
     },
     "execution_count": 8,
     "metadata": {},
     "output_type": "execute_result"
    }
   ],
   "source": [
    "len(list)"
   ]
  },
  {
   "cell_type": "markdown",
   "id": "2175b8fd",
   "metadata": {},
   "source": [
    "d. Reverse the sequence of the list."
   ]
  },
  {
   "cell_type": "code",
   "execution_count": 9,
   "id": "d6fd04fa",
   "metadata": {},
   "outputs": [
    {
     "data": {
      "text/plain": [
       "[100,\n",
       " 98,\n",
       " 96,\n",
       " 94,\n",
       " 92,\n",
       " 90,\n",
       " 88,\n",
       " 86,\n",
       " 84,\n",
       " 82,\n",
       " 80,\n",
       " 78,\n",
       " 76,\n",
       " 74,\n",
       " 72,\n",
       " 70,\n",
       " 68,\n",
       " 66,\n",
       " 64,\n",
       " 62,\n",
       " 60,\n",
       " 58,\n",
       " 56,\n",
       " 54,\n",
       " 52,\n",
       " 50,\n",
       " 48,\n",
       " 46,\n",
       " 44,\n",
       " 42,\n",
       " 40,\n",
       " 38,\n",
       " 36,\n",
       " 34,\n",
       " 32,\n",
       " 30,\n",
       " 28,\n",
       " 26,\n",
       " 24,\n",
       " 22,\n",
       " 20,\n",
       " 18,\n",
       " 16,\n",
       " 14,\n",
       " 12,\n",
       " 10,\n",
       " 8,\n",
       " 6,\n",
       " 4,\n",
       " 2]"
      ]
     },
     "execution_count": 9,
     "metadata": {},
     "output_type": "execute_result"
    }
   ],
   "source": [
    "list[::-1]"
   ]
  },
  {
   "cell_type": "code",
   "execution_count": 16,
   "id": "dbe3916c",
   "metadata": {},
   "outputs": [
    {
     "name": "stdout",
     "output_type": "stream",
     "text": [
      "[100, 98, 96, 94, 92, 90, 88, 86, 84, 82, 80, 78, 76, 74, 72, 70, 68, 66, 64, 62, 60, 58, 56, 54, 52, 50, 48, 46, 44, 42, 40, 38, 36, 34, 32, 30, 28, 26, 24, 22, 20, 18, 16, 14, 12, 10, 8, 6, 4, 2]\n"
     ]
    }
   ],
   "source": [
    "list.reverse()\n",
    "print(list)"
   ]
  },
  {
   "cell_type": "code",
   "execution_count": 1,
   "id": "6a7c0be7",
   "metadata": {},
   "outputs": [
    {
     "name": "stdout",
     "output_type": "stream",
     "text": [
      "Reversed list using slicing: list[slice(None, None, -1)]\n"
     ]
    }
   ],
   "source": [
    "# Method 2: Using list slicing to reverse the list and then print it\n",
    "reversed_list_slicing = list[::-1]\n",
    "print(\"Reversed list using slicing:\", reversed_list_slicing)\n"
   ]
  },
  {
   "cell_type": "markdown",
   "id": "186afd2e",
   "metadata": {},
   "source": [
    "### While loop"
   ]
  },
  {
   "cell_type": "code",
   "execution_count": 3,
   "id": "e06f4516",
   "metadata": {},
   "outputs": [
    {
     "name": "stdout",
     "output_type": "stream",
     "text": [
      "2 4 6 8 10 12 14 16 18 20 22 24 26 28 30 32 34 36 38 40 42 44 46 48 50 52 54 56 58 60 62 64 66 68 70 72 74 76 78 80 82 84 86 88 90 92 94 96 98 100 "
     ]
    }
   ],
   "source": [
    "i=2\n",
    "count=0\n",
    "while count<100:\n",
    "    if i%2 ==0 :\n",
    "        print(i, end=\" \")\n",
    "    count+=1\n",
    "    i+=1\n",
    "    \n"
   ]
  },
  {
   "cell_type": "markdown",
   "id": "0dbcdcc9",
   "metadata": {},
   "source": [
    "### Shortcut Way"
   ]
  },
  {
   "cell_type": "code",
   "execution_count": 5,
   "id": "0f1498f7",
   "metadata": {},
   "outputs": [
    {
     "name": "stdout",
     "output_type": "stream",
     "text": [
      "[2, 4, 6, 8, 10, 12, 14, 16, 18, 20, 22, 24, 26, 28, 30, 32, 34, 36, 38, 40, 42, 44, 46, 48, 50, 52, 54, 56, 58, 60, 62, 64, 66, 68, 70, 72, 74, 76, 78, 80, 82, 84, 86, 88, 90, 92, 94, 96, 98, 100]\n"
     ]
    }
   ],
   "source": [
    "# a) 50 natural numbers list \n",
    "even_list=list(range(2,101,2))  #last wala 2 is showing step of 2 \n",
    "print(even_list)"
   ]
  },
  {
   "cell_type": "code",
   "execution_count": 6,
   "id": "29d8f421",
   "metadata": {},
   "outputs": [
    {
     "data": {
      "text/plain": [
       "50"
      ]
     },
     "execution_count": 6,
     "metadata": {},
     "output_type": "execute_result"
    }
   ],
   "source": [
    "# c)number of element\n",
    "len(even_list)"
   ]
  },
  {
   "cell_type": "code",
   "execution_count": 10,
   "id": "4032df8f",
   "metadata": {},
   "outputs": [
    {
     "name": "stdout",
     "output_type": "stream",
     "text": [
      "[100, 98, 96, 94, 92, 90, 88, 86, 84, 82, 80, 78, 76, 74, 72, 70, 68, 66, 64, 62, 60, 58, 56, 54, 52, 50, 48, 46, 44, 42, 40, 38, 36, 34, 32, 30, 28, 26, 24, 22, 20, 18, 16, 14, 12, 10, 8, 6, 4, 2]\n"
     ]
    }
   ],
   "source": [
    "# d) reverse\n",
    "even_list.reverse()\n",
    "print(even_list)"
   ]
  },
  {
   "cell_type": "code",
   "execution_count": 11,
   "id": "30d5b132",
   "metadata": {},
   "outputs": [
    {
     "name": "stdout",
     "output_type": "stream",
     "text": [
      "[2, 4, 6, 8, 10, 12, 14, 16, 18, 20, 22, 24, 26, 28, 30, 32, 34, 36, 38, 40, 42, 44, 46, 48, 50, 52, 54, 56, 58, 60, 62, 64, 66, 68, 70, 72, 74, 76, 78, 80, 82, 84, 86, 88, 90, 92, 94, 96, 98, 100]\n"
     ]
    }
   ],
   "source": [
    "# d) method_2 Reverse\n",
    "new=even_list[:: -1]\n",
    "print(new)"
   ]
  },
  {
   "cell_type": "code",
   "execution_count": 14,
   "id": "d7413db5",
   "metadata": {},
   "outputs": [
    {
     "name": "stdout",
     "output_type": "stream",
     "text": [
      "[2, 4, 6, 8, 10, 12, 14, 16, 18, 20, 22, 24, 26, 28, 30, 32, 34, 36, 38, 40, 42, 44, 46, 48, 50, 52, 54, 56, 58, 60, 62, 64, 66, 68, 70, 72, 74, 76, 78, 80, 82, 84, 86, 88, 90, 92, 94, 96, 98, 100]\n"
     ]
    }
   ],
   "source": [
    "new.sort()\n",
    "print(new)"
   ]
  },
  {
   "cell_type": "code",
   "execution_count": 18,
   "id": "4a332cde",
   "metadata": {},
   "outputs": [
    {
     "name": "stdout",
     "output_type": "stream",
     "text": [
      "[100, 98, 96, 94, 92, 90, 88, 86, 84, 82, 80, 78, 76, 74, 72, 70, 68, 66, 64, 62, 60, 58, 56, 54, 52, 50, 48, 46, 44, 42, 40, 38, 36, 34, 32, 30, 28, 26, 24, 22, 20, 18, 16, 14, 12, 10, 8, 6, 4, 2]\n"
     ]
    }
   ],
   "source": [
    "new.sort(reverse=True)\n",
    "print(new)"
   ]
  },
  {
   "cell_type": "code",
   "execution_count": 24,
   "id": "6f7ad7f7",
   "metadata": {},
   "outputs": [
    {
     "name": "stdout",
     "output_type": "stream",
     "text": [
      "[2, 4, 6, 8, 10, 12, 14, 16, 18, 20, 22, 24, 26, 28, 30, 32, 34, 36, 38, 40, 42, 44, 46, 48, 50, 52, 54, 56, 58, 60, 62, 64, 66, 68, 70, 72, 74, 76, 78, 80, 82, 84, 86, 88, 90, 92, 94, 96, 98, 100]\n",
      "21\n"
     ]
    }
   ],
   "source": [
    "# e)Get the index value for the element 44, and update the element with the number 100.\n",
    "new.reverse()\n",
    "print(new)\n",
    "print(new.index(44))"
   ]
  },
  {
   "cell_type": "code",
   "execution_count": 31,
   "id": "03fc7db2",
   "metadata": {},
   "outputs": [
    {
     "data": {
      "text/plain": [
       "44"
      ]
     },
     "execution_count": 31,
     "metadata": {},
     "output_type": "execute_result"
    }
   ],
   "source": [
    "new[21]"
   ]
  },
  {
   "cell_type": "code",
   "execution_count": 34,
   "id": "e2b99f49",
   "metadata": {},
   "outputs": [
    {
     "name": "stdout",
     "output_type": "stream",
     "text": [
      "[2, 4, 6, 8, 10, 12, 14, 16, 18, 20, 22, 24, 26, 28, 30, 32, 34, 36, 38, 40, 42, 100, 46, 48, 50, 52, 54, 56, 58, 60, 62, 64, 66, 68, 70, 72, 74, 76, 78, 80, 82, 84, 86, 88, 90, 92, 94, 96, 98, 100]\n"
     ]
    }
   ],
   "source": [
    "new[21]= 100\n",
    "print(new)"
   ]
  },
  {
   "cell_type": "code",
   "execution_count": 50,
   "id": "a262153c",
   "metadata": {},
   "outputs": [
    {
     "name": "stdout",
     "output_type": "stream",
     "text": [
      "[4, 16, 36, 64, 100, 144, 196, 256, 324, 400, 484, 576, 676, 784, 900, 1024, 1156, 1296, 1444, 1600, 1764, 10000, 2116, 2304, 2500, 2704, 2916, 3136, 3364, 3600, 3844, 4096, 4356, 4624, 4900, 5184, 5476, 5776, 6084, 6400, 6724, 7056, 7396, 7744, 8100, 8464, 8836, 9216, 9604, 10000]\n"
     ]
    }
   ],
   "source": [
    "# f) square of each element\n",
    "result=[]\n",
    "def square_num() :\n",
    "    for element in new :\n",
    "        answer=element*element\n",
    "        result.append(answer)\n",
    "    return result\n",
    "square_num()\n",
    "print(result)\n"
   ]
  },
  {
   "cell_type": "markdown",
   "id": "a5cd05e8",
   "metadata": {},
   "source": [
    "### Question 13 Dictionary operations"
   ]
  },
  {
   "cell_type": "markdown",
   "id": "42f83f39",
   "metadata": {},
   "source": [
    "13. Create a nested dictionary and perform the following operations. <br>\n",
    "h. Return a list with the key value pairs from the dictionary.<br>\n",
    "i. Return a list with just the keys from the dictionary.<br>\n",
    "j. Remove the first and last key value from the dictionary.<br>\n",
    "k. Update the last key value pair in the dictionary after removing in the 3rd step.<br>"
   ]
  },
  {
   "cell_type": "code",
   "execution_count": 3,
   "id": "ce2b59d7",
   "metadata": {},
   "outputs": [
    {
     "name": "stdout",
     "output_type": "stream",
     "text": [
      "{'d1': {'key1': [1, 2], 'key2': [2, 3]}, 'd2': {'key3': [5, 6], 'key4': [7, 8]}, 'd3': {'key5': [9, 10], 'key6': [11, 12]}}\n"
     ]
    }
   ],
   "source": [
    "nest_dict={ 'd1':{'key1':[1,2],'key2': [2,3]},\n",
    "            'd2':{'key3':[5,6],'key4': [7,8]},                           \n",
    "            'd3':{'key5':[9,10],'key6': [11,12]} }\n",
    "print(nest_dict)"
   ]
  },
  {
   "cell_type": "markdown",
   "id": "2d3041fc",
   "metadata": {},
   "source": [
    "h. Return a list with the key value pairs from the dictionary."
   ]
  },
  {
   "cell_type": "code",
   "execution_count": 4,
   "id": "e6b15bb4",
   "metadata": {},
   "outputs": [
    {
     "data": {
      "text/plain": [
       "[('d1', {'key1': [1, 2], 'key2': [2, 3]}),\n",
       " ('d2', {'key3': [5, 6], 'key4': [7, 8]}),\n",
       " ('d3', {'key5': [9, 10], 'key6': [11, 12]})]"
      ]
     },
     "execution_count": 4,
     "metadata": {},
     "output_type": "execute_result"
    }
   ],
   "source": [
    "list(nest_dict.items())"
   ]
  },
  {
   "cell_type": "markdown",
   "id": "88e0c7b7",
   "metadata": {},
   "source": [
    "i. Return a list with just the keys from the dictionary."
   ]
  },
  {
   "cell_type": "code",
   "execution_count": 5,
   "id": "00b27128",
   "metadata": {},
   "outputs": [
    {
     "data": {
      "text/plain": [
       "['d1', 'd2', 'd3']"
      ]
     },
     "execution_count": 5,
     "metadata": {},
     "output_type": "execute_result"
    }
   ],
   "source": [
    "list(nest_dict.keys())"
   ]
  },
  {
   "cell_type": "markdown",
   "id": "bca90f2a",
   "metadata": {},
   "source": [
    "j. Remove the first and last key value from the dictionary"
   ]
  },
  {
   "cell_type": "code",
   "execution_count": 6,
   "id": "d1c34e1b",
   "metadata": {},
   "outputs": [
    {
     "data": {
      "text/plain": [
       "{'d2': {'key3': [5, 6], 'key4': [7, 8]},\n",
       " 'd3': {'key5': [9, 10], 'key6': [11, 12]}}"
      ]
     },
     "execution_count": 6,
     "metadata": {},
     "output_type": "execute_result"
    }
   ],
   "source": [
    "del nest_dict['d1']\n",
    "nest_dict\n"
   ]
  },
  {
   "cell_type": "code",
   "execution_count": 7,
   "id": "7ace22f6",
   "metadata": {},
   "outputs": [
    {
     "data": {
      "text/plain": [
       "{'d2': {'key3': [5, 6], 'key4': [7, 8]}}"
      ]
     },
     "execution_count": 7,
     "metadata": {},
     "output_type": "execute_result"
    }
   ],
   "source": [
    "del nest_dict['d3']\n",
    "nest_dict"
   ]
  },
  {
   "cell_type": "markdown",
   "id": "621beac7",
   "metadata": {},
   "source": [
    "k. Update the last key value pair in the dictionary after removing in the 3rd step."
   ]
  },
  {
   "cell_type": "code",
   "execution_count": 8,
   "id": "ee5b5b70",
   "metadata": {},
   "outputs": [
    {
     "data": {
      "text/plain": [
       "{'d2': 100}"
      ]
     },
     "execution_count": 8,
     "metadata": {},
     "output_type": "execute_result"
    }
   ],
   "source": [
    "nest_dict['d2']= 100\n",
    "nest_dict"
   ]
  },
  {
   "cell_type": "raw",
   "id": "78cf680c",
   "metadata": {},
   "source": [
    "\n",
    "# 14. For the given strings À = \"Python Programming Language\", B = \"Best in the World\", perform the following operations.\n",
    "           1. Using indexing operations, get the text \"gram\" from the string A. \n",
    "           m. Using indexing operations, get the text \"World\" from the string B.\n",
    "           n. Change the letters in both strings to Uppercase letters.\n",
    "           o. Concatenate the two strings."
   ]
  },
  {
   "cell_type": "code",
   "execution_count": 10,
   "id": "e16e1d01",
   "metadata": {},
   "outputs": [],
   "source": [
    "A =\"Python Programming Language\"\n",
    "B= \" Best in the World\""
   ]
  },
  {
   "cell_type": "code",
   "execution_count": 13,
   "id": "77af017e",
   "metadata": {},
   "outputs": [
    {
     "name": "stdout",
     "output_type": "stream",
     "text": [
      "gram\n"
     ]
    }
   ],
   "source": [
    "print(A[10:14])"
   ]
  },
  {
   "cell_type": "code",
   "execution_count": 17,
   "id": "56fab82f",
   "metadata": {},
   "outputs": [
    {
     "name": "stdout",
     "output_type": "stream",
     "text": [
      " World\n"
     ]
    }
   ],
   "source": [
    "print(B[12:18])"
   ]
  },
  {
   "cell_type": "code",
   "execution_count": 20,
   "id": "4a352710",
   "metadata": {},
   "outputs": [
    {
     "name": "stdout",
     "output_type": "stream",
     "text": [
      "World\n"
     ]
    }
   ],
   "source": [
    "print(B[-5:])"
   ]
  },
  {
   "cell_type": "code",
   "execution_count": 21,
   "id": "b63c8932",
   "metadata": {},
   "outputs": [
    {
     "data": {
      "text/plain": [
       "'PYTHON PROGRAMMING LANGUAGE'"
      ]
     },
     "execution_count": 21,
     "metadata": {},
     "output_type": "execute_result"
    }
   ],
   "source": [
    "A.upper()"
   ]
  },
  {
   "cell_type": "code",
   "execution_count": 22,
   "id": "74278e8b",
   "metadata": {},
   "outputs": [
    {
     "data": {
      "text/plain": [
       "' BEST IN THE WORLD'"
      ]
     },
     "execution_count": 22,
     "metadata": {},
     "output_type": "execute_result"
    }
   ],
   "source": [
    "B.upper()"
   ]
  },
  {
   "cell_type": "code",
   "execution_count": 23,
   "id": "e5179bd2",
   "metadata": {},
   "outputs": [
    {
     "name": "stdout",
     "output_type": "stream",
     "text": [
      "Python Programming Language  Best in the World\n"
     ]
    }
   ],
   "source": [
    "print(A,B)"
   ]
  },
  {
   "cell_type": "markdown",
   "id": "b80621e1",
   "metadata": {},
   "source": [
    "###  15 : create a list with n numbers, and using negative indexing return the list starting from the 5th index to the n-2 th index"
   ]
  },
  {
   "cell_type": "code",
   "execution_count": 31,
   "id": "14ffbded",
   "metadata": {},
   "outputs": [
    {
     "name": "stdout",
     "output_type": "stream",
     "text": [
      "10\n",
      "[0, 1, 2, 3, 4, 5, 6, 7, 8, 9]\n"
     ]
    }
   ],
   "source": [
    "n=int(input(\"\"))\n",
    "lit=[]\n",
    "for i in range(n):\n",
    "    lit.append(i)\n",
    "print(lit)"
   ]
  },
  {
   "cell_type": "code",
   "execution_count": 4,
   "id": "73405645",
   "metadata": {},
   "outputs": [
    {
     "name": "stdout",
     "output_type": "stream",
     "text": [
      "[1, 2, 3, 4, 5, 6, 7, 8, 9, 10, 11, 12, 13, 14, 15, 16, 17, 18, 19, 20]\n"
     ]
    }
   ],
   "source": [
    "l=list(range(1,21,1))\n",
    "print(l)"
   ]
  },
  {
   "cell_type": "code",
   "execution_count": 6,
   "id": "97bbb109",
   "metadata": {},
   "outputs": [
    {
     "data": {
      "text/plain": [
       "[5, 6, 7, 8, 9, 10, 11, 12, 13, 14, 15, 16, 17, 18]"
      ]
     },
     "execution_count": 6,
     "metadata": {},
     "output_type": "execute_result"
    }
   ],
   "source": [
    "l[-16:-2]"
   ]
  },
  {
   "cell_type": "markdown",
   "id": "3594f325",
   "metadata": {},
   "source": [
    "### 16 : using range() create a list with number ranging from 5-100, and the number of elemetnts should be exactly 16"
   ]
  },
  {
   "cell_type": "code",
   "execution_count": 9,
   "id": "c400147b",
   "metadata": {},
   "outputs": [
    {
     "name": "stdout",
     "output_type": "stream",
     "text": [
      "[5, 11, 17, 23, 29, 35, 41, 47, 53, 59, 65, 71, 77, 83, 89, 95]\n"
     ]
    }
   ],
   "source": [
    "l=list(range(5,100,6))\n",
    "print(l)"
   ]
  },
  {
   "cell_type": "code",
   "execution_count": 10,
   "id": "8f7c610e",
   "metadata": {},
   "outputs": [
    {
     "name": "stdout",
     "output_type": "stream",
     "text": [
      "16\n"
     ]
    }
   ],
   "source": [
    "print(len(l))"
   ]
  },
  {
   "cell_type": "code",
   "execution_count": null,
   "id": "0cd14995",
   "metadata": {},
   "outputs": [],
   "source": []
  }
 ],
 "metadata": {
  "kernelspec": {
   "display_name": "Python 3 (ipykernel)",
   "language": "python",
   "name": "python3"
  },
  "language_info": {
   "codemirror_mode": {
    "name": "ipython",
    "version": 3
   },
   "file_extension": ".py",
   "mimetype": "text/x-python",
   "name": "python",
   "nbconvert_exporter": "python",
   "pygments_lexer": "ipython3",
   "version": "3.10.3"
  }
 },
 "nbformat": 4,
 "nbformat_minor": 5
}
